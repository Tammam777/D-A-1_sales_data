{
 "cells": [
  {
   "cell_type": "code",
   "execution_count": 639,
   "metadata": {},
   "outputs": [],
   "source": [
    "import pandas as pd\n",
    "import numpy as np\n",
    "import matplotlib.pyplot as plt\n",
    "import seaborn as sns\n",
    "import plotly_express as px\n",
    "\n",
    "pd.options.display.float_format='{:.2f}'.format\n",
    "pd.options.display.max_rows=None\n",
    "pd.options.display.max_columns=None\n",
    "sns.set()"
   ]
  },
  {
   "cell_type": "code",
   "execution_count": 640,
   "metadata": {},
   "outputs": [],
   "source": [
    "\n",
    "\n",
    "def wrangle(filename, encoding=None, date_column=None, dropna_nan_columns=[],dropna_nan_columns0=False, change_column_name={}, drop_duplicates_columns=None ):\n",
    "    global df\n",
    "    df = pd.read_csv(filename, encoding=encoding)  #0. Load the dataset\n",
    "\n",
    "    #1. Clean column names: remove spaces and convert to lowercase\n",
    "    df.columns = df.columns.str.strip().str.lower()\n",
    "\n",
    "    #2. convert space to _\n",
    "    df.columns=df.columns.str.replace(' ','_')\n",
    "\n",
    "\n",
    "    #3- Convert the specified column to datetime if provided\n",
    "    if date_column:\n",
    "        df[date_column] = pd.to_datetime(df[date_column]) \n",
    "\n",
    "    #4- Drop all columns that contain only NaN values    \n",
    "    if dropna_nan_columns0:\n",
    "        df=df.dropna(axis=1 , how='all')    \n",
    "    \n",
    "    #5- Drop rows with NaN values in the specified columns\n",
    "    if dropna_nan_columns:\n",
    "        df.dropna(subset=dropna_nan_columns, inplace=True)\n",
    "    \n",
    "    #6- Rename columns if a mapping is provided\n",
    "    if change_column_name:\n",
    "        df.rename(columns=change_column_name, inplace=True)\n",
    "    \n",
    "    #7- Remove duplicate rows based on specified columns\n",
    "    if drop_duplicates_columns:\n",
    "        df.drop_duplicates(subset=drop_duplicates_columns, inplace=True)\n",
    "\n",
    "    return df\n"
   ]
  },
  {
   "cell_type": "code",
   "execution_count": 641,
   "metadata": {},
   "outputs": [
    {
     "name": "stdout",
     "output_type": "stream",
     "text": [
      "<class 'pandas.core.frame.DataFrame'>\n",
      "RangeIndex: 200 entries, 0 to 199\n",
      "Data columns (total 10 columns):\n",
      " #   Column           Non-Null Count  Dtype         \n",
      "---  ------           --------------  -----         \n",
      " 0   product_id       200 non-null    object        \n",
      " 1   store_id         200 non-null    object        \n",
      " 2   region           200 non-null    object        \n",
      " 3   date             200 non-null    datetime64[ns]\n",
      " 4   units_sold       200 non-null    int64         \n",
      " 5   revenue          200 non-null    float64       \n",
      " 6   cost             200 non-null    float64       \n",
      " 7   profit           200 non-null    float64       \n",
      " 8   customer_rating  200 non-null    float64       \n",
      " 9   promotions_used  200 non-null    int64         \n",
      "dtypes: datetime64[ns](1), float64(4), int64(2), object(3)\n",
      "memory usage: 15.8+ KB\n"
     ]
    }
   ],
   "source": [
    "df=wrangle('apple_sales_data.csv',date_column='date')\n",
    "df.info()"
   ]
  },
  {
   "cell_type": "code",
   "execution_count": 642,
   "metadata": {},
   "outputs": [
    {
     "data": {
      "text/html": [
       "<div>\n",
       "<style scoped>\n",
       "    .dataframe tbody tr th:only-of-type {\n",
       "        vertical-align: middle;\n",
       "    }\n",
       "\n",
       "    .dataframe tbody tr th {\n",
       "        vertical-align: top;\n",
       "    }\n",
       "\n",
       "    .dataframe thead th {\n",
       "        text-align: right;\n",
       "    }\n",
       "</style>\n",
       "<table border=\"1\" class=\"dataframe\">\n",
       "  <thead>\n",
       "    <tr style=\"text-align: right;\">\n",
       "      <th></th>\n",
       "      <th>product_id</th>\n",
       "      <th>store_id</th>\n",
       "      <th>region</th>\n",
       "      <th>date</th>\n",
       "      <th>units_sold</th>\n",
       "      <th>revenue</th>\n",
       "      <th>cost</th>\n",
       "      <th>profit</th>\n",
       "      <th>customer_rating</th>\n",
       "      <th>promotions_used</th>\n",
       "    </tr>\n",
       "  </thead>\n",
       "  <tbody>\n",
       "    <tr>\n",
       "      <th>46</th>\n",
       "      <td>P8500</td>\n",
       "      <td>S30</td>\n",
       "      <td>South</td>\n",
       "      <td>2024-02-16</td>\n",
       "      <td>218</td>\n",
       "      <td>5782.31</td>\n",
       "      <td>6445.26</td>\n",
       "      <td>1609.41</td>\n",
       "      <td>2.08</td>\n",
       "      <td>3</td>\n",
       "    </tr>\n",
       "    <tr>\n",
       "      <th>97</th>\n",
       "      <td>P5131</td>\n",
       "      <td>S46</td>\n",
       "      <td>East</td>\n",
       "      <td>2024-04-07</td>\n",
       "      <td>264</td>\n",
       "      <td>7624.37</td>\n",
       "      <td>3599.11</td>\n",
       "      <td>477.21</td>\n",
       "      <td>3.98</td>\n",
       "      <td>5</td>\n",
       "    </tr>\n",
       "    <tr>\n",
       "      <th>40</th>\n",
       "      <td>P6534</td>\n",
       "      <td>S31</td>\n",
       "      <td>East</td>\n",
       "      <td>2024-02-10</td>\n",
       "      <td>320</td>\n",
       "      <td>8993.18</td>\n",
       "      <td>6743.48</td>\n",
       "      <td>149.68</td>\n",
       "      <td>4.99</td>\n",
       "      <td>1</td>\n",
       "    </tr>\n",
       "    <tr>\n",
       "      <th>176</th>\n",
       "      <td>P1492</td>\n",
       "      <td>S9</td>\n",
       "      <td>West</td>\n",
       "      <td>2024-06-25</td>\n",
       "      <td>382</td>\n",
       "      <td>8462.10</td>\n",
       "      <td>1421.73</td>\n",
       "      <td>1173.20</td>\n",
       "      <td>3.48</td>\n",
       "      <td>5</td>\n",
       "    </tr>\n",
       "    <tr>\n",
       "      <th>21</th>\n",
       "      <td>P1287</td>\n",
       "      <td>S9</td>\n",
       "      <td>West</td>\n",
       "      <td>2024-01-22</td>\n",
       "      <td>187</td>\n",
       "      <td>1425.01</td>\n",
       "      <td>7568.00</td>\n",
       "      <td>1933.52</td>\n",
       "      <td>3.91</td>\n",
       "      <td>3</td>\n",
       "    </tr>\n",
       "    <tr>\n",
       "      <th>7</th>\n",
       "      <td>P6242</td>\n",
       "      <td>S36</td>\n",
       "      <td>East</td>\n",
       "      <td>2024-01-08</td>\n",
       "      <td>418</td>\n",
       "      <td>5775.77</td>\n",
       "      <td>7516.88</td>\n",
       "      <td>866.10</td>\n",
       "      <td>1.15</td>\n",
       "      <td>2</td>\n",
       "    </tr>\n",
       "    <tr>\n",
       "      <th>18</th>\n",
       "      <td>P9041</td>\n",
       "      <td>S16</td>\n",
       "      <td>West</td>\n",
       "      <td>2024-01-19</td>\n",
       "      <td>496</td>\n",
       "      <td>8616.28</td>\n",
       "      <td>878.85</td>\n",
       "      <td>1598.62</td>\n",
       "      <td>1.89</td>\n",
       "      <td>1</td>\n",
       "    </tr>\n",
       "    <tr>\n",
       "      <th>115</th>\n",
       "      <td>P2258</td>\n",
       "      <td>S39</td>\n",
       "      <td>West</td>\n",
       "      <td>2024-04-25</td>\n",
       "      <td>416</td>\n",
       "      <td>7521.95</td>\n",
       "      <td>3354.70</td>\n",
       "      <td>1131.87</td>\n",
       "      <td>1.30</td>\n",
       "      <td>2</td>\n",
       "    </tr>\n",
       "    <tr>\n",
       "      <th>61</th>\n",
       "      <td>P3082</td>\n",
       "      <td>S47</td>\n",
       "      <td>South</td>\n",
       "      <td>2024-03-02</td>\n",
       "      <td>219</td>\n",
       "      <td>9175.27</td>\n",
       "      <td>977.24</td>\n",
       "      <td>412.83</td>\n",
       "      <td>2.50</td>\n",
       "      <td>1</td>\n",
       "    </tr>\n",
       "    <tr>\n",
       "      <th>183</th>\n",
       "      <td>P1016</td>\n",
       "      <td>S9</td>\n",
       "      <td>South</td>\n",
       "      <td>2024-07-02</td>\n",
       "      <td>314</td>\n",
       "      <td>3126.97</td>\n",
       "      <td>558.94</td>\n",
       "      <td>513.68</td>\n",
       "      <td>1.80</td>\n",
       "      <td>5</td>\n",
       "    </tr>\n",
       "  </tbody>\n",
       "</table>\n",
       "</div>"
      ],
      "text/plain": [
       "    product_id store_id region       date  units_sold  revenue    cost  \\\n",
       "46       P8500      S30  South 2024-02-16         218  5782.31 6445.26   \n",
       "97       P5131      S46   East 2024-04-07         264  7624.37 3599.11   \n",
       "40       P6534      S31   East 2024-02-10         320  8993.18 6743.48   \n",
       "176      P1492       S9   West 2024-06-25         382  8462.10 1421.73   \n",
       "21       P1287       S9   West 2024-01-22         187  1425.01 7568.00   \n",
       "7        P6242      S36   East 2024-01-08         418  5775.77 7516.88   \n",
       "18       P9041      S16   West 2024-01-19         496  8616.28  878.85   \n",
       "115      P2258      S39   West 2024-04-25         416  7521.95 3354.70   \n",
       "61       P3082      S47  South 2024-03-02         219  9175.27  977.24   \n",
       "183      P1016       S9  South 2024-07-02         314  3126.97  558.94   \n",
       "\n",
       "     profit  customer_rating  promotions_used  \n",
       "46  1609.41             2.08                3  \n",
       "97   477.21             3.98                5  \n",
       "40   149.68             4.99                1  \n",
       "176 1173.20             3.48                5  \n",
       "21  1933.52             3.91                3  \n",
       "7    866.10             1.15                2  \n",
       "18  1598.62             1.89                1  \n",
       "115 1131.87             1.30                2  \n",
       "61   412.83             2.50                1  \n",
       "183  513.68             1.80                5  "
      ]
     },
     "execution_count": 642,
     "metadata": {},
     "output_type": "execute_result"
    }
   ],
   "source": [
    "df.sample(10)"
   ]
  },
  {
   "cell_type": "markdown",
   "metadata": {},
   "source": [
    "# Profit column correction\n"
   ]
  },
  {
   "cell_type": "code",
   "execution_count": 643,
   "metadata": {},
   "outputs": [
    {
     "data": {
      "text/html": [
       "<div>\n",
       "<style scoped>\n",
       "    .dataframe tbody tr th:only-of-type {\n",
       "        vertical-align: middle;\n",
       "    }\n",
       "\n",
       "    .dataframe tbody tr th {\n",
       "        vertical-align: top;\n",
       "    }\n",
       "\n",
       "    .dataframe thead th {\n",
       "        text-align: right;\n",
       "    }\n",
       "</style>\n",
       "<table border=\"1\" class=\"dataframe\">\n",
       "  <thead>\n",
       "    <tr style=\"text-align: right;\">\n",
       "      <th></th>\n",
       "      <th>product_id</th>\n",
       "      <th>store_id</th>\n",
       "      <th>region</th>\n",
       "      <th>date</th>\n",
       "      <th>units_sold</th>\n",
       "      <th>revenue</th>\n",
       "      <th>cost</th>\n",
       "      <th>profit</th>\n",
       "      <th>customer_rating</th>\n",
       "      <th>promotions_used</th>\n",
       "    </tr>\n",
       "  </thead>\n",
       "  <tbody>\n",
       "    <tr>\n",
       "      <th>0</th>\n",
       "      <td>P9481</td>\n",
       "      <td>S31</td>\n",
       "      <td>North</td>\n",
       "      <td>2024-01-01</td>\n",
       "      <td>134</td>\n",
       "      <td>5859.33</td>\n",
       "      <td>5389.78</td>\n",
       "      <td>469.56</td>\n",
       "      <td>4.11</td>\n",
       "      <td>0</td>\n",
       "    </tr>\n",
       "    <tr>\n",
       "      <th>1</th>\n",
       "      <td>P5794</td>\n",
       "      <td>S29</td>\n",
       "      <td>North</td>\n",
       "      <td>2024-01-02</td>\n",
       "      <td>179</td>\n",
       "      <td>1216.38</td>\n",
       "      <td>2258.72</td>\n",
       "      <td>-1042.34</td>\n",
       "      <td>2.35</td>\n",
       "      <td>5</td>\n",
       "    </tr>\n",
       "    <tr>\n",
       "      <th>2</th>\n",
       "      <td>P2810</td>\n",
       "      <td>S14</td>\n",
       "      <td>East</td>\n",
       "      <td>2024-01-03</td>\n",
       "      <td>417</td>\n",
       "      <td>8207.84</td>\n",
       "      <td>6360.24</td>\n",
       "      <td>1847.60</td>\n",
       "      <td>1.09</td>\n",
       "      <td>5</td>\n",
       "    </tr>\n",
       "    <tr>\n",
       "      <th>3</th>\n",
       "      <td>P9069</td>\n",
       "      <td>S43</td>\n",
       "      <td>West</td>\n",
       "      <td>2024-01-04</td>\n",
       "      <td>250</td>\n",
       "      <td>1299.71</td>\n",
       "      <td>6263.57</td>\n",
       "      <td>-4963.86</td>\n",
       "      <td>3.38</td>\n",
       "      <td>4</td>\n",
       "    </tr>\n",
       "    <tr>\n",
       "      <th>4</th>\n",
       "      <td>P8196</td>\n",
       "      <td>S33</td>\n",
       "      <td>East</td>\n",
       "      <td>2024-01-05</td>\n",
       "      <td>454</td>\n",
       "      <td>4036.91</td>\n",
       "      <td>5675.40</td>\n",
       "      <td>-1638.50</td>\n",
       "      <td>4.29</td>\n",
       "      <td>0</td>\n",
       "    </tr>\n",
       "  </tbody>\n",
       "</table>\n",
       "</div>"
      ],
      "text/plain": [
       "  product_id store_id region       date  units_sold  revenue    cost   profit  \\\n",
       "0      P9481      S31  North 2024-01-01         134  5859.33 5389.78   469.56   \n",
       "1      P5794      S29  North 2024-01-02         179  1216.38 2258.72 -1042.34   \n",
       "2      P2810      S14   East 2024-01-03         417  8207.84 6360.24  1847.60   \n",
       "3      P9069      S43   West 2024-01-04         250  1299.71 6263.57 -4963.86   \n",
       "4      P8196      S33   East 2024-01-05         454  4036.91 5675.40 -1638.50   \n",
       "\n",
       "   customer_rating  promotions_used  \n",
       "0             4.11                0  \n",
       "1             2.35                5  \n",
       "2             1.09                5  \n",
       "3             3.38                4  \n",
       "4             4.29                0  "
      ]
     },
     "execution_count": 643,
     "metadata": {},
     "output_type": "execute_result"
    }
   ],
   "source": [
    "df['profit']=df['revenue']-df['cost']\n",
    "df.head()"
   ]
  },
  {
   "cell_type": "markdown",
   "metadata": {},
   "source": [
    "# Identify which region generates the highest total revenue.\n"
   ]
  },
  {
   "cell_type": "code",
   "execution_count": 644,
   "metadata": {},
   "outputs": [
    {
     "data": {
      "text/plain": [
       "region\n",
       "South   407593.47\n",
       "West    256317.41\n",
       "East    240980.01\n",
       "North   172069.15\n",
       "Name: revenue, dtype: float64"
      ]
     },
     "execution_count": 644,
     "metadata": {},
     "output_type": "execute_result"
    }
   ],
   "source": [
    "df1=df.groupby('region')['revenue'].sum().sort_values(ascending=False)\n",
    "df1"
   ]
  },
  {
   "cell_type": "code",
   "execution_count": 645,
   "metadata": {},
   "outputs": [
    {
     "data": {
      "image/png": "[encoded data removed]",
      "text/plain": [
       "<Figure size 640x480 with 1 Axes>"
      ]
     },
     "metadata": {},
     "output_type": "display_data"
    }
   ],
   "source": [
    "df1.plot(kind='bar' , x='region' , y='revenue' , color='red' , edgecolor='black')\n",
    "plt.title('Total Revenue by Region')\n",
    "plt.xlabel('Region')\n",
    "plt.ylabel('Revenue')\n",
    "plt.grid(axis='y', linestyle='--', alpha=0.7)\n",
    "plt.tight_layout()\n",
    "plt.show()"
   ]
  },
  {
   "cell_type": "markdown",
   "metadata": {},
   "source": [
    "# Profit Margin Analysis: Calculate the profit margin for each row and determine the average profit margin across all sales."
   ]
  },
  {
   "cell_type": "code",
   "execution_count": 646,
   "metadata": {},
   "outputs": [
    {
     "data": {
      "text/html": [
       "<div>\n",
       "<style scoped>\n",
       "    .dataframe tbody tr th:only-of-type {\n",
       "        vertical-align: middle;\n",
       "    }\n",
       "\n",
       "    .dataframe tbody tr th {\n",
       "        vertical-align: top;\n",
       "    }\n",
       "\n",
       "    .dataframe thead th {\n",
       "        text-align: right;\n",
       "    }\n",
       "</style>\n",
       "<table border=\"1\" class=\"dataframe\">\n",
       "  <thead>\n",
       "    <tr style=\"text-align: right;\">\n",
       "      <th></th>\n",
       "      <th>product_id</th>\n",
       "      <th>store_id</th>\n",
       "      <th>region</th>\n",
       "      <th>date</th>\n",
       "      <th>units_sold</th>\n",
       "      <th>revenue</th>\n",
       "      <th>cost</th>\n",
       "      <th>profit</th>\n",
       "      <th>customer_rating</th>\n",
       "      <th>promotions_used</th>\n",
       "    </tr>\n",
       "  </thead>\n",
       "  <tbody>\n",
       "    <tr>\n",
       "      <th>0</th>\n",
       "      <td>P9481</td>\n",
       "      <td>S31</td>\n",
       "      <td>North</td>\n",
       "      <td>2024-01-01</td>\n",
       "      <td>134</td>\n",
       "      <td>5859.33</td>\n",
       "      <td>5389.78</td>\n",
       "      <td>469.56</td>\n",
       "      <td>4.11</td>\n",
       "      <td>0</td>\n",
       "    </tr>\n",
       "    <tr>\n",
       "      <th>1</th>\n",
       "      <td>P5794</td>\n",
       "      <td>S29</td>\n",
       "      <td>North</td>\n",
       "      <td>2024-01-02</td>\n",
       "      <td>179</td>\n",
       "      <td>1216.38</td>\n",
       "      <td>2258.72</td>\n",
       "      <td>-1042.34</td>\n",
       "      <td>2.35</td>\n",
       "      <td>5</td>\n",
       "    </tr>\n",
       "    <tr>\n",
       "      <th>2</th>\n",
       "      <td>P2810</td>\n",
       "      <td>S14</td>\n",
       "      <td>East</td>\n",
       "      <td>2024-01-03</td>\n",
       "      <td>417</td>\n",
       "      <td>8207.84</td>\n",
       "      <td>6360.24</td>\n",
       "      <td>1847.60</td>\n",
       "      <td>1.09</td>\n",
       "      <td>5</td>\n",
       "    </tr>\n",
       "    <tr>\n",
       "      <th>3</th>\n",
       "      <td>P9069</td>\n",
       "      <td>S43</td>\n",
       "      <td>West</td>\n",
       "      <td>2024-01-04</td>\n",
       "      <td>250</td>\n",
       "      <td>1299.71</td>\n",
       "      <td>6263.57</td>\n",
       "      <td>-4963.86</td>\n",
       "      <td>3.38</td>\n",
       "      <td>4</td>\n",
       "    </tr>\n",
       "    <tr>\n",
       "      <th>4</th>\n",
       "      <td>P8196</td>\n",
       "      <td>S33</td>\n",
       "      <td>East</td>\n",
       "      <td>2024-01-05</td>\n",
       "      <td>454</td>\n",
       "      <td>4036.91</td>\n",
       "      <td>5675.40</td>\n",
       "      <td>-1638.50</td>\n",
       "      <td>4.29</td>\n",
       "      <td>0</td>\n",
       "    </tr>\n",
       "  </tbody>\n",
       "</table>\n",
       "</div>"
      ],
      "text/plain": [
       "  product_id store_id region       date  units_sold  revenue    cost   profit  \\\n",
       "0      P9481      S31  North 2024-01-01         134  5859.33 5389.78   469.56   \n",
       "1      P5794      S29  North 2024-01-02         179  1216.38 2258.72 -1042.34   \n",
       "2      P2810      S14   East 2024-01-03         417  8207.84 6360.24  1847.60   \n",
       "3      P9069      S43   West 2024-01-04         250  1299.71 6263.57 -4963.86   \n",
       "4      P8196      S33   East 2024-01-05         454  4036.91 5675.40 -1638.50   \n",
       "\n",
       "   customer_rating  promotions_used  \n",
       "0             4.11                0  \n",
       "1             2.35                5  \n",
       "2             1.09                5  \n",
       "3             3.38                4  \n",
       "4             4.29                0  "
      ]
     },
     "execution_count": 646,
     "metadata": {},
     "output_type": "execute_result"
    }
   ],
   "source": [
    "df.head()"
   ]
  },
  {
   "cell_type": "code",
   "execution_count": 647,
   "metadata": {},
   "outputs": [
    {
     "name": "stdout",
     "output_type": "stream",
     "text": [
      "Average Profit: 1223.82\n"
     ]
    }
   ],
   "source": [
    "avg_profit = df['profit'].mean()\n",
    "print(f\"Average Profit: {avg_profit:.2f}\")\n"
   ]
  },
  {
   "cell_type": "markdown",
   "metadata": {},
   "source": [
    "What is the average profit per region?"
   ]
  },
  {
   "cell_type": "code",
   "execution_count": 648,
   "metadata": {},
   "outputs": [
    {
     "data": {
      "text/plain": [
       "region\n",
       "West    1699.76\n",
       "South   1408.22\n",
       "East    1323.22\n",
       "North    183.18\n",
       "Name: profit, dtype: float64"
      ]
     },
     "execution_count": 648,
     "metadata": {},
     "output_type": "execute_result"
    }
   ],
   "source": [
    "avg_profit_per_region = df.groupby('region')['profit'].mean().sort_values(ascending=False)\n",
    "avg_profit_per_region"
   ]
  },
  {
   "cell_type": "code",
   "execution_count": 649,
   "metadata": {},
   "outputs": [
    {
     "data": {
      "image/png": "[encoded data removed]",
      "text/plain": [
       "<Figure size 640x480 with 1 Axes>"
      ]
     },
     "metadata": {},
     "output_type": "display_data"
    }
   ],
   "source": [
    "avg_profit_per_region.plot(kind='bar', color='skyblue', edgecolor='black')\n",
    "plt.title('Average Profit per Region')\n",
    "plt.xlabel('Region')\n",
    "plt.ylabel('Average Profit')\n",
    "plt.grid(axis='y' , linestyle='--' , alpha=0.7)\n",
    "plt.xticks(rotation=45)\n",
    "plt.tight_layout()\n",
    "plt.show()\n"
   ]
  },
  {
   "cell_type": "markdown",
   "metadata": {},
   "source": [
    "# Customer Feedback Insight: Analyze the relationship between customer ratings and promotions used."
   ]
  },
  {
   "cell_type": "code",
   "execution_count": 650,
   "metadata": {},
   "outputs": [
    {
     "data": {
      "text/html": [
       "<div>\n",
       "<style scoped>\n",
       "    .dataframe tbody tr th:only-of-type {\n",
       "        vertical-align: middle;\n",
       "    }\n",
       "\n",
       "    .dataframe tbody tr th {\n",
       "        vertical-align: top;\n",
       "    }\n",
       "\n",
       "    .dataframe thead th {\n",
       "        text-align: right;\n",
       "    }\n",
       "</style>\n",
       "<table border=\"1\" class=\"dataframe\">\n",
       "  <thead>\n",
       "    <tr style=\"text-align: right;\">\n",
       "      <th></th>\n",
       "      <th>product_id</th>\n",
       "      <th>store_id</th>\n",
       "      <th>region</th>\n",
       "      <th>date</th>\n",
       "      <th>units_sold</th>\n",
       "      <th>revenue</th>\n",
       "      <th>cost</th>\n",
       "      <th>profit</th>\n",
       "      <th>customer_rating</th>\n",
       "      <th>promotions_used</th>\n",
       "    </tr>\n",
       "  </thead>\n",
       "  <tbody>\n",
       "    <tr>\n",
       "      <th>0</th>\n",
       "      <td>P9481</td>\n",
       "      <td>S31</td>\n",
       "      <td>North</td>\n",
       "      <td>2024-01-01</td>\n",
       "      <td>134</td>\n",
       "      <td>5859.33</td>\n",
       "      <td>5389.78</td>\n",
       "      <td>469.56</td>\n",
       "      <td>4.11</td>\n",
       "      <td>0</td>\n",
       "    </tr>\n",
       "    <tr>\n",
       "      <th>1</th>\n",
       "      <td>P5794</td>\n",
       "      <td>S29</td>\n",
       "      <td>North</td>\n",
       "      <td>2024-01-02</td>\n",
       "      <td>179</td>\n",
       "      <td>1216.38</td>\n",
       "      <td>2258.72</td>\n",
       "      <td>-1042.34</td>\n",
       "      <td>2.35</td>\n",
       "      <td>5</td>\n",
       "    </tr>\n",
       "    <tr>\n",
       "      <th>2</th>\n",
       "      <td>P2810</td>\n",
       "      <td>S14</td>\n",
       "      <td>East</td>\n",
       "      <td>2024-01-03</td>\n",
       "      <td>417</td>\n",
       "      <td>8207.84</td>\n",
       "      <td>6360.24</td>\n",
       "      <td>1847.60</td>\n",
       "      <td>1.09</td>\n",
       "      <td>5</td>\n",
       "    </tr>\n",
       "    <tr>\n",
       "      <th>3</th>\n",
       "      <td>P9069</td>\n",
       "      <td>S43</td>\n",
       "      <td>West</td>\n",
       "      <td>2024-01-04</td>\n",
       "      <td>250</td>\n",
       "      <td>1299.71</td>\n",
       "      <td>6263.57</td>\n",
       "      <td>-4963.86</td>\n",
       "      <td>3.38</td>\n",
       "      <td>4</td>\n",
       "    </tr>\n",
       "    <tr>\n",
       "      <th>4</th>\n",
       "      <td>P8196</td>\n",
       "      <td>S33</td>\n",
       "      <td>East</td>\n",
       "      <td>2024-01-05</td>\n",
       "      <td>454</td>\n",
       "      <td>4036.91</td>\n",
       "      <td>5675.40</td>\n",
       "      <td>-1638.50</td>\n",
       "      <td>4.29</td>\n",
       "      <td>0</td>\n",
       "    </tr>\n",
       "  </tbody>\n",
       "</table>\n",
       "</div>"
      ],
      "text/plain": [
       "  product_id store_id region       date  units_sold  revenue    cost   profit  \\\n",
       "0      P9481      S31  North 2024-01-01         134  5859.33 5389.78   469.56   \n",
       "1      P5794      S29  North 2024-01-02         179  1216.38 2258.72 -1042.34   \n",
       "2      P2810      S14   East 2024-01-03         417  8207.84 6360.24  1847.60   \n",
       "3      P9069      S43   West 2024-01-04         250  1299.71 6263.57 -4963.86   \n",
       "4      P8196      S33   East 2024-01-05         454  4036.91 5675.40 -1638.50   \n",
       "\n",
       "   customer_rating  promotions_used  \n",
       "0             4.11                0  \n",
       "1             2.35                5  \n",
       "2             1.09                5  \n",
       "3             3.38                4  \n",
       "4             4.29                0  "
      ]
     },
     "execution_count": 650,
     "metadata": {},
     "output_type": "execute_result"
    }
   ],
   "source": [
    "df.head()"
   ]
  },
  {
   "cell_type": "code",
   "execution_count": 651,
   "metadata": {},
   "outputs": [
    {
     "data": {
      "text/plain": [
       "promotions_used\n",
       "2   114.56\n",
       "0   111.35\n",
       "1   107.53\n",
       "5   101.46\n",
       "4    86.67\n",
       "3    82.03\n",
       "Name: customer_rating, dtype: float64"
      ]
     },
     "execution_count": 651,
     "metadata": {},
     "output_type": "execute_result"
    }
   ],
   "source": [
    "df2=df.groupby('promotions_used')['customer_rating'].sum().sort_values(ascending=False)\n",
    "df2"
   ]
  },
  {
   "cell_type": "code",
   "execution_count": 652,
   "metadata": {},
   "outputs": [
    {
     "data": {
      "image/png": "[encoded data removed]",
      "text/plain": [
       "<Figure size 640x480 with 1 Axes>"
      ]
     },
     "metadata": {},
     "output_type": "display_data"
    }
   ],
   "source": [
    "df2.plot(kind='bar', color='red', edgecolor='black')\n",
    "plt.title('Relationship Between Customer Ratings And Promotions Used')\n",
    "plt.xlabel('Promotions Used')\n",
    "plt.ylabel('Customer Rating(Summed)')\n",
    "plt.grid(axis='y' , linestyle='--' , alpha=0.7)\n",
    "plt.xticks(rotation=0)\n",
    "plt.tight_layout()\n",
    "plt.show()"
   ]
  },
  {
   "cell_type": "markdown",
   "metadata": {},
   "source": [
    "<span style=\"color: orange; font-size: 30px;\">Promotions used = 2 has the highest total customer rating, which may indicate a strong relationship ✅</span>"
   ]
  },
  {
   "cell_type": "markdown",
   "metadata": {},
   "source": [
    "# Trend Over Time: Visualize the trend of total revenue over time to identify patterns or seasonal effects."
   ]
  },
  {
   "cell_type": "code",
   "execution_count": 653,
   "metadata": {},
   "outputs": [
    {
     "data": {
      "text/html": [
       "<div>\n",
       "<style scoped>\n",
       "    .dataframe tbody tr th:only-of-type {\n",
       "        vertical-align: middle;\n",
       "    }\n",
       "\n",
       "    .dataframe tbody tr th {\n",
       "        vertical-align: top;\n",
       "    }\n",
       "\n",
       "    .dataframe thead th {\n",
       "        text-align: right;\n",
       "    }\n",
       "</style>\n",
       "<table border=\"1\" class=\"dataframe\">\n",
       "  <thead>\n",
       "    <tr style=\"text-align: right;\">\n",
       "      <th></th>\n",
       "      <th>product_id</th>\n",
       "      <th>store_id</th>\n",
       "      <th>region</th>\n",
       "      <th>date</th>\n",
       "      <th>units_sold</th>\n",
       "      <th>revenue</th>\n",
       "      <th>cost</th>\n",
       "      <th>profit</th>\n",
       "      <th>customer_rating</th>\n",
       "      <th>promotions_used</th>\n",
       "    </tr>\n",
       "  </thead>\n",
       "  <tbody>\n",
       "    <tr>\n",
       "      <th>0</th>\n",
       "      <td>P9481</td>\n",
       "      <td>S31</td>\n",
       "      <td>North</td>\n",
       "      <td>2024-01-01</td>\n",
       "      <td>134</td>\n",
       "      <td>5859.33</td>\n",
       "      <td>5389.78</td>\n",
       "      <td>469.56</td>\n",
       "      <td>4.11</td>\n",
       "      <td>0</td>\n",
       "    </tr>\n",
       "    <tr>\n",
       "      <th>1</th>\n",
       "      <td>P5794</td>\n",
       "      <td>S29</td>\n",
       "      <td>North</td>\n",
       "      <td>2024-01-02</td>\n",
       "      <td>179</td>\n",
       "      <td>1216.38</td>\n",
       "      <td>2258.72</td>\n",
       "      <td>-1042.34</td>\n",
       "      <td>2.35</td>\n",
       "      <td>5</td>\n",
       "    </tr>\n",
       "    <tr>\n",
       "      <th>2</th>\n",
       "      <td>P2810</td>\n",
       "      <td>S14</td>\n",
       "      <td>East</td>\n",
       "      <td>2024-01-03</td>\n",
       "      <td>417</td>\n",
       "      <td>8207.84</td>\n",
       "      <td>6360.24</td>\n",
       "      <td>1847.60</td>\n",
       "      <td>1.09</td>\n",
       "      <td>5</td>\n",
       "    </tr>\n",
       "    <tr>\n",
       "      <th>3</th>\n",
       "      <td>P9069</td>\n",
       "      <td>S43</td>\n",
       "      <td>West</td>\n",
       "      <td>2024-01-04</td>\n",
       "      <td>250</td>\n",
       "      <td>1299.71</td>\n",
       "      <td>6263.57</td>\n",
       "      <td>-4963.86</td>\n",
       "      <td>3.38</td>\n",
       "      <td>4</td>\n",
       "    </tr>\n",
       "    <tr>\n",
       "      <th>4</th>\n",
       "      <td>P8196</td>\n",
       "      <td>S33</td>\n",
       "      <td>East</td>\n",
       "      <td>2024-01-05</td>\n",
       "      <td>454</td>\n",
       "      <td>4036.91</td>\n",
       "      <td>5675.40</td>\n",
       "      <td>-1638.50</td>\n",
       "      <td>4.29</td>\n",
       "      <td>0</td>\n",
       "    </tr>\n",
       "  </tbody>\n",
       "</table>\n",
       "</div>"
      ],
      "text/plain": [
       "  product_id store_id region       date  units_sold  revenue    cost   profit  \\\n",
       "0      P9481      S31  North 2024-01-01         134  5859.33 5389.78   469.56   \n",
       "1      P5794      S29  North 2024-01-02         179  1216.38 2258.72 -1042.34   \n",
       "2      P2810      S14   East 2024-01-03         417  8207.84 6360.24  1847.60   \n",
       "3      P9069      S43   West 2024-01-04         250  1299.71 6263.57 -4963.86   \n",
       "4      P8196      S33   East 2024-01-05         454  4036.91 5675.40 -1638.50   \n",
       "\n",
       "   customer_rating  promotions_used  \n",
       "0             4.11                0  \n",
       "1             2.35                5  \n",
       "2             1.09                5  \n",
       "3             3.38                4  \n",
       "4             4.29                0  "
      ]
     },
     "execution_count": 653,
     "metadata": {},
     "output_type": "execute_result"
    }
   ],
   "source": [
    "df.head()"
   ]
  },
  {
   "cell_type": "code",
   "execution_count": 654,
   "metadata": {},
   "outputs": [
    {
     "data": {
      "text/plain": [
       "date\n",
       "2024-01-31   174567.73\n",
       "2024-02-29   151876.81\n",
       "2024-03-31   171468.53\n",
       "2024-04-30   139579.25\n",
       "2024-05-31   153369.41\n",
       "2024-06-30   164468.61\n",
       "2024-07-31   121629.70\n",
       "Freq: ME, Name: revenue, dtype: float64"
      ]
     },
     "execution_count": 654,
     "metadata": {},
     "output_type": "execute_result"
    }
   ],
   "source": [
    "df3=df.set_index('date')\n",
    "\n",
    "df3=df3['revenue'].resample('1ME').sum()\n",
    "df3"
   ]
  },
  {
   "cell_type": "code",
   "execution_count": 655,
   "metadata": {},
   "outputs": [
    {
     "data": {
      "image/png": "[encoded data removed]",
      "text/plain": [
       "<Figure size 1200x600 with 1 Axes>"
      ]
     },
     "metadata": {},
     "output_type": "display_data"
    }
   ],
   "source": [
    "\n",
    "# Plot the revenue trend\n",
    "plt.figure(figsize=(12, 6))\n",
    "plt.plot(df3.index, df3, marker='o', linestyle='-', label='Revenue Trend')\n",
    "\n",
    "# Add titles and labels\n",
    "plt.title('Monthly Revenue Trend', fontsize=16)\n",
    "plt.xlabel('Date', fontsize=12)\n",
    "plt.ylabel('Revenue ($)', fontsize=12)\n",
    "plt.xticks(rotation=45)  # Rotate x-axis labels for better visibility\n",
    "plt.grid(True)  # Add grid for clarity\n",
    "plt.legend(fontsize=12)\n",
    "\n",
    "# Adjust layout and display\n",
    "plt.tight_layout()\n",
    "plt.show()\n",
    "\n",
    "\n"
   ]
  }
 ],
 "metadata": {
  "kernelspec": {
   "display_name": "Python 3",
   "language": "python",
   "name": "python3"
  },
  "language_info": {
   "codemirror_mode": {
    "name": "ipython",
    "version": 3
   },
   "file_extension": ".py",
   "mimetype": "text/x-python",
   "name": "python",
   "nbconvert_exporter": "python",
   "pygments_lexer": "ipython3",
   "version": "3.13.0"
  }
 },
 "nbformat": 4,
 "nbformat_minor": 2
}
