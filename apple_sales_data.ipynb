{
 "cells": [
  {
   "cell_type": "code",
   "execution_count": 1,
   "metadata": {},
   "outputs": [],
   "source": [
    "import pandas as pd\n",
    "import numpy as np\n",
    "import matplotlib.pyplot as plt\n",
    "import seaborn as sns\n",
    "import plotly_express as px\n",
    "\n",
    "pd.options.display.float_format='{:.2f}'.format\n",
    "pd.options.display.max_rows=None\n",
    "pd.options.display.max_columns=None\n",
    "sns.set()"
   ]
  },
  {
   "cell_type": "code",
   "execution_count": 2,
   "metadata": {},
   "outputs": [],
   "source": [
    "\n",
    "\n",
    "def wrangle(filename, encoding=None, date_column=None, dropna_nan_columns=[],dropna_nan_columns0=False, change_column_name={}, drop_duplicates_columns=None ):\n",
    "    global df\n",
    "    df = pd.read_csv(filename, encoding=encoding)  #0. Load the dataset\n",
    "\n",
    "    #1. Clean column names: remove spaces and convert to lowercase\n",
    "    df.columns = df.columns.str.strip().str.lower()\n",
    "\n",
    "    #2. convert space to _\n",
    "    df.columns=df.columns.str.replace(' ','_')\n",
    "\n",
    "\n",
    "    #3- Convert the specified column to datetime if provided\n",
    "    if date_column:\n",
    "        df[date_column] = pd.to_datetime(df[date_column]) \n",
    "\n",
    "    #4- Drop all columns that contain only NaN values    \n",
    "    if dropna_nan_columns0:\n",
    "        df=df.dropna(axis=1 , how='all')    \n",
    "    \n",
    "    #5- Drop rows with NaN values in the specified columns\n",
    "    if dropna_nan_columns:\n",
    "        df.dropna(subset=dropna_nan_columns, inplace=True)\n",
    "    \n",
    "    #6- Rename columns if a mapping is provided\n",
    "    if change_column_name:\n",
    "        df.rename(columns=change_column_name, inplace=True)\n",
    "    \n",
    "    #7- Remove duplicate rows based on specified columns\n",
    "    if drop_duplicates_columns:\n",
    "        df.drop_duplicates(subset=drop_duplicates_columns, inplace=True)\n",
    "\n",
    "    return df\n"
   ]
  },
  {
   "cell_type": "code",
   "execution_count": 3,
   "metadata": {},
   "outputs": [
    {
     "name": "stdout",
     "output_type": "stream",
     "text": [
      "<class 'pandas.core.frame.DataFrame'>\n",
      "RangeIndex: 200 entries, 0 to 199\n",
      "Data columns (total 10 columns):\n",
      " #   Column           Non-Null Count  Dtype         \n",
      "---  ------           --------------  -----         \n",
      " 0   product_id       200 non-null    object        \n",
      " 1   store_id         200 non-null    object        \n",
      " 2   region           200 non-null    object        \n",
      " 3   date             200 non-null    datetime64[ns]\n",
      " 4   units_sold       200 non-null    int64         \n",
      " 5   revenue          200 non-null    float64       \n",
      " 6   cost             200 non-null    float64       \n",
      " 7   profit           200 non-null    float64       \n",
      " 8   customer_rating  200 non-null    float64       \n",
      " 9   promotions_used  200 non-null    int64         \n",
      "dtypes: datetime64[ns](1), float64(4), int64(2), object(3)\n",
      "memory usage: 15.8+ KB\n"
     ]
    }
   ],
   "source": [
    "df=wrangle('apple_sales_data.csv',date_column='date')\n",
    "df.info()"
   ]
  },
  {
   "cell_type": "code",
   "execution_count": 4,
   "metadata": {},
   "outputs": [
    {
     "data": {
      "text/html": [
       "<div>\n",
       "<style scoped>\n",
       "    .dataframe tbody tr th:only-of-type {\n",
       "        vertical-align: middle;\n",
       "    }\n",
       "\n",
       "    .dataframe tbody tr th {\n",
       "        vertical-align: top;\n",
       "    }\n",
       "\n",
       "    .dataframe thead th {\n",
       "        text-align: right;\n",
       "    }\n",
       "</style>\n",
       "<table border=\"1\" class=\"dataframe\">\n",
       "  <thead>\n",
       "    <tr style=\"text-align: right;\">\n",
       "      <th></th>\n",
       "      <th>product_id</th>\n",
       "      <th>store_id</th>\n",
       "      <th>region</th>\n",
       "      <th>date</th>\n",
       "      <th>units_sold</th>\n",
       "      <th>revenue</th>\n",
       "      <th>cost</th>\n",
       "      <th>profit</th>\n",
       "      <th>customer_rating</th>\n",
       "      <th>promotions_used</th>\n",
       "    </tr>\n",
       "  </thead>\n",
       "  <tbody>\n",
       "    <tr>\n",
       "      <th>193</th>\n",
       "      <td>P3548</td>\n",
       "      <td>S27</td>\n",
       "      <td>South</td>\n",
       "      <td>2024-07-12</td>\n",
       "      <td>281</td>\n",
       "      <td>3881.18</td>\n",
       "      <td>5162.30</td>\n",
       "      <td>575.82</td>\n",
       "      <td>3.29</td>\n",
       "      <td>5</td>\n",
       "    </tr>\n",
       "    <tr>\n",
       "      <th>136</th>\n",
       "      <td>P6883</td>\n",
       "      <td>S24</td>\n",
       "      <td>West</td>\n",
       "      <td>2024-05-16</td>\n",
       "      <td>123</td>\n",
       "      <td>8378.32</td>\n",
       "      <td>4967.07</td>\n",
       "      <td>615.69</td>\n",
       "      <td>4.92</td>\n",
       "      <td>0</td>\n",
       "    </tr>\n",
       "    <tr>\n",
       "      <th>53</th>\n",
       "      <td>P1264</td>\n",
       "      <td>S32</td>\n",
       "      <td>North</td>\n",
       "      <td>2024-02-23</td>\n",
       "      <td>340</td>\n",
       "      <td>3260.45</td>\n",
       "      <td>1858.97</td>\n",
       "      <td>1968.55</td>\n",
       "      <td>3.44</td>\n",
       "      <td>0</td>\n",
       "    </tr>\n",
       "    <tr>\n",
       "      <th>101</th>\n",
       "      <td>P9122</td>\n",
       "      <td>S46</td>\n",
       "      <td>South</td>\n",
       "      <td>2024-04-11</td>\n",
       "      <td>60</td>\n",
       "      <td>8122.46</td>\n",
       "      <td>5904.10</td>\n",
       "      <td>1395.21</td>\n",
       "      <td>1.49</td>\n",
       "      <td>5</td>\n",
       "    </tr>\n",
       "    <tr>\n",
       "      <th>159</th>\n",
       "      <td>P8040</td>\n",
       "      <td>S31</td>\n",
       "      <td>North</td>\n",
       "      <td>2024-06-08</td>\n",
       "      <td>466</td>\n",
       "      <td>4445.89</td>\n",
       "      <td>4120.53</td>\n",
       "      <td>1774.20</td>\n",
       "      <td>4.46</td>\n",
       "      <td>3</td>\n",
       "    </tr>\n",
       "    <tr>\n",
       "      <th>22</th>\n",
       "      <td>P7500</td>\n",
       "      <td>S6</td>\n",
       "      <td>North</td>\n",
       "      <td>2024-01-23</td>\n",
       "      <td>492</td>\n",
       "      <td>4151.06</td>\n",
       "      <td>1024.79</td>\n",
       "      <td>1667.26</td>\n",
       "      <td>3.84</td>\n",
       "      <td>1</td>\n",
       "    </tr>\n",
       "    <tr>\n",
       "      <th>93</th>\n",
       "      <td>P5968</td>\n",
       "      <td>S41</td>\n",
       "      <td>South</td>\n",
       "      <td>2024-04-03</td>\n",
       "      <td>385</td>\n",
       "      <td>7947.39</td>\n",
       "      <td>6166.65</td>\n",
       "      <td>375.46</td>\n",
       "      <td>1.62</td>\n",
       "      <td>1</td>\n",
       "    </tr>\n",
       "    <tr>\n",
       "      <th>180</th>\n",
       "      <td>P1358</td>\n",
       "      <td>S32</td>\n",
       "      <td>East</td>\n",
       "      <td>2024-06-29</td>\n",
       "      <td>20</td>\n",
       "      <td>7254.19</td>\n",
       "      <td>7207.03</td>\n",
       "      <td>163.30</td>\n",
       "      <td>2.06</td>\n",
       "      <td>4</td>\n",
       "    </tr>\n",
       "    <tr>\n",
       "      <th>11</th>\n",
       "      <td>P7959</td>\n",
       "      <td>S41</td>\n",
       "      <td>South</td>\n",
       "      <td>2024-01-12</td>\n",
       "      <td>204</td>\n",
       "      <td>2069.10</td>\n",
       "      <td>3381.73</td>\n",
       "      <td>1052.53</td>\n",
       "      <td>2.52</td>\n",
       "      <td>0</td>\n",
       "    </tr>\n",
       "    <tr>\n",
       "      <th>110</th>\n",
       "      <td>P7409</td>\n",
       "      <td>S31</td>\n",
       "      <td>East</td>\n",
       "      <td>2024-04-20</td>\n",
       "      <td>251</td>\n",
       "      <td>6198.05</td>\n",
       "      <td>1614.95</td>\n",
       "      <td>1481.22</td>\n",
       "      <td>1.09</td>\n",
       "      <td>0</td>\n",
       "    </tr>\n",
       "  </tbody>\n",
       "</table>\n",
       "</div>"
      ],
      "text/plain": [
       "    product_id store_id region       date  units_sold  revenue    cost  \\\n",
       "193      P3548      S27  South 2024-07-12         281  3881.18 5162.30   \n",
       "136      P6883      S24   West 2024-05-16         123  8378.32 4967.07   \n",
       "53       P1264      S32  North 2024-02-23         340  3260.45 1858.97   \n",
       "101      P9122      S46  South 2024-04-11          60  8122.46 5904.10   \n",
       "159      P8040      S31  North 2024-06-08         466  4445.89 4120.53   \n",
       "22       P7500       S6  North 2024-01-23         492  4151.06 1024.79   \n",
       "93       P5968      S41  South 2024-04-03         385  7947.39 6166.65   \n",
       "180      P1358      S32   East 2024-06-29          20  7254.19 7207.03   \n",
       "11       P7959      S41  South 2024-01-12         204  2069.10 3381.73   \n",
       "110      P7409      S31   East 2024-04-20         251  6198.05 1614.95   \n",
       "\n",
       "     profit  customer_rating  promotions_used  \n",
       "193  575.82             3.29                5  \n",
       "136  615.69             4.92                0  \n",
       "53  1968.55             3.44                0  \n",
       "101 1395.21             1.49                5  \n",
       "159 1774.20             4.46                3  \n",
       "22  1667.26             3.84                1  \n",
       "93   375.46             1.62                1  \n",
       "180  163.30             2.06                4  \n",
       "11  1052.53             2.52                0  \n",
       "110 1481.22             1.09                0  "
      ]
     },
     "execution_count": 4,
     "metadata": {},
     "output_type": "execute_result"
    }
   ],
   "source": [
    "df.sample(10)"
   ]
  },
  {
   "cell_type": "markdown",
   "metadata": {},
   "source": [
    "# Profit column correction\n"
   ]
  },
  {
   "cell_type": "code",
   "execution_count": 5,
   "metadata": {},
   "outputs": [
    {
     "data": {
      "text/html": [
       "<div>\n",
       "<style scoped>\n",
       "    .dataframe tbody tr th:only-of-type {\n",
       "        vertical-align: middle;\n",
       "    }\n",
       "\n",
       "    .dataframe tbody tr th {\n",
       "        vertical-align: top;\n",
       "    }\n",
       "\n",
       "    .dataframe thead th {\n",
       "        text-align: right;\n",
       "    }\n",
       "</style>\n",
       "<table border=\"1\" class=\"dataframe\">\n",
       "  <thead>\n",
       "    <tr style=\"text-align: right;\">\n",
       "      <th></th>\n",
       "      <th>product_id</th>\n",
       "      <th>store_id</th>\n",
       "      <th>region</th>\n",
       "      <th>date</th>\n",
       "      <th>units_sold</th>\n",
       "      <th>revenue</th>\n",
       "      <th>cost</th>\n",
       "      <th>profit</th>\n",
       "      <th>customer_rating</th>\n",
       "      <th>promotions_used</th>\n",
       "    </tr>\n",
       "  </thead>\n",
       "  <tbody>\n",
       "    <tr>\n",
       "      <th>0</th>\n",
       "      <td>P9481</td>\n",
       "      <td>S31</td>\n",
       "      <td>North</td>\n",
       "      <td>2024-01-01</td>\n",
       "      <td>134</td>\n",
       "      <td>5859.33</td>\n",
       "      <td>5389.78</td>\n",
       "      <td>469.56</td>\n",
       "      <td>4.11</td>\n",
       "      <td>0</td>\n",
       "    </tr>\n",
       "    <tr>\n",
       "      <th>1</th>\n",
       "      <td>P5794</td>\n",
       "      <td>S29</td>\n",
       "      <td>North</td>\n",
       "      <td>2024-01-02</td>\n",
       "      <td>179</td>\n",
       "      <td>1216.38</td>\n",
       "      <td>2258.72</td>\n",
       "      <td>-1042.34</td>\n",
       "      <td>2.35</td>\n",
       "      <td>5</td>\n",
       "    </tr>\n",
       "    <tr>\n",
       "      <th>2</th>\n",
       "      <td>P2810</td>\n",
       "      <td>S14</td>\n",
       "      <td>East</td>\n",
       "      <td>2024-01-03</td>\n",
       "      <td>417</td>\n",
       "      <td>8207.84</td>\n",
       "      <td>6360.24</td>\n",
       "      <td>1847.60</td>\n",
       "      <td>1.09</td>\n",
       "      <td>5</td>\n",
       "    </tr>\n",
       "    <tr>\n",
       "      <th>3</th>\n",
       "      <td>P9069</td>\n",
       "      <td>S43</td>\n",
       "      <td>West</td>\n",
       "      <td>2024-01-04</td>\n",
       "      <td>250</td>\n",
       "      <td>1299.71</td>\n",
       "      <td>6263.57</td>\n",
       "      <td>-4963.86</td>\n",
       "      <td>3.38</td>\n",
       "      <td>4</td>\n",
       "    </tr>\n",
       "    <tr>\n",
       "      <th>4</th>\n",
       "      <td>P8196</td>\n",
       "      <td>S33</td>\n",
       "      <td>East</td>\n",
       "      <td>2024-01-05</td>\n",
       "      <td>454</td>\n",
       "      <td>4036.91</td>\n",
       "      <td>5675.40</td>\n",
       "      <td>-1638.50</td>\n",
       "      <td>4.29</td>\n",
       "      <td>0</td>\n",
       "    </tr>\n",
       "  </tbody>\n",
       "</table>\n",
       "</div>"
      ],
      "text/plain": [
       "  product_id store_id region       date  units_sold  revenue    cost   profit  \\\n",
       "0      P9481      S31  North 2024-01-01         134  5859.33 5389.78   469.56   \n",
       "1      P5794      S29  North 2024-01-02         179  1216.38 2258.72 -1042.34   \n",
       "2      P2810      S14   East 2024-01-03         417  8207.84 6360.24  1847.60   \n",
       "3      P9069      S43   West 2024-01-04         250  1299.71 6263.57 -4963.86   \n",
       "4      P8196      S33   East 2024-01-05         454  4036.91 5675.40 -1638.50   \n",
       "\n",
       "   customer_rating  promotions_used  \n",
       "0             4.11                0  \n",
       "1             2.35                5  \n",
       "2             1.09                5  \n",
       "3             3.38                4  \n",
       "4             4.29                0  "
      ]
     },
     "execution_count": 5,
     "metadata": {},
     "output_type": "execute_result"
    }
   ],
   "source": [
    "df['profit']=df['revenue']-df['cost']\n",
    "df.head()"
   ]
  },
  {
   "cell_type": "markdown",
   "metadata": {},
   "source": [
    "# Identify which region generates the highest total revenue.\n"
   ]
  },
  {
   "cell_type": "code",
   "execution_count": 6,
   "metadata": {},
   "outputs": [
    {
     "data": {
      "text/plain": [
       "region\n",
       "South   407593.47\n",
       "West    256317.41\n",
       "East    240980.01\n",
       "North   172069.15\n",
       "Name: revenue, dtype: float64"
      ]
     },
     "execution_count": 6,
     "metadata": {},
     "output_type": "execute_result"
    }
   ],
   "source": [
    "df1=df.groupby('region')['revenue'].sum().sort_values(ascending=False)\n",
    "df1"
   ]
  },
  {
   "cell_type": "code",
   "execution_count": 7,
   "metadata": {},
   "outputs": [
    {
     "data": {
      "image/png": "[encoded data removed]",
      "text/plain": [
       "<Figure size 640x480 with 1 Axes>"
      ]
     },
     "metadata": {},
     "output_type": "display_data"
    }
   ],
   "source": [
    "df1.plot(kind='bar' , x='region' , y='revenue' , color='red' , edgecolor='black')\n",
    "plt.title('Total Revenue by Region')\n",
    "plt.xlabel('Region')\n",
    "plt.ylabel('Revenue')\n",
    "plt.grid(axis='y', linestyle='--', alpha=0.7)\n",
    "plt.tight_layout()\n",
    "plt.show()"
   ]
  },
  {
   "cell_type": "markdown",
   "metadata": {},
   "source": [
    "# Profit Margin Analysis: Calculate the profit margin for each row and determine the average profit margin across all sales."
   ]
  },
  {
   "cell_type": "code",
   "execution_count": 8,
   "metadata": {},
   "outputs": [
    {
     "data": {
      "text/html": [
       "<div>\n",
       "<style scoped>\n",
       "    .dataframe tbody tr th:only-of-type {\n",
       "        vertical-align: middle;\n",
       "    }\n",
       "\n",
       "    .dataframe tbody tr th {\n",
       "        vertical-align: top;\n",
       "    }\n",
       "\n",
       "    .dataframe thead th {\n",
       "        text-align: right;\n",
       "    }\n",
       "</style>\n",
       "<table border=\"1\" class=\"dataframe\">\n",
       "  <thead>\n",
       "    <tr style=\"text-align: right;\">\n",
       "      <th></th>\n",
       "      <th>product_id</th>\n",
       "      <th>store_id</th>\n",
       "      <th>region</th>\n",
       "      <th>date</th>\n",
       "      <th>units_sold</th>\n",
       "      <th>revenue</th>\n",
       "      <th>cost</th>\n",
       "      <th>profit</th>\n",
       "      <th>customer_rating</th>\n",
       "      <th>promotions_used</th>\n",
       "    </tr>\n",
       "  </thead>\n",
       "  <tbody>\n",
       "    <tr>\n",
       "      <th>0</th>\n",
       "      <td>P9481</td>\n",
       "      <td>S31</td>\n",
       "      <td>North</td>\n",
       "      <td>2024-01-01</td>\n",
       "      <td>134</td>\n",
       "      <td>5859.33</td>\n",
       "      <td>5389.78</td>\n",
       "      <td>469.56</td>\n",
       "      <td>4.11</td>\n",
       "      <td>0</td>\n",
       "    </tr>\n",
       "    <tr>\n",
       "      <th>1</th>\n",
       "      <td>P5794</td>\n",
       "      <td>S29</td>\n",
       "      <td>North</td>\n",
       "      <td>2024-01-02</td>\n",
       "      <td>179</td>\n",
       "      <td>1216.38</td>\n",
       "      <td>2258.72</td>\n",
       "      <td>-1042.34</td>\n",
       "      <td>2.35</td>\n",
       "      <td>5</td>\n",
       "    </tr>\n",
       "    <tr>\n",
       "      <th>2</th>\n",
       "      <td>P2810</td>\n",
       "      <td>S14</td>\n",
       "      <td>East</td>\n",
       "      <td>2024-01-03</td>\n",
       "      <td>417</td>\n",
       "      <td>8207.84</td>\n",
       "      <td>6360.24</td>\n",
       "      <td>1847.60</td>\n",
       "      <td>1.09</td>\n",
       "      <td>5</td>\n",
       "    </tr>\n",
       "    <tr>\n",
       "      <th>3</th>\n",
       "      <td>P9069</td>\n",
       "      <td>S43</td>\n",
       "      <td>West</td>\n",
       "      <td>2024-01-04</td>\n",
       "      <td>250</td>\n",
       "      <td>1299.71</td>\n",
       "      <td>6263.57</td>\n",
       "      <td>-4963.86</td>\n",
       "      <td>3.38</td>\n",
       "      <td>4</td>\n",
       "    </tr>\n",
       "    <tr>\n",
       "      <th>4</th>\n",
       "      <td>P8196</td>\n",
       "      <td>S33</td>\n",
       "      <td>East</td>\n",
       "      <td>2024-01-05</td>\n",
       "      <td>454</td>\n",
       "      <td>4036.91</td>\n",
       "      <td>5675.40</td>\n",
       "      <td>-1638.50</td>\n",
       "      <td>4.29</td>\n",
       "      <td>0</td>\n",
       "    </tr>\n",
       "  </tbody>\n",
       "</table>\n",
       "</div>"
      ],
      "text/plain": [
       "  product_id store_id region       date  units_sold  revenue    cost   profit  \\\n",
       "0      P9481      S31  North 2024-01-01         134  5859.33 5389.78   469.56   \n",
       "1      P5794      S29  North 2024-01-02         179  1216.38 2258.72 -1042.34   \n",
       "2      P2810      S14   East 2024-01-03         417  8207.84 6360.24  1847.60   \n",
       "3      P9069      S43   West 2024-01-04         250  1299.71 6263.57 -4963.86   \n",
       "4      P8196      S33   East 2024-01-05         454  4036.91 5675.40 -1638.50   \n",
       "\n",
       "   customer_rating  promotions_used  \n",
       "0             4.11                0  \n",
       "1             2.35                5  \n",
       "2             1.09                5  \n",
       "3             3.38                4  \n",
       "4             4.29                0  "
      ]
     },
     "execution_count": 8,
     "metadata": {},
     "output_type": "execute_result"
    }
   ],
   "source": [
    "df.head()"
   ]
  },
  {
   "cell_type": "code",
   "execution_count": 9,
   "metadata": {},
   "outputs": [
    {
     "name": "stdout",
     "output_type": "stream",
     "text": [
      "Average Profit: 1223.82\n"
     ]
    }
   ],
   "source": [
    "avg_profit = df['profit'].mean()\n",
    "print(f\"Average Profit: {avg_profit:.2f}\")\n"
   ]
  },
  {
   "cell_type": "markdown",
   "metadata": {},
   "source": [
    "What is the average profit per region?"
   ]
  },
  {
   "cell_type": "code",
   "execution_count": 10,
   "metadata": {},
   "outputs": [
    {
     "data": {
      "text/plain": [
       "region\n",
       "West    1699.76\n",
       "South   1408.22\n",
       "East    1323.22\n",
       "North    183.18\n",
       "Name: profit, dtype: float64"
      ]
     },
     "execution_count": 10,
     "metadata": {},
     "output_type": "execute_result"
    }
   ],
   "source": [
    "avg_profit_per_region = df.groupby('region')['profit'].mean().sort_values(ascending=False)\n",
    "avg_profit_per_region"
   ]
  },
  {
   "cell_type": "code",
   "execution_count": 11,
   "metadata": {},
   "outputs": [
    {
     "data": {
      "image/png": "[encoded data removed]",
      "text/plain": [
       "<Figure size 640x480 with 1 Axes>"
      ]
     },
     "metadata": {},
     "output_type": "display_data"
    }
   ],
   "source": [
    "avg_profit_per_region.plot(kind='bar', color='skyblue', edgecolor='black')\n",
    "plt.title('Average Profit per Region')\n",
    "plt.xlabel('Region')\n",
    "plt.ylabel('Average Profit')\n",
    "plt.grid(axis='y' , linestyle='--' , alpha=0.7)\n",
    "plt.xticks(rotation=45)\n",
    "plt.tight_layout()\n",
    "plt.show()\n"
   ]
  },
  {
   "cell_type": "markdown",
   "metadata": {},
   "source": [
    "# Customer Feedback Insight: Analyze the relationship between customer ratings and promotions used."
   ]
  },
  {
   "cell_type": "code",
   "execution_count": 12,
   "metadata": {},
   "outputs": [
    {
     "data": {
      "text/html": [
       "<div>\n",
       "<style scoped>\n",
       "    .dataframe tbody tr th:only-of-type {\n",
       "        vertical-align: middle;\n",
       "    }\n",
       "\n",
       "    .dataframe tbody tr th {\n",
       "        vertical-align: top;\n",
       "    }\n",
       "\n",
       "    .dataframe thead th {\n",
       "        text-align: right;\n",
       "    }\n",
       "</style>\n",
       "<table border=\"1\" class=\"dataframe\">\n",
       "  <thead>\n",
       "    <tr style=\"text-align: right;\">\n",
       "      <th></th>\n",
       "      <th>product_id</th>\n",
       "      <th>store_id</th>\n",
       "      <th>region</th>\n",
       "      <th>date</th>\n",
       "      <th>units_sold</th>\n",
       "      <th>revenue</th>\n",
       "      <th>cost</th>\n",
       "      <th>profit</th>\n",
       "      <th>customer_rating</th>\n",
       "      <th>promotions_used</th>\n",
       "    </tr>\n",
       "  </thead>\n",
       "  <tbody>\n",
       "    <tr>\n",
       "      <th>0</th>\n",
       "      <td>P9481</td>\n",
       "      <td>S31</td>\n",
       "      <td>North</td>\n",
       "      <td>2024-01-01</td>\n",
       "      <td>134</td>\n",
       "      <td>5859.33</td>\n",
       "      <td>5389.78</td>\n",
       "      <td>469.56</td>\n",
       "      <td>4.11</td>\n",
       "      <td>0</td>\n",
       "    </tr>\n",
       "    <tr>\n",
       "      <th>1</th>\n",
       "      <td>P5794</td>\n",
       "      <td>S29</td>\n",
       "      <td>North</td>\n",
       "      <td>2024-01-02</td>\n",
       "      <td>179</td>\n",
       "      <td>1216.38</td>\n",
       "      <td>2258.72</td>\n",
       "      <td>-1042.34</td>\n",
       "      <td>2.35</td>\n",
       "      <td>5</td>\n",
       "    </tr>\n",
       "    <tr>\n",
       "      <th>2</th>\n",
       "      <td>P2810</td>\n",
       "      <td>S14</td>\n",
       "      <td>East</td>\n",
       "      <td>2024-01-03</td>\n",
       "      <td>417</td>\n",
       "      <td>8207.84</td>\n",
       "      <td>6360.24</td>\n",
       "      <td>1847.60</td>\n",
       "      <td>1.09</td>\n",
       "      <td>5</td>\n",
       "    </tr>\n",
       "    <tr>\n",
       "      <th>3</th>\n",
       "      <td>P9069</td>\n",
       "      <td>S43</td>\n",
       "      <td>West</td>\n",
       "      <td>2024-01-04</td>\n",
       "      <td>250</td>\n",
       "      <td>1299.71</td>\n",
       "      <td>6263.57</td>\n",
       "      <td>-4963.86</td>\n",
       "      <td>3.38</td>\n",
       "      <td>4</td>\n",
       "    </tr>\n",
       "    <tr>\n",
       "      <th>4</th>\n",
       "      <td>P8196</td>\n",
       "      <td>S33</td>\n",
       "      <td>East</td>\n",
       "      <td>2024-01-05</td>\n",
       "      <td>454</td>\n",
       "      <td>4036.91</td>\n",
       "      <td>5675.40</td>\n",
       "      <td>-1638.50</td>\n",
       "      <td>4.29</td>\n",
       "      <td>0</td>\n",
       "    </tr>\n",
       "  </tbody>\n",
       "</table>\n",
       "</div>"
      ],
      "text/plain": [
       "  product_id store_id region       date  units_sold  revenue    cost   profit  \\\n",
       "0      P9481      S31  North 2024-01-01         134  5859.33 5389.78   469.56   \n",
       "1      P5794      S29  North 2024-01-02         179  1216.38 2258.72 -1042.34   \n",
       "2      P2810      S14   East 2024-01-03         417  8207.84 6360.24  1847.60   \n",
       "3      P9069      S43   West 2024-01-04         250  1299.71 6263.57 -4963.86   \n",
       "4      P8196      S33   East 2024-01-05         454  4036.91 5675.40 -1638.50   \n",
       "\n",
       "   customer_rating  promotions_used  \n",
       "0             4.11                0  \n",
       "1             2.35                5  \n",
       "2             1.09                5  \n",
       "3             3.38                4  \n",
       "4             4.29                0  "
      ]
     },
     "execution_count": 12,
     "metadata": {},
     "output_type": "execute_result"
    }
   ],
   "source": [
    "df.head()"
   ]
  },
  {
   "cell_type": "code",
   "execution_count": 13,
   "metadata": {},
   "outputs": [
    {
     "data": {
      "text/plain": [
       "promotions_used\n",
       "2   114.56\n",
       "0   111.35\n",
       "1   107.53\n",
       "5   101.46\n",
       "4    86.67\n",
       "3    82.03\n",
       "Name: customer_rating, dtype: float64"
      ]
     },
     "execution_count": 13,
     "metadata": {},
     "output_type": "execute_result"
    }
   ],
   "source": [
    "df2=df.groupby('promotions_used')['customer_rating'].sum().sort_values(ascending=False)\n",
    "df2"
   ]
  },
  {
   "cell_type": "code",
   "execution_count": 14,
   "metadata": {},
   "outputs": [
    {
     "data": {
      "image/png": "[encoded data removed]",
      "text/plain": [
       "<Figure size 640x480 with 1 Axes>"
      ]
     },
     "metadata": {},
     "output_type": "display_data"
    }
   ],
   "source": [
    "df2.plot(kind='bar', color='red', edgecolor='black')\n",
    "plt.title('Relationship Between Customer Ratings And Promotions Used')\n",
    "plt.xlabel('Promotions Used')\n",
    "plt.ylabel('Customer Rating(Summed)')\n",
    "plt.grid(axis='y' , linestyle='--' , alpha=0.7)\n",
    "plt.xticks(rotation=0)\n",
    "plt.tight_layout()\n",
    "plt.show()"
   ]
  },
  {
   "cell_type": "markdown",
   "metadata": {},
   "source": [
    "<span style=\"color: orange; font-size: 30px;\">Promotions used = 2 has the highest total customer rating, which may indicate a strong relationship ✅</span>"
   ]
  },
  {
   "cell_type": "markdown",
   "metadata": {},
   "source": [
    "# Trend Over Time: Visualize the trend of total revenue over time to identify patterns or seasonal effects."
   ]
  },
  {
   "cell_type": "code",
   "execution_count": 15,
   "metadata": {},
   "outputs": [
    {
     "data": {
      "text/html": [
       "<div>\n",
       "<style scoped>\n",
       "    .dataframe tbody tr th:only-of-type {\n",
       "        vertical-align: middle;\n",
       "    }\n",
       "\n",
       "    .dataframe tbody tr th {\n",
       "        vertical-align: top;\n",
       "    }\n",
       "\n",
       "    .dataframe thead th {\n",
       "        text-align: right;\n",
       "    }\n",
       "</style>\n",
       "<table border=\"1\" class=\"dataframe\">\n",
       "  <thead>\n",
       "    <tr style=\"text-align: right;\">\n",
       "      <th></th>\n",
       "      <th>product_id</th>\n",
       "      <th>store_id</th>\n",
       "      <th>region</th>\n",
       "      <th>date</th>\n",
       "      <th>units_sold</th>\n",
       "      <th>revenue</th>\n",
       "      <th>cost</th>\n",
       "      <th>profit</th>\n",
       "      <th>customer_rating</th>\n",
       "      <th>promotions_used</th>\n",
       "    </tr>\n",
       "  </thead>\n",
       "  <tbody>\n",
       "    <tr>\n",
       "      <th>0</th>\n",
       "      <td>P9481</td>\n",
       "      <td>S31</td>\n",
       "      <td>North</td>\n",
       "      <td>2024-01-01</td>\n",
       "      <td>134</td>\n",
       "      <td>5859.33</td>\n",
       "      <td>5389.78</td>\n",
       "      <td>469.56</td>\n",
       "      <td>4.11</td>\n",
       "      <td>0</td>\n",
       "    </tr>\n",
       "    <tr>\n",
       "      <th>1</th>\n",
       "      <td>P5794</td>\n",
       "      <td>S29</td>\n",
       "      <td>North</td>\n",
       "      <td>2024-01-02</td>\n",
       "      <td>179</td>\n",
       "      <td>1216.38</td>\n",
       "      <td>2258.72</td>\n",
       "      <td>-1042.34</td>\n",
       "      <td>2.35</td>\n",
       "      <td>5</td>\n",
       "    </tr>\n",
       "    <tr>\n",
       "      <th>2</th>\n",
       "      <td>P2810</td>\n",
       "      <td>S14</td>\n",
       "      <td>East</td>\n",
       "      <td>2024-01-03</td>\n",
       "      <td>417</td>\n",
       "      <td>8207.84</td>\n",
       "      <td>6360.24</td>\n",
       "      <td>1847.60</td>\n",
       "      <td>1.09</td>\n",
       "      <td>5</td>\n",
       "    </tr>\n",
       "    <tr>\n",
       "      <th>3</th>\n",
       "      <td>P9069</td>\n",
       "      <td>S43</td>\n",
       "      <td>West</td>\n",
       "      <td>2024-01-04</td>\n",
       "      <td>250</td>\n",
       "      <td>1299.71</td>\n",
       "      <td>6263.57</td>\n",
       "      <td>-4963.86</td>\n",
       "      <td>3.38</td>\n",
       "      <td>4</td>\n",
       "    </tr>\n",
       "    <tr>\n",
       "      <th>4</th>\n",
       "      <td>P8196</td>\n",
       "      <td>S33</td>\n",
       "      <td>East</td>\n",
       "      <td>2024-01-05</td>\n",
       "      <td>454</td>\n",
       "      <td>4036.91</td>\n",
       "      <td>5675.40</td>\n",
       "      <td>-1638.50</td>\n",
       "      <td>4.29</td>\n",
       "      <td>0</td>\n",
       "    </tr>\n",
       "  </tbody>\n",
       "</table>\n",
       "</div>"
      ],
      "text/plain": [
       "  product_id store_id region       date  units_sold  revenue    cost   profit  \\\n",
       "0      P9481      S31  North 2024-01-01         134  5859.33 5389.78   469.56   \n",
       "1      P5794      S29  North 2024-01-02         179  1216.38 2258.72 -1042.34   \n",
       "2      P2810      S14   East 2024-01-03         417  8207.84 6360.24  1847.60   \n",
       "3      P9069      S43   West 2024-01-04         250  1299.71 6263.57 -4963.86   \n",
       "4      P8196      S33   East 2024-01-05         454  4036.91 5675.40 -1638.50   \n",
       "\n",
       "   customer_rating  promotions_used  \n",
       "0             4.11                0  \n",
       "1             2.35                5  \n",
       "2             1.09                5  \n",
       "3             3.38                4  \n",
       "4             4.29                0  "
      ]
     },
     "execution_count": 15,
     "metadata": {},
     "output_type": "execute_result"
    }
   ],
   "source": [
    "df.head()"
   ]
  },
  {
   "cell_type": "code",
   "execution_count": 16,
   "metadata": {},
   "outputs": [
    {
     "data": {
      "text/plain": [
       "date\n",
       "2024-01-31   174567.73\n",
       "2024-02-29   151876.81\n",
       "2024-03-31   171468.53\n",
       "2024-04-30   139579.25\n",
       "2024-05-31   153369.41\n",
       "2024-06-30   164468.61\n",
       "2024-07-31   121629.70\n",
       "Freq: ME, Name: revenue, dtype: float64"
      ]
     },
     "execution_count": 16,
     "metadata": {},
     "output_type": "execute_result"
    }
   ],
   "source": [
    "df3=df.set_index('date')\n",
    "\n",
    "df3=df3['revenue'].resample('1ME').sum()\n",
    "df3"
   ]
  },
  {
   "cell_type": "code",
   "execution_count": 17,
   "metadata": {},
   "outputs": [
    {
     "data": {
      "image/png": "[encoded data removed]",
      "text/plain": [
       "<Figure size 1200x600 with 1 Axes>"
      ]
     },
     "metadata": {},
     "output_type": "display_data"
    }
   ],
   "source": [
    "\n",
    "# Plot the revenue trend\n",
    "plt.figure(figsize=(12, 6))\n",
    "plt.plot(df3.index, df3, marker='o', linestyle='-', label='Revenue Trend')\n",
    "\n",
    "# Add titles and labels\n",
    "plt.title('Monthly Revenue Trend', fontsize=16)\n",
    "plt.xlabel('Date', fontsize=12)\n",
    "plt.ylabel('Revenue ($)', fontsize=12)\n",
    "plt.xticks(rotation=45)  # Rotate x-axis labels for better visibility\n",
    "plt.grid(True)  # Add grid for clarity\n",
    "plt.legend(fontsize=12)\n",
    "\n",
    "# Adjust layout and display\n",
    "plt.tight_layout()\n",
    "plt.show()\n",
    "\n",
    "\n"
   ]
  }
 ],
 "metadata": {
  "kernelspec": {
   "display_name": "Python 3",
   "language": "python",
   "name": "python3"
  },
  "language_info": {
   "codemirror_mode": {
    "name": "ipython",
    "version": 3
   },
   "file_extension": ".py",
   "mimetype": "text/x-python",
   "name": "python",
   "nbconvert_exporter": "python",
   "pygments_lexer": "ipython3",
   "version": "3.13.0"
  }
 },
 "nbformat": 4,
 "nbformat_minor": 2
}
