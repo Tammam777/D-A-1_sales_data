{
 "cells": [
  {
   "cell_type": "code",
   "execution_count": 451,
   "metadata": {},
   "outputs": [],
   "source": [
    "import pandas as pd\n",
    "import numpy as np\n",
    "import matplotlib.pyplot as plt\n",
    "import seaborn as sns\n",
    "import plotly.express as px\n",
    "\n",
    "pd.options.display.float_format = '{:.2f}'.format\n",
    "pd.options.display.max_columns = None\n",
    "pd.options.display.max_rows = None"
   ]
  },
  {
   "cell_type": "code",
   "execution_count": 452,
   "metadata": {},
   "outputs": [
    {
     "data": {
      "text/html": [
       "<div>\n",
       "<style scoped>\n",
       "    .dataframe tbody tr th:only-of-type {\n",
       "        vertical-align: middle;\n",
       "    }\n",
       "\n",
       "    .dataframe tbody tr th {\n",
       "        vertical-align: top;\n",
       "    }\n",
       "\n",
       "    .dataframe thead th {\n",
       "        text-align: right;\n",
       "    }\n",
       "</style>\n",
       "<table border=\"1\" class=\"dataframe\">\n",
       "  <thead>\n",
       "    <tr style=\"text-align: right;\">\n",
       "      <th></th>\n",
       "      <th>id</th>\n",
       "      <th>title</th>\n",
       "      <th>displayAddress</th>\n",
       "      <th>bathrooms</th>\n",
       "      <th>bedrooms</th>\n",
       "      <th>addedOn</th>\n",
       "      <th>type</th>\n",
       "      <th>rera</th>\n",
       "      <th>propertyType</th>\n",
       "      <th>price</th>\n",
       "    </tr>\n",
       "  </thead>\n",
       "  <tbody>\n",
       "    <tr>\n",
       "      <th>0</th>\n",
       "      <td>10837871</td>\n",
       "      <td>★ EXCLUSIVE RELEASE ★ | LUXURY 3 BED FLAT | GO...</td>\n",
       "      <td>Sobha One, Sobha Hartland, Mohammed Bin Rashid...</td>\n",
       "      <td>2</td>\n",
       "      <td>3</td>\n",
       "      <td>2024-01-06T17:05:24+00:00</td>\n",
       "      <td>buy</td>\n",
       "      <td>817185656.00</td>\n",
       "      <td>apartment</td>\n",
       "      <td>3950000</td>\n",
       "    </tr>\n",
       "    <tr>\n",
       "      <th>1</th>\n",
       "      <td>10880180</td>\n",
       "      <td>★ BUY NOW 624,000AED ★ (20% FIRST PAYMENT + 4%...</td>\n",
       "      <td>Sobha Verde, Jumeirah Lake Towers, Dubai</td>\n",
       "      <td>2</td>\n",
       "      <td>3</td>\n",
       "      <td>2024-01-13T21:19:31+00:00</td>\n",
       "      <td>buy</td>\n",
       "      <td>817185656.00</td>\n",
       "      <td>apartment</td>\n",
       "      <td>2600000</td>\n",
       "    </tr>\n",
       "    <tr>\n",
       "      <th>2</th>\n",
       "      <td>11220200</td>\n",
       "      <td>GREEN HEART OF DUBAI |URBAN DESIGN | LUXURY LI...</td>\n",
       "      <td>Park Horizon, Dubai Hills Estate, Dubai</td>\n",
       "      <td>2</td>\n",
       "      <td>3</td>\n",
       "      <td>2024-03-12T03:18:54+00:00</td>\n",
       "      <td>buy</td>\n",
       "      <td>2125965775.00</td>\n",
       "      <td>apartment</td>\n",
       "      <td>3450000</td>\n",
       "    </tr>\n",
       "  </tbody>\n",
       "</table>\n",
       "</div>"
      ],
      "text/plain": [
       "         id                                              title  \\\n",
       "0  10837871  ★ EXCLUSIVE RELEASE ★ | LUXURY 3 BED FLAT | GO...   \n",
       "1  10880180  ★ BUY NOW 624,000AED ★ (20% FIRST PAYMENT + 4%...   \n",
       "2  11220200  GREEN HEART OF DUBAI |URBAN DESIGN | LUXURY LI...   \n",
       "\n",
       "                                      displayAddress  bathrooms  bedrooms  \\\n",
       "0  Sobha One, Sobha Hartland, Mohammed Bin Rashid...          2         3   \n",
       "1           Sobha Verde, Jumeirah Lake Towers, Dubai          2         3   \n",
       "2            Park Horizon, Dubai Hills Estate, Dubai          2         3   \n",
       "\n",
       "                     addedOn type          rera propertyType    price  \n",
       "0  2024-01-06T17:05:24+00:00  buy  817185656.00    apartment  3950000  \n",
       "1  2024-01-13T21:19:31+00:00  buy  817185656.00    apartment  2600000  \n",
       "2  2024-03-12T03:18:54+00:00  buy 2125965775.00    apartment  3450000  "
      ]
     },
     "execution_count": 452,
     "metadata": {},
     "output_type": "execute_result"
    }
   ],
   "source": [
    "df=pd.read_csv('uae_properties.csv')\n",
    "df.head(3)"
   ]
  },
  {
   "cell_type": "markdown",
   "metadata": {},
   "source": [
    "<span style=\"color: orange; font-size: 30px;\">Data Cleaning ✅</span>"
   ]
  },
  {
   "cell_type": "code",
   "execution_count": 453,
   "metadata": {},
   "outputs": [
    {
     "name": "stdout",
     "output_type": "stream",
     "text": [
      "<class 'pandas.core.frame.DataFrame'>\n",
      "RangeIndex: 492 entries, 0 to 491\n",
      "Data columns (total 10 columns):\n",
      " #   Column          Non-Null Count  Dtype  \n",
      "---  ------          --------------  -----  \n",
      " 0   id              492 non-null    int64  \n",
      " 1   title           492 non-null    object \n",
      " 2   displayAddress  492 non-null    object \n",
      " 3   bathrooms       492 non-null    int64  \n",
      " 4   bedrooms        492 non-null    int64  \n",
      " 5   addedOn         492 non-null    object \n",
      " 6   type            492 non-null    object \n",
      " 7   rera            323 non-null    float64\n",
      " 8   propertyType    492 non-null    object \n",
      " 9   price           492 non-null    int64  \n",
      "dtypes: float64(1), int64(4), object(5)\n",
      "memory usage: 38.6+ KB\n"
     ]
    }
   ],
   "source": [
    "df.info()"
   ]
  },
  {
   "cell_type": "code",
   "execution_count": 454,
   "metadata": {},
   "outputs": [],
   "source": [
    "df['addedOn']=pd.to_datetime(df['addedOn'])"
   ]
  },
  {
   "cell_type": "code",
   "execution_count": 455,
   "metadata": {},
   "outputs": [
    {
     "data": {
      "text/plain": [
       "np.int64(492)"
      ]
     },
     "execution_count": 455,
     "metadata": {},
     "output_type": "execute_result"
    }
   ],
   "source": [
    "(df['type'] == 'buy').sum()"
   ]
  },
  {
   "cell_type": "code",
   "execution_count": 456,
   "metadata": {},
   "outputs": [
    {
     "data": {
      "text/plain": [
       "np.int64(492)"
      ]
     },
     "execution_count": 456,
     "metadata": {},
     "output_type": "execute_result"
    }
   ],
   "source": [
    "(df['propertyType'] == 'apartment').sum()"
   ]
  },
  {
   "cell_type": "code",
   "execution_count": 457,
   "metadata": {},
   "outputs": [],
   "source": [
    "df = df.drop(columns=['type' , 'propertyType' , 'rera'])"
   ]
  },
  {
   "cell_type": "code",
   "execution_count": 458,
   "metadata": {},
   "outputs": [
    {
     "name": "stdout",
     "output_type": "stream",
     "text": [
      "<class 'pandas.core.frame.DataFrame'>\n",
      "RangeIndex: 492 entries, 0 to 491\n",
      "Data columns (total 7 columns):\n",
      " #   Column          Non-Null Count  Dtype              \n",
      "---  ------          --------------  -----              \n",
      " 0   id              492 non-null    int64              \n",
      " 1   title           492 non-null    object             \n",
      " 2   displayAddress  492 non-null    object             \n",
      " 3   bathrooms       492 non-null    int64              \n",
      " 4   bedrooms        492 non-null    int64              \n",
      " 5   addedOn         492 non-null    datetime64[ns, UTC]\n",
      " 6   price           492 non-null    int64              \n",
      "dtypes: datetime64[ns, UTC](1), int64(4), object(2)\n",
      "memory usage: 27.0+ KB\n"
     ]
    }
   ],
   "source": [
    "df.info()"
   ]
  },
  {
   "cell_type": "code",
   "execution_count": 459,
   "metadata": {},
   "outputs": [
    {
     "data": {
      "text/html": [
       "<div>\n",
       "<style scoped>\n",
       "    .dataframe tbody tr th:only-of-type {\n",
       "        vertical-align: middle;\n",
       "    }\n",
       "\n",
       "    .dataframe tbody tr th {\n",
       "        vertical-align: top;\n",
       "    }\n",
       "\n",
       "    .dataframe thead th {\n",
       "        text-align: right;\n",
       "    }\n",
       "</style>\n",
       "<table border=\"1\" class=\"dataframe\">\n",
       "  <thead>\n",
       "    <tr style=\"text-align: right;\">\n",
       "      <th></th>\n",
       "      <th>id</th>\n",
       "      <th>title</th>\n",
       "      <th>displayAddress</th>\n",
       "      <th>bathrooms</th>\n",
       "      <th>bedrooms</th>\n",
       "      <th>addedOn</th>\n",
       "      <th>price</th>\n",
       "    </tr>\n",
       "  </thead>\n",
       "  <tbody>\n",
       "    <tr>\n",
       "      <th>60</th>\n",
       "      <td>11041326</td>\n",
       "      <td>Burj Khalifa Views | Maids Room | Notice Given</td>\n",
       "      <td>South Ridge 5, South Ridge, Downtown Dubai, Dubai</td>\n",
       "      <td>2</td>\n",
       "      <td>3</td>\n",
       "      <td>2024-02-09 12:28:50+00:00</td>\n",
       "      <td>4025000</td>\n",
       "    </tr>\n",
       "    <tr>\n",
       "      <th>289</th>\n",
       "      <td>11170967</td>\n",
       "      <td>Near Metro | Lagoon Views | Easy Payment Plan</td>\n",
       "      <td>Azizi Venice, Dubai South (Dubai World Central...</td>\n",
       "      <td>2</td>\n",
       "      <td>0</td>\n",
       "      <td>2024-03-03 03:38:33+00:00</td>\n",
       "      <td>597000</td>\n",
       "    </tr>\n",
       "    <tr>\n",
       "      <th>318</th>\n",
       "      <td>10731225</td>\n",
       "      <td>Spacious 3BHK in Brand-new Tower | Pool View</td>\n",
       "      <td>Radiant Square, City Of Lights, Al Reem Island...</td>\n",
       "      <td>2</td>\n",
       "      <td>3</td>\n",
       "      <td>2023-12-15 07:58:10+00:00</td>\n",
       "      <td>1250000</td>\n",
       "    </tr>\n",
       "    <tr>\n",
       "      <th>384</th>\n",
       "      <td>10800767</td>\n",
       "      <td>Private pool | 8-yrs PP I 1% monthly |</td>\n",
       "      <td>Samana Barari Views, Majan, Dubai</td>\n",
       "      <td>2</td>\n",
       "      <td>0</td>\n",
       "      <td>2023-12-29 11:16:56+00:00</td>\n",
       "      <td>1800630</td>\n",
       "    </tr>\n",
       "    <tr>\n",
       "      <th>474</th>\n",
       "      <td>10984916</td>\n",
       "      <td>1% Payment Plan Damac Altitude</td>\n",
       "      <td>Damac Towers, Business Bay, Dubai</td>\n",
       "      <td>2</td>\n",
       "      <td>0</td>\n",
       "      <td>2024-01-31 10:10:58+00:00</td>\n",
       "      <td>3920000</td>\n",
       "    </tr>\n",
       "  </tbody>\n",
       "</table>\n",
       "</div>"
      ],
      "text/plain": [
       "           id                                           title  \\\n",
       "60   11041326  Burj Khalifa Views | Maids Room | Notice Given   \n",
       "289  11170967   Near Metro | Lagoon Views | Easy Payment Plan   \n",
       "318  10731225    Spacious 3BHK in Brand-new Tower | Pool View   \n",
       "384  10800767          Private pool | 8-yrs PP I 1% monthly |   \n",
       "474  10984916                  1% Payment Plan Damac Altitude   \n",
       "\n",
       "                                        displayAddress  bathrooms  bedrooms  \\\n",
       "60   South Ridge 5, South Ridge, Downtown Dubai, Dubai          2         3   \n",
       "289  Azizi Venice, Dubai South (Dubai World Central...          2         0   \n",
       "318  Radiant Square, City Of Lights, Al Reem Island...          2         3   \n",
       "384                  Samana Barari Views, Majan, Dubai          2         0   \n",
       "474                  Damac Towers, Business Bay, Dubai          2         0   \n",
       "\n",
       "                      addedOn    price  \n",
       "60  2024-02-09 12:28:50+00:00  4025000  \n",
       "289 2024-03-03 03:38:33+00:00   597000  \n",
       "318 2023-12-15 07:58:10+00:00  1250000  \n",
       "384 2023-12-29 11:16:56+00:00  1800630  \n",
       "474 2024-01-31 10:10:58+00:00  3920000  "
      ]
     },
     "execution_count": 459,
     "metadata": {},
     "output_type": "execute_result"
    }
   ],
   "source": [
    "df.sample(5)"
   ]
  },
  {
   "cell_type": "code",
   "execution_count": 460,
   "metadata": {},
   "outputs": [],
   "source": [
    "df['city']=df['displayAddress'].str.split(',').str[-1].str.strip()\n",
    "\n",
    "\n"
   ]
  },
  {
   "cell_type": "code",
   "execution_count": 461,
   "metadata": {},
   "outputs": [
    {
     "data": {
      "text/plain": [
       "city\n",
       "Dubai             307\n",
       "Abu Dhabi         122\n",
       "Sharjah            43\n",
       "Ras Al Khaimah     14\n",
       "Ajman               6\n",
       "Name: count, dtype: int64"
      ]
     },
     "execution_count": 461,
     "metadata": {},
     "output_type": "execute_result"
    }
   ],
   "source": [
    "df['city'].value_counts()"
   ]
  },
  {
   "cell_type": "code",
   "execution_count": 462,
   "metadata": {},
   "outputs": [],
   "source": [
    "# df['displayAddress']=df['displayAddress'].str.split(',').str[:-1].str.join(',').str.strip()\n"
   ]
  },
  {
   "cell_type": "code",
   "execution_count": 463,
   "metadata": {},
   "outputs": [
    {
     "data": {
      "text/plain": [
       "Index(['id', 'title', 'displayAddress', 'bathrooms', 'bedrooms', 'addedOn',\n",
       "       'price', 'city'],\n",
       "      dtype='object')"
      ]
     },
     "execution_count": 463,
     "metadata": {},
     "output_type": "execute_result"
    }
   ],
   "source": [
    "df.columns"
   ]
  },
  {
   "cell_type": "code",
   "execution_count": 464,
   "metadata": {},
   "outputs": [],
   "source": [
    "df=df[['id', 'addedOn', 'title', 'displayAddress', 'city', 'bathrooms', 'bedrooms',\n",
    "       'price']]"
   ]
  },
  {
   "cell_type": "code",
   "execution_count": 465,
   "metadata": {},
   "outputs": [
    {
     "name": "stdout",
     "output_type": "stream",
     "text": [
      "<class 'pandas.core.frame.DataFrame'>\n",
      "RangeIndex: 492 entries, 0 to 491\n",
      "Data columns (total 8 columns):\n",
      " #   Column          Non-Null Count  Dtype              \n",
      "---  ------          --------------  -----              \n",
      " 0   id              492 non-null    int64              \n",
      " 1   addedOn         492 non-null    datetime64[ns, UTC]\n",
      " 2   title           492 non-null    object             \n",
      " 3   displayAddress  492 non-null    object             \n",
      " 4   city            492 non-null    object             \n",
      " 5   bathrooms       492 non-null    int64              \n",
      " 6   bedrooms        492 non-null    int64              \n",
      " 7   price           492 non-null    int64              \n",
      "dtypes: datetime64[ns, UTC](1), int64(4), object(3)\n",
      "memory usage: 30.9+ KB\n"
     ]
    }
   ],
   "source": [
    "df.info()"
   ]
  },
  {
   "cell_type": "markdown",
   "metadata": {},
   "source": [
    "<span style=\"color: red; font-size: 40px;\">Data Cleaning Completed ✅</span>"
   ]
  },
  {
   "cell_type": "markdown",
   "metadata": {},
   "source": [
    "<div style=\"background: linear-gradient(to right,rgb(3, 12, 14),rgb(227, 55, 106)); height: 40px; border: none;\"></div>\n"
   ]
  },
  {
   "cell_type": "markdown",
   "metadata": {},
   "source": [
    "<span style=\"color: orange; font-size: 30px;\">City-Wise Analysis of Apartment Prices ✅</span>\n",
    "\n",
    "\n"
   ]
  },
  {
   "cell_type": "code",
   "execution_count": 466,
   "metadata": {},
   "outputs": [
    {
     "data": {
      "text/html": [
       "<div>\n",
       "<style scoped>\n",
       "    .dataframe tbody tr th:only-of-type {\n",
       "        vertical-align: middle;\n",
       "    }\n",
       "\n",
       "    .dataframe tbody tr th {\n",
       "        vertical-align: top;\n",
       "    }\n",
       "\n",
       "    .dataframe thead th {\n",
       "        text-align: right;\n",
       "    }\n",
       "</style>\n",
       "<table border=\"1\" class=\"dataframe\">\n",
       "  <thead>\n",
       "    <tr style=\"text-align: right;\">\n",
       "      <th></th>\n",
       "      <th>id</th>\n",
       "      <th>addedOn</th>\n",
       "      <th>title</th>\n",
       "      <th>displayAddress</th>\n",
       "      <th>city</th>\n",
       "      <th>bathrooms</th>\n",
       "      <th>bedrooms</th>\n",
       "      <th>price</th>\n",
       "    </tr>\n",
       "  </thead>\n",
       "  <tbody>\n",
       "    <tr>\n",
       "      <th>0</th>\n",
       "      <td>10837871</td>\n",
       "      <td>2024-01-06 17:05:24+00:00</td>\n",
       "      <td>★ EXCLUSIVE RELEASE ★ | LUXURY 3 BED FLAT | GO...</td>\n",
       "      <td>Sobha One, Sobha Hartland, Mohammed Bin Rashid...</td>\n",
       "      <td>Dubai</td>\n",
       "      <td>2</td>\n",
       "      <td>3</td>\n",
       "      <td>3950000</td>\n",
       "    </tr>\n",
       "    <tr>\n",
       "      <th>1</th>\n",
       "      <td>10880180</td>\n",
       "      <td>2024-01-13 21:19:31+00:00</td>\n",
       "      <td>★ BUY NOW 624,000AED ★ (20% FIRST PAYMENT + 4%...</td>\n",
       "      <td>Sobha Verde, Jumeirah Lake Towers, Dubai</td>\n",
       "      <td>Dubai</td>\n",
       "      <td>2</td>\n",
       "      <td>3</td>\n",
       "      <td>2600000</td>\n",
       "    </tr>\n",
       "    <tr>\n",
       "      <th>2</th>\n",
       "      <td>11220200</td>\n",
       "      <td>2024-03-12 03:18:54+00:00</td>\n",
       "      <td>GREEN HEART OF DUBAI |URBAN DESIGN | LUXURY LI...</td>\n",
       "      <td>Park Horizon, Dubai Hills Estate, Dubai</td>\n",
       "      <td>Dubai</td>\n",
       "      <td>2</td>\n",
       "      <td>3</td>\n",
       "      <td>3450000</td>\n",
       "    </tr>\n",
       "    <tr>\n",
       "      <th>3</th>\n",
       "      <td>11176502</td>\n",
       "      <td>2024-03-04 06:53:51+00:00</td>\n",
       "      <td>Prime Location | Corner Spacious Unit | Bright...</td>\n",
       "      <td>AZIZI Riviera, Meydan One, Meydan, Dubai</td>\n",
       "      <td>Dubai</td>\n",
       "      <td>2</td>\n",
       "      <td>3</td>\n",
       "      <td>2000000</td>\n",
       "    </tr>\n",
       "    <tr>\n",
       "      <th>4</th>\n",
       "      <td>11179908</td>\n",
       "      <td>2024-03-04 13:24:39+00:00</td>\n",
       "      <td>Very Limited | Ideal For Investment | 40% Disc...</td>\n",
       "      <td>Verdana, Dubai Investment Park, Dubai</td>\n",
       "      <td>Dubai</td>\n",
       "      <td>2</td>\n",
       "      <td>0</td>\n",
       "      <td>284000</td>\n",
       "    </tr>\n",
       "  </tbody>\n",
       "</table>\n",
       "</div>"
      ],
      "text/plain": [
       "         id                   addedOn  \\\n",
       "0  10837871 2024-01-06 17:05:24+00:00   \n",
       "1  10880180 2024-01-13 21:19:31+00:00   \n",
       "2  11220200 2024-03-12 03:18:54+00:00   \n",
       "3  11176502 2024-03-04 06:53:51+00:00   \n",
       "4  11179908 2024-03-04 13:24:39+00:00   \n",
       "\n",
       "                                               title  \\\n",
       "0  ★ EXCLUSIVE RELEASE ★ | LUXURY 3 BED FLAT | GO...   \n",
       "1  ★ BUY NOW 624,000AED ★ (20% FIRST PAYMENT + 4%...   \n",
       "2  GREEN HEART OF DUBAI |URBAN DESIGN | LUXURY LI...   \n",
       "3  Prime Location | Corner Spacious Unit | Bright...   \n",
       "4  Very Limited | Ideal For Investment | 40% Disc...   \n",
       "\n",
       "                                      displayAddress   city  bathrooms  \\\n",
       "0  Sobha One, Sobha Hartland, Mohammed Bin Rashid...  Dubai          2   \n",
       "1           Sobha Verde, Jumeirah Lake Towers, Dubai  Dubai          2   \n",
       "2            Park Horizon, Dubai Hills Estate, Dubai  Dubai          2   \n",
       "3           AZIZI Riviera, Meydan One, Meydan, Dubai  Dubai          2   \n",
       "4              Verdana, Dubai Investment Park, Dubai  Dubai          2   \n",
       "\n",
       "   bedrooms    price  \n",
       "0         3  3950000  \n",
       "1         3  2600000  \n",
       "2         3  3450000  \n",
       "3         3  2000000  \n",
       "4         0   284000  "
      ]
     },
     "execution_count": 466,
     "metadata": {},
     "output_type": "execute_result"
    }
   ],
   "source": [
    "df.head()"
   ]
  },
  {
   "cell_type": "code",
   "execution_count": 467,
   "metadata": {},
   "outputs": [
    {
     "data": {
      "text/html": [
       "<div>\n",
       "<style scoped>\n",
       "    .dataframe tbody tr th:only-of-type {\n",
       "        vertical-align: middle;\n",
       "    }\n",
       "\n",
       "    .dataframe tbody tr th {\n",
       "        vertical-align: top;\n",
       "    }\n",
       "\n",
       "    .dataframe thead th {\n",
       "        text-align: right;\n",
       "    }\n",
       "</style>\n",
       "<table border=\"1\" class=\"dataframe\">\n",
       "  <thead>\n",
       "    <tr style=\"text-align: right;\">\n",
       "      <th></th>\n",
       "      <th>city</th>\n",
       "      <th>mean</th>\n",
       "      <th>count</th>\n",
       "    </tr>\n",
       "  </thead>\n",
       "  <tbody>\n",
       "    <tr>\n",
       "      <th>3</th>\n",
       "      <td>Ras Al Khaimah</td>\n",
       "      <td>2812816.93</td>\n",
       "      <td>14</td>\n",
       "    </tr>\n",
       "    <tr>\n",
       "      <th>2</th>\n",
       "      <td>Dubai</td>\n",
       "      <td>2587408.98</td>\n",
       "      <td>307</td>\n",
       "    </tr>\n",
       "    <tr>\n",
       "      <th>0</th>\n",
       "      <td>Abu Dhabi</td>\n",
       "      <td>1411758.56</td>\n",
       "      <td>122</td>\n",
       "    </tr>\n",
       "    <tr>\n",
       "      <th>4</th>\n",
       "      <td>Sharjah</td>\n",
       "      <td>1348680.23</td>\n",
       "      <td>43</td>\n",
       "    </tr>\n",
       "    <tr>\n",
       "      <th>1</th>\n",
       "      <td>Ajman</td>\n",
       "      <td>328666.67</td>\n",
       "      <td>6</td>\n",
       "    </tr>\n",
       "  </tbody>\n",
       "</table>\n",
       "</div>"
      ],
      "text/plain": [
       "             city       mean  count\n",
       "3  Ras Al Khaimah 2812816.93     14\n",
       "2           Dubai 2587408.98    307\n",
       "0       Abu Dhabi 1411758.56    122\n",
       "4         Sharjah 1348680.23     43\n",
       "1           Ajman  328666.67      6"
      ]
     },
     "execution_count": 467,
     "metadata": {},
     "output_type": "execute_result"
    }
   ],
   "source": [
    "df1=df.groupby('city')['price'].agg(mean='mean' , count='count').reset_index()\n",
    "df1=df1.sort_values('mean' , ascending=False)\n",
    "df1"
   ]
  },
  {
   "cell_type": "code",
   "execution_count": 468,
   "metadata": {},
   "outputs": [
    {
     "data": {
      "image/png": "[encoded data removed]",
      "text/plain": [
       "<Figure size 1200x500 with 1 Axes>"
      ]
     },
     "metadata": {},
     "output_type": "display_data"
    }
   ],
   "source": [
    "plt.figure(figsize=(12,5) , facecolor='teal')\n",
    "bars=plt.bar(data=df1 , x='city' , height='mean' ,color=['red', 'blue', 'green', 'yellow', 'purple'])\n",
    "plt.bar_label(bars, labels=df1['count'].astype(str), fontsize=12)\n",
    "plt.gca().set_facecolor('teal')\n",
    "plt.title('Average Apartment Prices in Different Cities' , fontsize=16)\n",
    "plt.xlabel('(City)' , fontsize=14)\n",
    "plt.ylabel('(The Average)' , fontsize=14)\n",
    "plt.grid(axis='y',alpha=0.3 , linestyle='--')\n",
    "\n",
    "plt.tight_layout()\n",
    "plt.show()\n",
    "\n"
   ]
  },
  {
   "cell_type": "markdown",
   "metadata": {},
   "source": [
    "<div style=\"background: linear-gradient(to right,rgb(3, 12, 14),rgb(227, 55, 106)); height: 40px; border: none;\"></div>\n"
   ]
  },
  {
   "cell_type": "markdown",
   "metadata": {},
   "source": [
    "<span style=\"color: orange; font-size: 30px;\">the relationship between descret and price ✅</span>\n",
    "\n",
    "\n"
   ]
  },
  {
   "cell_type": "code",
   "execution_count": 469,
   "metadata": {},
   "outputs": [
    {
     "data": {
      "text/html": [
       "<div>\n",
       "<style scoped>\n",
       "    .dataframe tbody tr th:only-of-type {\n",
       "        vertical-align: middle;\n",
       "    }\n",
       "\n",
       "    .dataframe tbody tr th {\n",
       "        vertical-align: top;\n",
       "    }\n",
       "\n",
       "    .dataframe thead th {\n",
       "        text-align: right;\n",
       "    }\n",
       "</style>\n",
       "<table border=\"1\" class=\"dataframe\">\n",
       "  <thead>\n",
       "    <tr style=\"text-align: right;\">\n",
       "      <th></th>\n",
       "      <th>id</th>\n",
       "      <th>addedOn</th>\n",
       "      <th>title</th>\n",
       "      <th>displayAddress</th>\n",
       "      <th>city</th>\n",
       "      <th>bathrooms</th>\n",
       "      <th>bedrooms</th>\n",
       "      <th>price</th>\n",
       "    </tr>\n",
       "  </thead>\n",
       "  <tbody>\n",
       "    <tr>\n",
       "      <th>0</th>\n",
       "      <td>10837871</td>\n",
       "      <td>2024-01-06 17:05:24+00:00</td>\n",
       "      <td>★ EXCLUSIVE RELEASE ★ | LUXURY 3 BED FLAT | GO...</td>\n",
       "      <td>Sobha One, Sobha Hartland, Mohammed Bin Rashid...</td>\n",
       "      <td>Dubai</td>\n",
       "      <td>2</td>\n",
       "      <td>3</td>\n",
       "      <td>3950000</td>\n",
       "    </tr>\n",
       "    <tr>\n",
       "      <th>1</th>\n",
       "      <td>10880180</td>\n",
       "      <td>2024-01-13 21:19:31+00:00</td>\n",
       "      <td>★ BUY NOW 624,000AED ★ (20% FIRST PAYMENT + 4%...</td>\n",
       "      <td>Sobha Verde, Jumeirah Lake Towers, Dubai</td>\n",
       "      <td>Dubai</td>\n",
       "      <td>2</td>\n",
       "      <td>3</td>\n",
       "      <td>2600000</td>\n",
       "    </tr>\n",
       "    <tr>\n",
       "      <th>2</th>\n",
       "      <td>11220200</td>\n",
       "      <td>2024-03-12 03:18:54+00:00</td>\n",
       "      <td>GREEN HEART OF DUBAI |URBAN DESIGN | LUXURY LI...</td>\n",
       "      <td>Park Horizon, Dubai Hills Estate, Dubai</td>\n",
       "      <td>Dubai</td>\n",
       "      <td>2</td>\n",
       "      <td>3</td>\n",
       "      <td>3450000</td>\n",
       "    </tr>\n",
       "    <tr>\n",
       "      <th>3</th>\n",
       "      <td>11176502</td>\n",
       "      <td>2024-03-04 06:53:51+00:00</td>\n",
       "      <td>Prime Location | Corner Spacious Unit | Bright...</td>\n",
       "      <td>AZIZI Riviera, Meydan One, Meydan, Dubai</td>\n",
       "      <td>Dubai</td>\n",
       "      <td>2</td>\n",
       "      <td>3</td>\n",
       "      <td>2000000</td>\n",
       "    </tr>\n",
       "    <tr>\n",
       "      <th>4</th>\n",
       "      <td>11179908</td>\n",
       "      <td>2024-03-04 13:24:39+00:00</td>\n",
       "      <td>Very Limited | Ideal For Investment | 40% Disc...</td>\n",
       "      <td>Verdana, Dubai Investment Park, Dubai</td>\n",
       "      <td>Dubai</td>\n",
       "      <td>2</td>\n",
       "      <td>0</td>\n",
       "      <td>284000</td>\n",
       "    </tr>\n",
       "  </tbody>\n",
       "</table>\n",
       "</div>"
      ],
      "text/plain": [
       "         id                   addedOn  \\\n",
       "0  10837871 2024-01-06 17:05:24+00:00   \n",
       "1  10880180 2024-01-13 21:19:31+00:00   \n",
       "2  11220200 2024-03-12 03:18:54+00:00   \n",
       "3  11176502 2024-03-04 06:53:51+00:00   \n",
       "4  11179908 2024-03-04 13:24:39+00:00   \n",
       "\n",
       "                                               title  \\\n",
       "0  ★ EXCLUSIVE RELEASE ★ | LUXURY 3 BED FLAT | GO...   \n",
       "1  ★ BUY NOW 624,000AED ★ (20% FIRST PAYMENT + 4%...   \n",
       "2  GREEN HEART OF DUBAI |URBAN DESIGN | LUXURY LI...   \n",
       "3  Prime Location | Corner Spacious Unit | Bright...   \n",
       "4  Very Limited | Ideal For Investment | 40% Disc...   \n",
       "\n",
       "                                      displayAddress   city  bathrooms  \\\n",
       "0  Sobha One, Sobha Hartland, Mohammed Bin Rashid...  Dubai          2   \n",
       "1           Sobha Verde, Jumeirah Lake Towers, Dubai  Dubai          2   \n",
       "2            Park Horizon, Dubai Hills Estate, Dubai  Dubai          2   \n",
       "3           AZIZI Riviera, Meydan One, Meydan, Dubai  Dubai          2   \n",
       "4              Verdana, Dubai Investment Park, Dubai  Dubai          2   \n",
       "\n",
       "   bedrooms    price  \n",
       "0         3  3950000  \n",
       "1         3  2600000  \n",
       "2         3  3450000  \n",
       "3         3  2000000  \n",
       "4         0   284000  "
      ]
     },
     "execution_count": 469,
     "metadata": {},
     "output_type": "execute_result"
    }
   ],
   "source": [
    "df.head()"
   ]
  },
  {
   "cell_type": "code",
   "execution_count": 470,
   "metadata": {},
   "outputs": [
    {
     "data": {
      "text/plain": [
       "np.int64(243)"
      ]
     },
     "execution_count": 470,
     "metadata": {},
     "output_type": "execute_result"
    }
   ],
   "source": [
    "df['displayAddress'].count() - df['displayAddress'].nunique()"
   ]
  },
  {
   "cell_type": "code",
   "execution_count": 471,
   "metadata": {},
   "outputs": [
    {
     "name": "stdout",
     "output_type": "stream",
     "text": [
      " 2166491.44\n"
     ]
    }
   ],
   "source": [
    "print(f'{df['price'].mean() : .2f}')"
   ]
  },
  {
   "cell_type": "markdown",
   "metadata": {},
   "source": [
    "10 most expensive areas in the UAE"
   ]
  },
  {
   "cell_type": "code",
   "execution_count": 472,
   "metadata": {},
   "outputs": [
    {
     "data": {
      "text/html": [
       "<div>\n",
       "<style scoped>\n",
       "    .dataframe tbody tr th:only-of-type {\n",
       "        vertical-align: middle;\n",
       "    }\n",
       "\n",
       "    .dataframe tbody tr th {\n",
       "        vertical-align: top;\n",
       "    }\n",
       "\n",
       "    .dataframe thead th {\n",
       "        text-align: right;\n",
       "    }\n",
       "</style>\n",
       "<table border=\"1\" class=\"dataframe\">\n",
       "  <thead>\n",
       "    <tr style=\"text-align: right;\">\n",
       "      <th></th>\n",
       "      <th>price</th>\n",
       "    </tr>\n",
       "    <tr>\n",
       "      <th>displayAddress</th>\n",
       "      <th></th>\n",
       "    </tr>\n",
       "  </thead>\n",
       "  <tbody>\n",
       "    <tr>\n",
       "      <th>Apartment Building 7, Bluewaters Residences, Bluewaters, Dubai</th>\n",
       "      <td>14500000.00</td>\n",
       "    </tr>\n",
       "    <tr>\n",
       "      <th>Palm Beach Towers 1, Palm Beach Towers, Palm Jumeirah, Dubai</th>\n",
       "      <td>12803400.00</td>\n",
       "    </tr>\n",
       "    <tr>\n",
       "      <th>SLS Residences the Palm, Palm Jumeirah, Dubai</th>\n",
       "      <td>12046000.00</td>\n",
       "    </tr>\n",
       "    <tr>\n",
       "      <th>The Fairmont Palm Residence North, The Fairmont Palm Residences, Palm Jumeirah, Dubai</th>\n",
       "      <td>11500000.00</td>\n",
       "    </tr>\n",
       "    <tr>\n",
       "      <th>Mamsha Al Saadiyat, Saadiyat Cultural District, Saadiyat Island, Abu Dhabi</th>\n",
       "      <td>11000000.00</td>\n",
       "    </tr>\n",
       "    <tr>\n",
       "      <th>The Address Dubai Mall, Downtown Dubai, Dubai</th>\n",
       "      <td>10000000.00</td>\n",
       "    </tr>\n",
       "    <tr>\n",
       "      <th>Peninsula Four, Peninsula, Business Bay, Dubai</th>\n",
       "      <td>8196000.00</td>\n",
       "    </tr>\n",
       "    <tr>\n",
       "      <th>Jumeirah Gate Tower 1, The Address Jumeirah Resort and Spa, Jumeirah Beach Residence, Dubai</th>\n",
       "      <td>8150000.00</td>\n",
       "    </tr>\n",
       "    <tr>\n",
       "      <th>The Address Residences Dubai Opera Tower 1, The Address Residences Dubai Opera, Downtown Dubai, Dubai</th>\n",
       "      <td>8000000.00</td>\n",
       "    </tr>\n",
       "    <tr>\n",
       "      <th>Liv Lux, Dubai Marina, Dubai</th>\n",
       "      <td>7524548.00</td>\n",
       "    </tr>\n",
       "  </tbody>\n",
       "</table>\n",
       "</div>"
      ],
      "text/plain": [
       "                                                         price\n",
       "displayAddress                                                \n",
       "Apartment Building 7, Bluewaters Residences, Bl... 14500000.00\n",
       "Palm Beach Towers 1, Palm Beach Towers, Palm Ju... 12803400.00\n",
       "SLS Residences the Palm, Palm Jumeirah, Dubai      12046000.00\n",
       "The Fairmont Palm Residence North, The Fairmont... 11500000.00\n",
       "Mamsha Al Saadiyat, Saadiyat Cultural District,... 11000000.00\n",
       "The Address Dubai Mall, Downtown Dubai, Dubai      10000000.00\n",
       "Peninsula Four, Peninsula, Business Bay, Dubai      8196000.00\n",
       "Jumeirah Gate Tower 1, The Address Jumeirah Res...  8150000.00\n",
       "The Address Residences Dubai Opera Tower 1, The...  8000000.00\n",
       "Liv Lux, Dubai Marina, Dubai                        7524548.00"
      ]
     },
     "execution_count": 472,
     "metadata": {},
     "output_type": "execute_result"
    }
   ],
   "source": [
    "df2=df.groupby('displayAddress')['price'].mean().to_frame().sort_values('price' , ascending=False).head(10)\n",
    "\n",
    "df2"
   ]
  },
  {
   "cell_type": "code",
   "execution_count": 473,
   "metadata": {},
   "outputs": [
    {
     "data": {
      "image/png": "[encoded data removed]",
      "text/plain": [
       "<Figure size 1200x900 with 1 Axes>"
      ]
     },
     "metadata": {},
     "output_type": "display_data"
    }
   ],
   "source": [
    "colors = ['#1f77b4', '#ff7f0e', '#2ca02c', '#d62728', \n",
    "          '#9467bd', '#8c564b', '#e377c2', '#7f7f7f', \n",
    "          '#bcbd22', '#17becf']\n",
    "\n",
    "plt.figure(figsize=(12 , 9) , facecolor='lightyellow')\n",
    "plt.barh(data=df2 , width='price' , y=df2.index , color=colors , edgecolor='white')\n",
    "plt.gca().set_facecolor('black')\n",
    "plt.xticks(rotation=0 , fontsize=14)\n",
    "plt.title('[ Where Luxury Lives: The Top 10 Priciest Areas in the UAE ]' , fontsize=18)\n",
    "plt.xlabel('(price * 10^7)' , fontsize=22)\n",
    "plt.ylabel('(Areas)' , fontsize=22)\n",
    "plt.yticks(fontsize=16)\n",
    "plt.show()"
   ]
  },
  {
   "cell_type": "markdown",
   "metadata": {},
   "source": [
    "<div style=\"background: linear-gradient(to right,rgb(3, 12, 14),rgb(227, 55, 106)); height: 40px; border: none;\"></div>\n"
   ]
  },
  {
   "cell_type": "markdown",
   "metadata": {},
   "source": [
    "<span style=\"color: orange; font-size: 30px;\">Average Price of 3-Bedroom Apartments in Dubai After Removing Outliers✅</span>\n",
    "\n",
    "\n"
   ]
  },
  {
   "cell_type": "code",
   "execution_count": 474,
   "metadata": {},
   "outputs": [
    {
     "data": {
      "text/html": [
       "<div>\n",
       "<style scoped>\n",
       "    .dataframe tbody tr th:only-of-type {\n",
       "        vertical-align: middle;\n",
       "    }\n",
       "\n",
       "    .dataframe tbody tr th {\n",
       "        vertical-align: top;\n",
       "    }\n",
       "\n",
       "    .dataframe thead th {\n",
       "        text-align: right;\n",
       "    }\n",
       "</style>\n",
       "<table border=\"1\" class=\"dataframe\">\n",
       "  <thead>\n",
       "    <tr style=\"text-align: right;\">\n",
       "      <th></th>\n",
       "      <th>id</th>\n",
       "      <th>addedOn</th>\n",
       "      <th>title</th>\n",
       "      <th>displayAddress</th>\n",
       "      <th>city</th>\n",
       "      <th>bathrooms</th>\n",
       "      <th>bedrooms</th>\n",
       "      <th>price</th>\n",
       "    </tr>\n",
       "  </thead>\n",
       "  <tbody>\n",
       "    <tr>\n",
       "      <th>0</th>\n",
       "      <td>10837871</td>\n",
       "      <td>2024-01-06 17:05:24+00:00</td>\n",
       "      <td>★ EXCLUSIVE RELEASE ★ | LUXURY 3 BED FLAT | GO...</td>\n",
       "      <td>Sobha One, Sobha Hartland, Mohammed Bin Rashid...</td>\n",
       "      <td>Dubai</td>\n",
       "      <td>2</td>\n",
       "      <td>3</td>\n",
       "      <td>3950000</td>\n",
       "    </tr>\n",
       "    <tr>\n",
       "      <th>1</th>\n",
       "      <td>10880180</td>\n",
       "      <td>2024-01-13 21:19:31+00:00</td>\n",
       "      <td>★ BUY NOW 624,000AED ★ (20% FIRST PAYMENT + 4%...</td>\n",
       "      <td>Sobha Verde, Jumeirah Lake Towers, Dubai</td>\n",
       "      <td>Dubai</td>\n",
       "      <td>2</td>\n",
       "      <td>3</td>\n",
       "      <td>2600000</td>\n",
       "    </tr>\n",
       "    <tr>\n",
       "      <th>2</th>\n",
       "      <td>11220200</td>\n",
       "      <td>2024-03-12 03:18:54+00:00</td>\n",
       "      <td>GREEN HEART OF DUBAI |URBAN DESIGN | LUXURY LI...</td>\n",
       "      <td>Park Horizon, Dubai Hills Estate, Dubai</td>\n",
       "      <td>Dubai</td>\n",
       "      <td>2</td>\n",
       "      <td>3</td>\n",
       "      <td>3450000</td>\n",
       "    </tr>\n",
       "    <tr>\n",
       "      <th>3</th>\n",
       "      <td>11176502</td>\n",
       "      <td>2024-03-04 06:53:51+00:00</td>\n",
       "      <td>Prime Location | Corner Spacious Unit | Bright...</td>\n",
       "      <td>AZIZI Riviera, Meydan One, Meydan, Dubai</td>\n",
       "      <td>Dubai</td>\n",
       "      <td>2</td>\n",
       "      <td>3</td>\n",
       "      <td>2000000</td>\n",
       "    </tr>\n",
       "    <tr>\n",
       "      <th>4</th>\n",
       "      <td>11179908</td>\n",
       "      <td>2024-03-04 13:24:39+00:00</td>\n",
       "      <td>Very Limited | Ideal For Investment | 40% Disc...</td>\n",
       "      <td>Verdana, Dubai Investment Park, Dubai</td>\n",
       "      <td>Dubai</td>\n",
       "      <td>2</td>\n",
       "      <td>0</td>\n",
       "      <td>284000</td>\n",
       "    </tr>\n",
       "  </tbody>\n",
       "</table>\n",
       "</div>"
      ],
      "text/plain": [
       "         id                   addedOn  \\\n",
       "0  10837871 2024-01-06 17:05:24+00:00   \n",
       "1  10880180 2024-01-13 21:19:31+00:00   \n",
       "2  11220200 2024-03-12 03:18:54+00:00   \n",
       "3  11176502 2024-03-04 06:53:51+00:00   \n",
       "4  11179908 2024-03-04 13:24:39+00:00   \n",
       "\n",
       "                                               title  \\\n",
       "0  ★ EXCLUSIVE RELEASE ★ | LUXURY 3 BED FLAT | GO...   \n",
       "1  ★ BUY NOW 624,000AED ★ (20% FIRST PAYMENT + 4%...   \n",
       "2  GREEN HEART OF DUBAI |URBAN DESIGN | LUXURY LI...   \n",
       "3  Prime Location | Corner Spacious Unit | Bright...   \n",
       "4  Very Limited | Ideal For Investment | 40% Disc...   \n",
       "\n",
       "                                      displayAddress   city  bathrooms  \\\n",
       "0  Sobha One, Sobha Hartland, Mohammed Bin Rashid...  Dubai          2   \n",
       "1           Sobha Verde, Jumeirah Lake Towers, Dubai  Dubai          2   \n",
       "2            Park Horizon, Dubai Hills Estate, Dubai  Dubai          2   \n",
       "3           AZIZI Riviera, Meydan One, Meydan, Dubai  Dubai          2   \n",
       "4              Verdana, Dubai Investment Park, Dubai  Dubai          2   \n",
       "\n",
       "   bedrooms    price  \n",
       "0         3  3950000  \n",
       "1         3  2600000  \n",
       "2         3  3450000  \n",
       "3         3  2000000  \n",
       "4         0   284000  "
      ]
     },
     "execution_count": 474,
     "metadata": {},
     "output_type": "execute_result"
    }
   ],
   "source": [
    "df.head()"
   ]
  },
  {
   "cell_type": "code",
   "execution_count": 475,
   "metadata": {},
   "outputs": [],
   "source": [
    "df3=df[df['bedrooms'] == 3]"
   ]
  },
  {
   "cell_type": "code",
   "execution_count": 476,
   "metadata": {},
   "outputs": [
    {
     "data": {
      "text/html": [
       "<div>\n",
       "<style scoped>\n",
       "    .dataframe tbody tr th:only-of-type {\n",
       "        vertical-align: middle;\n",
       "    }\n",
       "\n",
       "    .dataframe tbody tr th {\n",
       "        vertical-align: top;\n",
       "    }\n",
       "\n",
       "    .dataframe thead th {\n",
       "        text-align: right;\n",
       "    }\n",
       "</style>\n",
       "<table border=\"1\" class=\"dataframe\">\n",
       "  <thead>\n",
       "    <tr style=\"text-align: right;\">\n",
       "      <th></th>\n",
       "      <th>id</th>\n",
       "      <th>addedOn</th>\n",
       "      <th>title</th>\n",
       "      <th>displayAddress</th>\n",
       "      <th>city</th>\n",
       "      <th>bathrooms</th>\n",
       "      <th>bedrooms</th>\n",
       "      <th>price</th>\n",
       "    </tr>\n",
       "  </thead>\n",
       "  <tbody>\n",
       "    <tr>\n",
       "      <th>185</th>\n",
       "      <td>10156369</td>\n",
       "      <td>2023-08-22 11:43:47+00:00</td>\n",
       "      <td>Penthouse | Amazing Water View | VOT</td>\n",
       "      <td>The Torch, Dubai Marina, Dubai</td>\n",
       "      <td>Dubai</td>\n",
       "      <td>2</td>\n",
       "      <td>3</td>\n",
       "      <td>6800000</td>\n",
       "    </tr>\n",
       "    <tr>\n",
       "      <th>454</th>\n",
       "      <td>10587631</td>\n",
       "      <td>2023-11-17 03:04:32+00:00</td>\n",
       "      <td>Genuine Resale|Payment Plan| Furnished| Near M...</td>\n",
       "      <td>Golf Views Seven City, Jumeirah Lake Towers, D...</td>\n",
       "      <td>Dubai</td>\n",
       "      <td>2</td>\n",
       "      <td>3</td>\n",
       "      <td>2000000</td>\n",
       "    </tr>\n",
       "    <tr>\n",
       "      <th>192</th>\n",
       "      <td>10433272</td>\n",
       "      <td>2023-10-19 07:02:13+00:00</td>\n",
       "      <td>3BR Brand New | Premium Building | Near Metro</td>\n",
       "      <td>The Nook 2, The Nook, Wasl Gate, Dubai</td>\n",
       "      <td>Dubai</td>\n",
       "      <td>2</td>\n",
       "      <td>3</td>\n",
       "      <td>1550000</td>\n",
       "    </tr>\n",
       "    <tr>\n",
       "      <th>490</th>\n",
       "      <td>11151144</td>\n",
       "      <td>2024-02-28 07:11:49+00:00</td>\n",
       "      <td>Full Burj Khalifa  | High Floor | Confirm Seller</td>\n",
       "      <td>Boulevard Point, Downtown Dubai, Dubai</td>\n",
       "      <td>Dubai</td>\n",
       "      <td>2</td>\n",
       "      <td>3</td>\n",
       "      <td>6600000</td>\n",
       "    </tr>\n",
       "    <tr>\n",
       "      <th>61</th>\n",
       "      <td>10888882</td>\n",
       "      <td>2024-01-15 14:24:54+00:00</td>\n",
       "      <td>Popular Views | Spacious W/ Post Payment</td>\n",
       "      <td>Palm Beach Towers 1, Palm Beach Towers, Palm J...</td>\n",
       "      <td>Dubai</td>\n",
       "      <td>2</td>\n",
       "      <td>3</td>\n",
       "      <td>12803400</td>\n",
       "    </tr>\n",
       "  </tbody>\n",
       "</table>\n",
       "</div>"
      ],
      "text/plain": [
       "           id                   addedOn  \\\n",
       "185  10156369 2023-08-22 11:43:47+00:00   \n",
       "454  10587631 2023-11-17 03:04:32+00:00   \n",
       "192  10433272 2023-10-19 07:02:13+00:00   \n",
       "490  11151144 2024-02-28 07:11:49+00:00   \n",
       "61   10888882 2024-01-15 14:24:54+00:00   \n",
       "\n",
       "                                                 title  \\\n",
       "185               Penthouse | Amazing Water View | VOT   \n",
       "454  Genuine Resale|Payment Plan| Furnished| Near M...   \n",
       "192      3BR Brand New | Premium Building | Near Metro   \n",
       "490   Full Burj Khalifa  | High Floor | Confirm Seller   \n",
       "61            Popular Views | Spacious W/ Post Payment   \n",
       "\n",
       "                                        displayAddress   city  bathrooms  \\\n",
       "185                     The Torch, Dubai Marina, Dubai  Dubai          2   \n",
       "454  Golf Views Seven City, Jumeirah Lake Towers, D...  Dubai          2   \n",
       "192             The Nook 2, The Nook, Wasl Gate, Dubai  Dubai          2   \n",
       "490             Boulevard Point, Downtown Dubai, Dubai  Dubai          2   \n",
       "61   Palm Beach Towers 1, Palm Beach Towers, Palm J...  Dubai          2   \n",
       "\n",
       "     bedrooms     price  \n",
       "185         3   6800000  \n",
       "454         3   2000000  \n",
       "192         3   1550000  \n",
       "490         3   6600000  \n",
       "61          3  12803400  "
      ]
     },
     "execution_count": 476,
     "metadata": {},
     "output_type": "execute_result"
    }
   ],
   "source": [
    "df3=df3[df3['city'] == 'Dubai']\n",
    "df3.sample(5)"
   ]
  },
  {
   "cell_type": "code",
   "execution_count": 477,
   "metadata": {},
   "outputs": [
    {
     "data": {
      "text/html": [
       "<div>\n",
       "<style scoped>\n",
       "    .dataframe tbody tr th:only-of-type {\n",
       "        vertical-align: middle;\n",
       "    }\n",
       "\n",
       "    .dataframe tbody tr th {\n",
       "        vertical-align: top;\n",
       "    }\n",
       "\n",
       "    .dataframe thead th {\n",
       "        text-align: right;\n",
       "    }\n",
       "</style>\n",
       "<table border=\"1\" class=\"dataframe\">\n",
       "  <thead>\n",
       "    <tr style=\"text-align: right;\">\n",
       "      <th></th>\n",
       "      <th>price</th>\n",
       "    </tr>\n",
       "  </thead>\n",
       "  <tbody>\n",
       "    <tr>\n",
       "      <th>count</th>\n",
       "      <td>197.00</td>\n",
       "    </tr>\n",
       "    <tr>\n",
       "      <th>mean</th>\n",
       "      <td>3559830.11</td>\n",
       "    </tr>\n",
       "    <tr>\n",
       "      <th>std</th>\n",
       "      <td>2567010.00</td>\n",
       "    </tr>\n",
       "    <tr>\n",
       "      <th>min</th>\n",
       "      <td>899990.00</td>\n",
       "    </tr>\n",
       "    <tr>\n",
       "      <th>25%</th>\n",
       "      <td>1780000.00</td>\n",
       "    </tr>\n",
       "    <tr>\n",
       "      <th>50%</th>\n",
       "      <td>2500000.00</td>\n",
       "    </tr>\n",
       "    <tr>\n",
       "      <th>75%</th>\n",
       "      <td>4500000.00</td>\n",
       "    </tr>\n",
       "    <tr>\n",
       "      <th>max</th>\n",
       "      <td>14500000.00</td>\n",
       "    </tr>\n",
       "  </tbody>\n",
       "</table>\n",
       "</div>"
      ],
      "text/plain": [
       "            price\n",
       "count      197.00\n",
       "mean   3559830.11\n",
       "std    2567010.00\n",
       "min     899990.00\n",
       "25%    1780000.00\n",
       "50%    2500000.00\n",
       "75%    4500000.00\n",
       "max   14500000.00"
      ]
     },
     "execution_count": 477,
     "metadata": {},
     "output_type": "execute_result"
    }
   ],
   "source": [
    "df3['price'].describe().to_frame()"
   ]
  },
  {
   "cell_type": "code",
   "execution_count": 478,
   "metadata": {},
   "outputs": [
    {
     "data": {
      "application/vnd.plotly.v1+json": {
       "config": {
        "plotlyServerURL": "https://plot.ly"
       },
       "data": [
        {
         "alignmentgroup": "True",
         "hovertemplate": "variable=%{x}<br>value=%{y}<extra></extra>",
         "legendgroup": "",
         "marker": {
          "color": "#636efa"
         },
         "name": "",
         "notched": false,
         "offsetgroup": "",
         "orientation": "v",
         "showlegend": false,
         "type": "box",
         "x": [
          "price",
          "price",
          "price",
          "price",
          "price",
          "price",
          "price",
          "price",
          "price",
          "price",
          "price",
          "price",
          "price",
          "price",
          "price",
          "price",
          "price",
          "price",
          "price",
          "price",
          "price",
          "price",
          "price",
          "price",
          "price",
          "price",
          "price",
          "price",
          "price",
          "price",
          "price",
          "price",
          "price",
          "price",
          "price",
          "price",
          "price",
          "price",
          "price",
          "price",
          "price",
          "price",
          "price",
          "price",
          "price",
          "price",
          "price",
          "price",
          "price",
          "price",
          "price",
          "price",
          "price",
          "price",
          "price",
          "price",
          "price",
          "price",
          "price",
          "price",
          "price",
          "price",
          "price",
          "price",
          "price",
          "price",
          "price",
          "price",
          "price",
          "price",
          "price",
          "price",
          "price",
          "price",
          "price",
          "price",
          "price",
          "price",
          "price",
          "price",
          "price",
          "price",
          "price",
          "price",
          "price",
          "price",
          "price",
          "price",
          "price",
          "price",
          "price",
          "price",
          "price",
          "price",
          "price",
          "price",
          "price",
          "price",
          "price",
          "price",
          "price",
          "price",
          "price",
          "price",
          "price",
          "price",
          "price",
          "price",
          "price",
          "price",
          "price",
          "price",
          "price",
          "price",
          "price",
          "price",
          "price",
          "price",
          "price",
          "price",
          "price",
          "price",
          "price",
          "price",
          "price",
          "price",
          "price",
          "price",
          "price",
          "price",
          "price",
          "price",
          "price",
          "price",
          "price",
          "price",
          "price",
          "price",
          "price",
          "price",
          "price",
          "price",
          "price",
          "price",
          "price",
          "price",
          "price",
          "price",
          "price",
          "price",
          "price",
          "price",
          "price",
          "price",
          "price",
          "price",
          "price",
          "price",
          "price",
          "price",
          "price",
          "price",
          "price",
          "price",
          "price",
          "price",
          "price",
          "price",
          "price",
          "price",
          "price",
          "price",
          "price",
          "price",
          "price",
          "price",
          "price",
          "price",
          "price",
          "price",
          "price",
          "price",
          "price",
          "price",
          "price",
          "price",
          "price",
          "price",
          "price",
          "price",
          "price",
          "price",
          "price",
          "price",
          "price",
          "price",
          "price"
         ],
         "x0": " ",
         "xaxis": "x",
         "y": [
          3950000,
          2600000,
          3450000,
          2000000,
          5000000,
          1570000,
          1950000,
          5000000,
          5400000,
          1600000,
          6500000,
          2950000,
          1350000,
          2100000,
          2250000,
          3000000,
          14500000,
          2500000,
          3199000,
          2100000,
          1350000,
          2425000,
          1800000,
          2500000,
          1550000,
          7373000,
          1950000,
          2300000,
          2000000,
          1700000,
          2300000,
          12140000,
          4500000,
          1475000,
          6000000,
          2100000,
          1850000,
          1400000,
          2100000,
          1600000,
          4800000,
          4025000,
          12803400,
          4350000,
          3250000,
          2309567,
          2800000,
          3014000,
          5900000,
          7500000,
          1700000,
          4200000,
          2300000,
          8800000,
          2350000,
          3829966,
          1850000,
          4500000,
          5050000,
          4715000,
          5000000,
          1460000,
          3000000,
          1670000,
          1223775,
          1700000,
          6000000,
          1850000,
          1500000,
          2350000,
          1450000,
          2100000,
          4700000,
          1520000,
          2200000,
          7500000,
          2250000,
          1684500,
          7480154,
          2566828,
          2299000,
          2573000,
          1550000,
          3600000,
          7393000,
          4300000,
          4500000,
          6300000,
          6500000,
          4200000,
          4800000,
          1550000,
          2250000,
          5100000,
          1600000,
          899990,
          1850000,
          6800000,
          2543000,
          1550000,
          1450000,
          4288200,
          1684500,
          2496000,
          2299000,
          2462000,
          1918437,
          1540000,
          3330000,
          4944888,
          1500000,
          4800000,
          2600000,
          3933000,
          8000000,
          10192000,
          1400000,
          931855,
          13900000,
          5710000,
          1680000,
          1480000,
          4000000,
          4660000,
          3470000,
          1700000,
          1560000,
          12140000,
          4138064,
          4070433,
          4244556,
          1290000,
          3400000,
          2600000,
          6049548,
          8999548,
          7200000,
          3500000,
          1780000,
          1620000,
          1550000,
          4520800,
          2261000,
          5500000,
          2228000,
          2166000,
          2115000,
          6999548,
          1980000,
          2650000,
          5292302,
          2200000,
          2990000,
          4400000,
          1500000,
          1620000,
          11500000,
          2140000,
          2000000,
          6900000,
          1410000,
          2500000,
          2954000,
          4234000,
          2500000,
          1720048,
          6500000,
          2300000,
          1632000,
          1530000,
          1930000,
          1930000,
          1700000,
          3306888,
          2100000,
          1699866,
          6500000,
          7500000,
          10000000,
          8500000,
          1245000,
          4200000,
          2000000,
          1087000,
          2400000,
          3000000,
          1684000,
          2699999,
          2500000,
          1600000,
          2900000,
          1700000,
          2200000,
          1914927,
          2650000,
          2191944,
          6600000
         ],
         "y0": " ",
         "yaxis": "y"
        }
       ],
       "layout": {
        "boxmode": "group",
        "legend": {
         "tracegroupgap": 0
        },
        "margin": {
         "t": 60
        },
        "template": {
         "data": {
          "bar": [
           {
            "error_x": {
             "color": "#2a3f5f"
            },
            "error_y": {
             "color": "#2a3f5f"
            },
            "marker": {
             "line": {
              "color": "#E5ECF6",
              "width": 0.5
             },
             "pattern": {
              "fillmode": "overlay",
              "size": 10,
              "solidity": 0.2
             }
            },
            "type": "bar"
           }
          ],
          "barpolar": [
           {
            "marker": {
             "line": {
              "color": "#E5ECF6",
              "width": 0.5
             },
             "pattern": {
              "fillmode": "overlay",
              "size": 10,
              "solidity": 0.2
             }
            },
            "type": "barpolar"
           }
          ],
          "carpet": [
           {
            "aaxis": {
             "endlinecolor": "#2a3f5f",
             "gridcolor": "white",
             "linecolor": "white",
             "minorgridcolor": "white",
             "startlinecolor": "#2a3f5f"
            },
            "baxis": {
             "endlinecolor": "#2a3f5f",
             "gridcolor": "white",
             "linecolor": "white",
             "minorgridcolor": "white",
             "startlinecolor": "#2a3f5f"
            },
            "type": "carpet"
           }
          ],
          "choropleth": [
           {
            "colorbar": {
             "outlinewidth": 0,
             "ticks": ""
            },
            "type": "choropleth"
           }
          ],
          "contour": [
           {
            "colorbar": {
             "outlinewidth": 0,
             "ticks": ""
            },
            "colorscale": [
             [
              0,
              "#0d0887"
             ],
             [
              0.1111111111111111,
              "#46039f"
             ],
             [
              0.2222222222222222,
              "#7201a8"
             ],
             [
              0.3333333333333333,
              "#9c179e"
             ],
             [
              0.4444444444444444,
              "#bd3786"
             ],
             [
              0.5555555555555556,
              "#d8576b"
             ],
             [
              0.6666666666666666,
              "#ed7953"
             ],
             [
              0.7777777777777778,
              "#fb9f3a"
             ],
             [
              0.8888888888888888,
              "#fdca26"
             ],
             [
              1,
              "#f0f921"
             ]
            ],
            "type": "contour"
           }
          ],
          "contourcarpet": [
           {
            "colorbar": {
             "outlinewidth": 0,
             "ticks": ""
            },
            "type": "contourcarpet"
           }
          ],
          "heatmap": [
           {
            "colorbar": {
             "outlinewidth": 0,
             "ticks": ""
            },
            "colorscale": [
             [
              0,
              "#0d0887"
             ],
             [
              0.1111111111111111,
              "#46039f"
             ],
             [
              0.2222222222222222,
              "#7201a8"
             ],
             [
              0.3333333333333333,
              "#9c179e"
             ],
             [
              0.4444444444444444,
              "#bd3786"
             ],
             [
              0.5555555555555556,
              "#d8576b"
             ],
             [
              0.6666666666666666,
              "#ed7953"
             ],
             [
              0.7777777777777778,
              "#fb9f3a"
             ],
             [
              0.8888888888888888,
              "#fdca26"
             ],
             [
              1,
              "#f0f921"
             ]
            ],
            "type": "heatmap"
           }
          ],
          "heatmapgl": [
           {
            "colorbar": {
             "outlinewidth": 0,
             "ticks": ""
            },
            "colorscale": [
             [
              0,
              "#0d0887"
             ],
             [
              0.1111111111111111,
              "#46039f"
             ],
             [
              0.2222222222222222,
              "#7201a8"
             ],
             [
              0.3333333333333333,
              "#9c179e"
             ],
             [
              0.4444444444444444,
              "#bd3786"
             ],
             [
              0.5555555555555556,
              "#d8576b"
             ],
             [
              0.6666666666666666,
              "#ed7953"
             ],
             [
              0.7777777777777778,
              "#fb9f3a"
             ],
             [
              0.8888888888888888,
              "#fdca26"
             ],
             [
              1,
              "#f0f921"
             ]
            ],
            "type": "heatmapgl"
           }
          ],
          "histogram": [
           {
            "marker": {
             "pattern": {
              "fillmode": "overlay",
              "size": 10,
              "solidity": 0.2
             }
            },
            "type": "histogram"
           }
          ],
          "histogram2d": [
           {
            "colorbar": {
             "outlinewidth": 0,
             "ticks": ""
            },
            "colorscale": [
             [
              0,
              "#0d0887"
             ],
             [
              0.1111111111111111,
              "#46039f"
             ],
             [
              0.2222222222222222,
              "#7201a8"
             ],
             [
              0.3333333333333333,
              "#9c179e"
             ],
             [
              0.4444444444444444,
              "#bd3786"
             ],
             [
              0.5555555555555556,
              "#d8576b"
             ],
             [
              0.6666666666666666,
              "#ed7953"
             ],
             [
              0.7777777777777778,
              "#fb9f3a"
             ],
             [
              0.8888888888888888,
              "#fdca26"
             ],
             [
              1,
              "#f0f921"
             ]
            ],
            "type": "histogram2d"
           }
          ],
          "histogram2dcontour": [
           {
            "colorbar": {
             "outlinewidth": 0,
             "ticks": ""
            },
            "colorscale": [
             [
              0,
              "#0d0887"
             ],
             [
              0.1111111111111111,
              "#46039f"
             ],
             [
              0.2222222222222222,
              "#7201a8"
             ],
             [
              0.3333333333333333,
              "#9c179e"
             ],
             [
              0.4444444444444444,
              "#bd3786"
             ],
             [
              0.5555555555555556,
              "#d8576b"
             ],
             [
              0.6666666666666666,
              "#ed7953"
             ],
             [
              0.7777777777777778,
              "#fb9f3a"
             ],
             [
              0.8888888888888888,
              "#fdca26"
             ],
             [
              1,
              "#f0f921"
             ]
            ],
            "type": "histogram2dcontour"
           }
          ],
          "mesh3d": [
           {
            "colorbar": {
             "outlinewidth": 0,
             "ticks": ""
            },
            "type": "mesh3d"
           }
          ],
          "parcoords": [
           {
            "line": {
             "colorbar": {
              "outlinewidth": 0,
              "ticks": ""
             }
            },
            "type": "parcoords"
           }
          ],
          "pie": [
           {
            "automargin": true,
            "type": "pie"
           }
          ],
          "scatter": [
           {
            "fillpattern": {
             "fillmode": "overlay",
             "size": 10,
             "solidity": 0.2
            },
            "type": "scatter"
           }
          ],
          "scatter3d": [
           {
            "line": {
             "colorbar": {
              "outlinewidth": 0,
              "ticks": ""
             }
            },
            "marker": {
             "colorbar": {
              "outlinewidth": 0,
              "ticks": ""
             }
            },
            "type": "scatter3d"
           }
          ],
          "scattercarpet": [
           {
            "marker": {
             "colorbar": {
              "outlinewidth": 0,
              "ticks": ""
             }
            },
            "type": "scattercarpet"
           }
          ],
          "scattergeo": [
           {
            "marker": {
             "colorbar": {
              "outlinewidth": 0,
              "ticks": ""
             }
            },
            "type": "scattergeo"
           }
          ],
          "scattergl": [
           {
            "marker": {
             "colorbar": {
              "outlinewidth": 0,
              "ticks": ""
             }
            },
            "type": "scattergl"
           }
          ],
          "scattermapbox": [
           {
            "marker": {
             "colorbar": {
              "outlinewidth": 0,
              "ticks": ""
             }
            },
            "type": "scattermapbox"
           }
          ],
          "scatterpolar": [
           {
            "marker": {
             "colorbar": {
              "outlinewidth": 0,
              "ticks": ""
             }
            },
            "type": "scatterpolar"
           }
          ],
          "scatterpolargl": [
           {
            "marker": {
             "colorbar": {
              "outlinewidth": 0,
              "ticks": ""
             }
            },
            "type": "scatterpolargl"
           }
          ],
          "scatterternary": [
           {
            "marker": {
             "colorbar": {
              "outlinewidth": 0,
              "ticks": ""
             }
            },
            "type": "scatterternary"
           }
          ],
          "surface": [
           {
            "colorbar": {
             "outlinewidth": 0,
             "ticks": ""
            },
            "colorscale": [
             [
              0,
              "#0d0887"
             ],
             [
              0.1111111111111111,
              "#46039f"
             ],
             [
              0.2222222222222222,
              "#7201a8"
             ],
             [
              0.3333333333333333,
              "#9c179e"
             ],
             [
              0.4444444444444444,
              "#bd3786"
             ],
             [
              0.5555555555555556,
              "#d8576b"
             ],
             [
              0.6666666666666666,
              "#ed7953"
             ],
             [
              0.7777777777777778,
              "#fb9f3a"
             ],
             [
              0.8888888888888888,
              "#fdca26"
             ],
             [
              1,
              "#f0f921"
             ]
            ],
            "type": "surface"
           }
          ],
          "table": [
           {
            "cells": {
             "fill": {
              "color": "#EBF0F8"
             },
             "line": {
              "color": "white"
             }
            },
            "header": {
             "fill": {
              "color": "#C8D4E3"
             },
             "line": {
              "color": "white"
             }
            },
            "type": "table"
           }
          ]
         },
         "layout": {
          "annotationdefaults": {
           "arrowcolor": "#2a3f5f",
           "arrowhead": 0,
           "arrowwidth": 1
          },
          "autotypenumbers": "strict",
          "coloraxis": {
           "colorbar": {
            "outlinewidth": 0,
            "ticks": ""
           }
          },
          "colorscale": {
           "diverging": [
            [
             0,
             "#8e0152"
            ],
            [
             0.1,
             "#c51b7d"
            ],
            [
             0.2,
             "#de77ae"
            ],
            [
             0.3,
             "#f1b6da"
            ],
            [
             0.4,
             "#fde0ef"
            ],
            [
             0.5,
             "#f7f7f7"
            ],
            [
             0.6,
             "#e6f5d0"
            ],
            [
             0.7,
             "#b8e186"
            ],
            [
             0.8,
             "#7fbc41"
            ],
            [
             0.9,
             "#4d9221"
            ],
            [
             1,
             "#276419"
            ]
           ],
           "sequential": [
            [
             0,
             "#0d0887"
            ],
            [
             0.1111111111111111,
             "#46039f"
            ],
            [
             0.2222222222222222,
             "#7201a8"
            ],
            [
             0.3333333333333333,
             "#9c179e"
            ],
            [
             0.4444444444444444,
             "#bd3786"
            ],
            [
             0.5555555555555556,
             "#d8576b"
            ],
            [
             0.6666666666666666,
             "#ed7953"
            ],
            [
             0.7777777777777778,
             "#fb9f3a"
            ],
            [
             0.8888888888888888,
             "#fdca26"
            ],
            [
             1,
             "#f0f921"
            ]
           ],
           "sequentialminus": [
            [
             0,
             "#0d0887"
            ],
            [
             0.1111111111111111,
             "#46039f"
            ],
            [
             0.2222222222222222,
             "#7201a8"
            ],
            [
             0.3333333333333333,
             "#9c179e"
            ],
            [
             0.4444444444444444,
             "#bd3786"
            ],
            [
             0.5555555555555556,
             "#d8576b"
            ],
            [
             0.6666666666666666,
             "#ed7953"
            ],
            [
             0.7777777777777778,
             "#fb9f3a"
            ],
            [
             0.8888888888888888,
             "#fdca26"
            ],
            [
             1,
             "#f0f921"
            ]
           ]
          },
          "colorway": [
           "#636efa",
           "#EF553B",
           "#00cc96",
           "#ab63fa",
           "#FFA15A",
           "#19d3f3",
           "#FF6692",
           "#B6E880",
           "#FF97FF",
           "#FECB52"
          ],
          "font": {
           "color": "#2a3f5f"
          },
          "geo": {
           "bgcolor": "white",
           "lakecolor": "white",
           "landcolor": "#E5ECF6",
           "showlakes": true,
           "showland": true,
           "subunitcolor": "white"
          },
          "hoverlabel": {
           "align": "left"
          },
          "hovermode": "closest",
          "mapbox": {
           "style": "light"
          },
          "paper_bgcolor": "white",
          "plot_bgcolor": "#E5ECF6",
          "polar": {
           "angularaxis": {
            "gridcolor": "white",
            "linecolor": "white",
            "ticks": ""
           },
           "bgcolor": "#E5ECF6",
           "radialaxis": {
            "gridcolor": "white",
            "linecolor": "white",
            "ticks": ""
           }
          },
          "scene": {
           "xaxis": {
            "backgroundcolor": "#E5ECF6",
            "gridcolor": "white",
            "gridwidth": 2,
            "linecolor": "white",
            "showbackground": true,
            "ticks": "",
            "zerolinecolor": "white"
           },
           "yaxis": {
            "backgroundcolor": "#E5ECF6",
            "gridcolor": "white",
            "gridwidth": 2,
            "linecolor": "white",
            "showbackground": true,
            "ticks": "",
            "zerolinecolor": "white"
           },
           "zaxis": {
            "backgroundcolor": "#E5ECF6",
            "gridcolor": "white",
            "gridwidth": 2,
            "linecolor": "white",
            "showbackground": true,
            "ticks": "",
            "zerolinecolor": "white"
           }
          },
          "shapedefaults": {
           "line": {
            "color": "#2a3f5f"
           }
          },
          "ternary": {
           "aaxis": {
            "gridcolor": "white",
            "linecolor": "white",
            "ticks": ""
           },
           "baxis": {
            "gridcolor": "white",
            "linecolor": "white",
            "ticks": ""
           },
           "bgcolor": "#E5ECF6",
           "caxis": {
            "gridcolor": "white",
            "linecolor": "white",
            "ticks": ""
           }
          },
          "title": {
           "x": 0.05
          },
          "xaxis": {
           "automargin": true,
           "gridcolor": "white",
           "linecolor": "white",
           "ticks": "",
           "title": {
            "standoff": 15
           },
           "zerolinecolor": "white",
           "zerolinewidth": 2
          },
          "yaxis": {
           "automargin": true,
           "gridcolor": "white",
           "linecolor": "white",
           "ticks": "",
           "title": {
            "standoff": 15
           },
           "zerolinecolor": "white",
           "zerolinewidth": 2
          }
         }
        },
        "xaxis": {
         "anchor": "y",
         "domain": [
          0,
          1
         ],
         "title": {
          "text": "variable"
         }
        },
        "yaxis": {
         "anchor": "x",
         "domain": [
          0,
          1
         ],
         "title": {
          "text": "value"
         }
        }
       }
      }
     },
     "metadata": {},
     "output_type": "display_data"
    }
   ],
   "source": [
    "px.box(df3['price'])"
   ]
  },
  {
   "cell_type": "markdown",
   "metadata": {},
   "source": [
    "* the outlier more than 8.5 Maleon"
   ]
  },
  {
   "cell_type": "code",
   "execution_count": 482,
   "metadata": {},
   "outputs": [
    {
     "data": {
      "text/plain": [
       "np.int64(8500000)"
      ]
     },
     "execution_count": 482,
     "metadata": {},
     "output_type": "execute_result"
    }
   ],
   "source": [
    "df3=df3[df3['price'] <= 8500000]\n",
    "df3['price'].max()\n"
   ]
  },
  {
   "cell_type": "code",
   "execution_count": 485,
   "metadata": {},
   "outputs": [
    {
     "name": "stdout",
     "output_type": "stream",
     "text": [
      " 3135356.06\n"
     ]
    }
   ],
   "source": [
    "print(f'{df3['price'].mean() : .2f}')"
   ]
  },
  {
   "cell_type": "markdown",
   "metadata": {},
   "source": [
    "<span style=\"color: yellow; font-size: 30px;\">Average Price of 3-Bedroom Apartments in Dubai is : (3.1) Maleon✅</span>\n",
    "\n",
    "\n"
   ]
  },
  {
   "cell_type": "markdown",
   "metadata": {},
   "source": [
    "<div style=\"background: linear-gradient(to right,rgb(3, 12, 14),rgb(227, 55, 106)); height: 100px; border: none;\"></div>\n"
   ]
  }
 ],
 "metadata": {
  "kernelspec": {
   "display_name": "Python 3",
   "language": "python",
   "name": "python3"
  },
  "language_info": {
   "codemirror_mode": {
    "name": "ipython",
    "version": 3
   },
   "file_extension": ".py",
   "mimetype": "text/x-python",
   "name": "python",
   "nbconvert_exporter": "python",
   "pygments_lexer": "ipython3",
   "version": "3.13.0"
  }
 },
 "nbformat": 4,
 "nbformat_minor": 2
}
