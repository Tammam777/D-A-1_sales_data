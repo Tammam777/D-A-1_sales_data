{
 "cells": [
  {
   "cell_type": "code",
   "execution_count": 578,
   "metadata": {},
   "outputs": [],
   "source": [
    "import pandas as pd\n",
    "import numpy as np\n",
    "import matplotlib.pyplot as plt\n",
    "import seaborn as sns\n",
    "\n",
    "pd.options.display.float_format='{:.2f}'.format\n",
    "pd.options.display.max_columns=None\n",
    "pd.options.display.max_rows=None"
   ]
  },
  {
   "cell_type": "code",
   "execution_count": 579,
   "metadata": {},
   "outputs": [],
   "source": [
    "\n",
    "\n",
    "def wrangle(filename, encoding=None, date_column=None, dropna_nan_columns=[],dropna_nan_columns0=False, drop_duplicates_columns=None, change_column_name={} ):\n",
    "    global df\n",
    "    df = pd.read_csv(filename, encoding=encoding)  #0. Load the dataset\n",
    "\n",
    "    #1. Clean column names: remove spaces and convert to lowercase\n",
    "    df.columns = df.columns.str.strip().str.lower()\n",
    "\n",
    "    #2. convert space to _\n",
    "    df.columns=df.columns.str.replace(' ','_')\n",
    "\n",
    "\n",
    "    #3- Convert the specified column to datetime if provided\n",
    "    if date_column:\n",
    "        df[date_column] = pd.to_datetime(df[date_column]) \n",
    "\n",
    "    #4- Drop all columns that contain only NaN values    \n",
    "    if dropna_nan_columns0:\n",
    "        df=df.dropna(axis=1 , how='all')    \n",
    "    \n",
    "    #5- Drop rows with NaN values in the specified columns\n",
    "    if dropna_nan_columns:\n",
    "        df.dropna(subset=dropna_nan_columns, inplace=True)\n",
    "\n",
    "    #6- Remove duplicate rows based on specified columns\n",
    "    if drop_duplicates_columns:\n",
    "        df.drop_duplicates(subset=drop_duplicates_columns, inplace=True)\n",
    "\n",
    "    \n",
    "    #7- Rename columns if a mapping is provided\n",
    "    if change_column_name:\n",
    "        df.rename(columns=change_column_name, inplace=True)\n",
    "    \n",
    "\n",
    "\n",
    "    return df\n"
   ]
  },
  {
   "cell_type": "code",
   "execution_count": 580,
   "metadata": {},
   "outputs": [
    {
     "data": {
      "text/html": [
       "<div>\n",
       "<style scoped>\n",
       "    .dataframe tbody tr th:only-of-type {\n",
       "        vertical-align: middle;\n",
       "    }\n",
       "\n",
       "    .dataframe tbody tr th {\n",
       "        vertical-align: top;\n",
       "    }\n",
       "\n",
       "    .dataframe thead th {\n",
       "        text-align: right;\n",
       "    }\n",
       "</style>\n",
       "<table border=\"1\" class=\"dataframe\">\n",
       "  <thead>\n",
       "    <tr style=\"text-align: right;\">\n",
       "      <th></th>\n",
       "      <th>unique_id</th>\n",
       "      <th>marriage_duration_(years)</th>\n",
       "      <th>age_at_marriage</th>\n",
       "      <th>marriage_type</th>\n",
       "      <th>education_level</th>\n",
       "      <th>income_level_(inr_per_month)</th>\n",
       "      <th>caste/religion</th>\n",
       "      <th>urban/rural</th>\n",
       "      <th>family_involvement</th>\n",
       "      <th>children</th>\n",
       "      <th>divorce_status</th>\n",
       "    </tr>\n",
       "  </thead>\n",
       "  <tbody>\n",
       "    <tr>\n",
       "      <th>530</th>\n",
       "      <td>MD531</td>\n",
       "      <td>4</td>\n",
       "      <td>18</td>\n",
       "      <td>Love</td>\n",
       "      <td>Primary</td>\n",
       "      <td>150830</td>\n",
       "      <td>Other</td>\n",
       "      <td>Rural</td>\n",
       "      <td>High</td>\n",
       "      <td>3</td>\n",
       "      <td>No</td>\n",
       "    </tr>\n",
       "    <tr>\n",
       "      <th>559</th>\n",
       "      <td>MD560</td>\n",
       "      <td>21</td>\n",
       "      <td>28</td>\n",
       "      <td>Arranged</td>\n",
       "      <td>Postgraduate</td>\n",
       "      <td>51250</td>\n",
       "      <td>Hindu</td>\n",
       "      <td>Urban</td>\n",
       "      <td>Low</td>\n",
       "      <td>1</td>\n",
       "      <td>No</td>\n",
       "    </tr>\n",
       "    <tr>\n",
       "      <th>1129</th>\n",
       "      <td>MD1130</td>\n",
       "      <td>34</td>\n",
       "      <td>19</td>\n",
       "      <td>Love</td>\n",
       "      <td>No Education</td>\n",
       "      <td>110973</td>\n",
       "      <td>Other</td>\n",
       "      <td>Rural</td>\n",
       "      <td>Low</td>\n",
       "      <td>3</td>\n",
       "      <td>No</td>\n",
       "    </tr>\n",
       "    <tr>\n",
       "      <th>375</th>\n",
       "      <td>MD376</td>\n",
       "      <td>5</td>\n",
       "      <td>19</td>\n",
       "      <td>Arranged</td>\n",
       "      <td>Graduate</td>\n",
       "      <td>132581</td>\n",
       "      <td>Muslim</td>\n",
       "      <td>Urban</td>\n",
       "      <td>Low</td>\n",
       "      <td>4</td>\n",
       "      <td>Yes</td>\n",
       "    </tr>\n",
       "    <tr>\n",
       "      <th>6</th>\n",
       "      <td>MD7</td>\n",
       "      <td>19</td>\n",
       "      <td>29</td>\n",
       "      <td>Arranged</td>\n",
       "      <td>Secondary</td>\n",
       "      <td>96198</td>\n",
       "      <td>Christian</td>\n",
       "      <td>Rural</td>\n",
       "      <td>Moderate</td>\n",
       "      <td>0</td>\n",
       "      <td>No</td>\n",
       "    </tr>\n",
       "    <tr>\n",
       "      <th>394</th>\n",
       "      <td>MD395</td>\n",
       "      <td>21</td>\n",
       "      <td>27</td>\n",
       "      <td>Arranged</td>\n",
       "      <td>Primary</td>\n",
       "      <td>183296</td>\n",
       "      <td>Muslim</td>\n",
       "      <td>Rural</td>\n",
       "      <td>Low</td>\n",
       "      <td>4</td>\n",
       "      <td>No</td>\n",
       "    </tr>\n",
       "    <tr>\n",
       "      <th>840</th>\n",
       "      <td>MD841</td>\n",
       "      <td>3</td>\n",
       "      <td>20</td>\n",
       "      <td>Love</td>\n",
       "      <td>Postgraduate</td>\n",
       "      <td>38040</td>\n",
       "      <td>Other</td>\n",
       "      <td>Rural</td>\n",
       "      <td>Low</td>\n",
       "      <td>3</td>\n",
       "      <td>No</td>\n",
       "    </tr>\n",
       "    <tr>\n",
       "      <th>606</th>\n",
       "      <td>MD607</td>\n",
       "      <td>25</td>\n",
       "      <td>27</td>\n",
       "      <td>Arranged</td>\n",
       "      <td>Graduate</td>\n",
       "      <td>50256</td>\n",
       "      <td>Muslim</td>\n",
       "      <td>Rural</td>\n",
       "      <td>Moderate</td>\n",
       "      <td>4</td>\n",
       "      <td>No</td>\n",
       "    </tr>\n",
       "    <tr>\n",
       "      <th>943</th>\n",
       "      <td>MD944</td>\n",
       "      <td>27</td>\n",
       "      <td>29</td>\n",
       "      <td>Arranged</td>\n",
       "      <td>No Education</td>\n",
       "      <td>72616</td>\n",
       "      <td>Hindu</td>\n",
       "      <td>Urban</td>\n",
       "      <td>Moderate</td>\n",
       "      <td>4</td>\n",
       "      <td>Yes</td>\n",
       "    </tr>\n",
       "    <tr>\n",
       "      <th>197</th>\n",
       "      <td>MD198</td>\n",
       "      <td>16</td>\n",
       "      <td>19</td>\n",
       "      <td>Love</td>\n",
       "      <td>Postgraduate</td>\n",
       "      <td>122509</td>\n",
       "      <td>Jain</td>\n",
       "      <td>Rural</td>\n",
       "      <td>Low</td>\n",
       "      <td>1</td>\n",
       "      <td>No</td>\n",
       "    </tr>\n",
       "  </tbody>\n",
       "</table>\n",
       "</div>"
      ],
      "text/plain": [
       "     unique_id  marriage_duration_(years)  age_at_marriage marriage_type  \\\n",
       "530      MD531                          4               18          Love   \n",
       "559      MD560                         21               28      Arranged   \n",
       "1129    MD1130                         34               19          Love   \n",
       "375      MD376                          5               19      Arranged   \n",
       "6          MD7                         19               29      Arranged   \n",
       "394      MD395                         21               27      Arranged   \n",
       "840      MD841                          3               20          Love   \n",
       "606      MD607                         25               27      Arranged   \n",
       "943      MD944                         27               29      Arranged   \n",
       "197      MD198                         16               19          Love   \n",
       "\n",
       "     education_level  income_level_(inr_per_month) caste/religion urban/rural  \\\n",
       "530          Primary                        150830          Other       Rural   \n",
       "559     Postgraduate                         51250          Hindu       Urban   \n",
       "1129    No Education                        110973          Other       Rural   \n",
       "375         Graduate                        132581         Muslim       Urban   \n",
       "6          Secondary                         96198      Christian       Rural   \n",
       "394          Primary                        183296         Muslim       Rural   \n",
       "840     Postgraduate                         38040          Other       Rural   \n",
       "606         Graduate                         50256         Muslim       Rural   \n",
       "943     No Education                         72616          Hindu       Urban   \n",
       "197     Postgraduate                        122509           Jain       Rural   \n",
       "\n",
       "     family_involvement  children divorce_status  \n",
       "530                High         3             No  \n",
       "559                 Low         1             No  \n",
       "1129                Low         3             No  \n",
       "375                 Low         4            Yes  \n",
       "6              Moderate         0             No  \n",
       "394                 Low         4             No  \n",
       "840                 Low         3             No  \n",
       "606            Moderate         4             No  \n",
       "943            Moderate         4            Yes  \n",
       "197                 Low         1             No  "
      ]
     },
     "execution_count": 580,
     "metadata": {},
     "output_type": "execute_result"
    }
   ],
   "source": [
    "df=wrangle('marriage_divorce_india_with_id.csv')\n",
    "df.sample(10)"
   ]
  },
  {
   "cell_type": "code",
   "execution_count": 581,
   "metadata": {},
   "outputs": [
    {
     "name": "stdout",
     "output_type": "stream",
     "text": [
      "<class 'pandas.core.frame.DataFrame'>\n",
      "RangeIndex: 1200 entries, 0 to 1199\n",
      "Data columns (total 11 columns):\n",
      " #   Column                        Non-Null Count  Dtype \n",
      "---  ------                        --------------  ----- \n",
      " 0   unique_id                     1200 non-null   object\n",
      " 1   marriage_duration_(years)     1200 non-null   int64 \n",
      " 2   age_at_marriage               1200 non-null   int64 \n",
      " 3   marriage_type                 1200 non-null   object\n",
      " 4   education_level               1200 non-null   object\n",
      " 5   income_level_(inr_per_month)  1200 non-null   int64 \n",
      " 6   caste/religion                1200 non-null   object\n",
      " 7   urban/rural                   1200 non-null   object\n",
      " 8   family_involvement            1200 non-null   object\n",
      " 9   children                      1200 non-null   int64 \n",
      " 10  divorce_status                1200 non-null   object\n",
      "dtypes: int64(4), object(7)\n",
      "memory usage: 103.3+ KB\n"
     ]
    }
   ],
   "source": [
    "df.info()"
   ]
  },
  {
   "cell_type": "markdown",
   "metadata": {},
   "source": [
    "\n",
    "<span style=\"color: orange; font-size: 30px;\">1- percentage of divorces in india ✅</span>\n"
   ]
  },
  {
   "cell_type": "code",
   "execution_count": 582,
   "metadata": {},
   "outputs": [
    {
     "name": "stdout",
     "output_type": "stream",
     "text": [
      "31.17 %\n"
     ]
    }
   ],
   "source": [
    "percentage=(df['divorce_status'][df['divorce_status']=='Yes'].count() / len(df['divorce_status'])) * 100\n",
    "print(f'{percentage:.2f} %')\n",
    "\n"
   ]
  },
  {
   "cell_type": "code",
   "execution_count": 583,
   "metadata": {},
   "outputs": [
    {
     "data": {
      "image/png": "[encoded data removed]",
      "text/plain": [
       "<Figure size 800x600 with 1 Axes>"
      ]
     },
     "metadata": {},
     "output_type": "display_data"
    }
   ],
   "source": [
    "# Calculate the distribution of 'divorce_status'\n",
    "divorce_counts = df['divorce_status'].value_counts()\n",
    "\n",
    "# Plot the pie chart\n",
    "divorce_counts.plot(\n",
    "    kind='pie',\n",
    "    autopct='%1.2f%%',  \n",
    "    colors=['skyblue', 'orange'],  \n",
    "    legend=True,  \n",
    "    figsize=(8, 6) \n",
    ")\n",
    "plt.title('Percentage of Divorce Status')  \n",
    "plt.ylabel('')  \n",
    "plt.tight_layout()  \n",
    "plt.show()"
   ]
  },
  {
   "cell_type": "markdown",
   "metadata": {},
   "source": [
    "<span style=\"color: skyblue; font-size: 20px;\">observed that the divorce rate in India is notably high at 31.17%. In the following sections, we will analyze the relationship between divorce and other contributing factors.</span>\n",
    "<div style=\"background: linear-gradient(to right,rgb(3, 12, 14),rgb(227, 55, 106)); height: 5px; border: none;\"></div>\n"
   ]
  },
  {
   "cell_type": "markdown",
   "metadata": {},
   "source": [
    "# <span style=\"color: orange; font-size: 30px;\">The relationship between the age at marriage and divorce ✅</span>\n"
   ]
  },
  {
   "cell_type": "code",
   "execution_count": 584,
   "metadata": {},
   "outputs": [
    {
     "data": {
      "text/html": [
       "<div>\n",
       "<style scoped>\n",
       "    .dataframe tbody tr th:only-of-type {\n",
       "        vertical-align: middle;\n",
       "    }\n",
       "\n",
       "    .dataframe tbody tr th {\n",
       "        vertical-align: top;\n",
       "    }\n",
       "\n",
       "    .dataframe thead th {\n",
       "        text-align: right;\n",
       "    }\n",
       "</style>\n",
       "<table border=\"1\" class=\"dataframe\">\n",
       "  <thead>\n",
       "    <tr style=\"text-align: right;\">\n",
       "      <th></th>\n",
       "      <th>unique_id</th>\n",
       "      <th>marriage_duration_(years)</th>\n",
       "      <th>age_at_marriage</th>\n",
       "      <th>marriage_type</th>\n",
       "      <th>education_level</th>\n",
       "      <th>income_level_(inr_per_month)</th>\n",
       "      <th>caste/religion</th>\n",
       "      <th>urban/rural</th>\n",
       "      <th>family_involvement</th>\n",
       "      <th>children</th>\n",
       "      <th>divorce_status</th>\n",
       "    </tr>\n",
       "  </thead>\n",
       "  <tbody>\n",
       "    <tr>\n",
       "      <th>0</th>\n",
       "      <td>MD1</td>\n",
       "      <td>39</td>\n",
       "      <td>29</td>\n",
       "      <td>Love</td>\n",
       "      <td>Secondary</td>\n",
       "      <td>113464</td>\n",
       "      <td>Hindu</td>\n",
       "      <td>Rural</td>\n",
       "      <td>Moderate</td>\n",
       "      <td>2</td>\n",
       "      <td>No</td>\n",
       "    </tr>\n",
       "    <tr>\n",
       "      <th>1</th>\n",
       "      <td>MD2</td>\n",
       "      <td>29</td>\n",
       "      <td>34</td>\n",
       "      <td>Arranged</td>\n",
       "      <td>No Education</td>\n",
       "      <td>18682</td>\n",
       "      <td>Jain</td>\n",
       "      <td>Rural</td>\n",
       "      <td>Moderate</td>\n",
       "      <td>0</td>\n",
       "      <td>Yes</td>\n",
       "    </tr>\n",
       "    <tr>\n",
       "      <th>2</th>\n",
       "      <td>MD3</td>\n",
       "      <td>15</td>\n",
       "      <td>34</td>\n",
       "      <td>Love</td>\n",
       "      <td>No Education</td>\n",
       "      <td>159455</td>\n",
       "      <td>Muslim</td>\n",
       "      <td>Urban</td>\n",
       "      <td>Moderate</td>\n",
       "      <td>4</td>\n",
       "      <td>Yes</td>\n",
       "    </tr>\n",
       "    <tr>\n",
       "      <th>3</th>\n",
       "      <td>MD4</td>\n",
       "      <td>8</td>\n",
       "      <td>27</td>\n",
       "      <td>Arranged</td>\n",
       "      <td>Postgraduate</td>\n",
       "      <td>63160</td>\n",
       "      <td>Jain</td>\n",
       "      <td>Urban</td>\n",
       "      <td>High</td>\n",
       "      <td>1</td>\n",
       "      <td>Yes</td>\n",
       "    </tr>\n",
       "    <tr>\n",
       "      <th>4</th>\n",
       "      <td>MD5</td>\n",
       "      <td>21</td>\n",
       "      <td>34</td>\n",
       "      <td>Love</td>\n",
       "      <td>Secondary</td>\n",
       "      <td>28666</td>\n",
       "      <td>Jain</td>\n",
       "      <td>Urban</td>\n",
       "      <td>High</td>\n",
       "      <td>1</td>\n",
       "      <td>Yes</td>\n",
       "    </tr>\n",
       "  </tbody>\n",
       "</table>\n",
       "</div>"
      ],
      "text/plain": [
       "  unique_id  marriage_duration_(years)  age_at_marriage marriage_type  \\\n",
       "0       MD1                         39               29          Love   \n",
       "1       MD2                         29               34      Arranged   \n",
       "2       MD3                         15               34          Love   \n",
       "3       MD4                          8               27      Arranged   \n",
       "4       MD5                         21               34          Love   \n",
       "\n",
       "  education_level  income_level_(inr_per_month) caste/religion urban/rural  \\\n",
       "0       Secondary                        113464          Hindu       Rural   \n",
       "1    No Education                         18682           Jain       Rural   \n",
       "2    No Education                        159455         Muslim       Urban   \n",
       "3    Postgraduate                         63160           Jain       Urban   \n",
       "4       Secondary                         28666           Jain       Urban   \n",
       "\n",
       "  family_involvement  children divorce_status  \n",
       "0           Moderate         2             No  \n",
       "1           Moderate         0            Yes  \n",
       "2           Moderate         4            Yes  \n",
       "3               High         1            Yes  \n",
       "4               High         1            Yes  "
      ]
     },
     "execution_count": 584,
     "metadata": {},
     "output_type": "execute_result"
    }
   ],
   "source": [
    "df.head()"
   ]
  },
  {
   "cell_type": "code",
   "execution_count": 585,
   "metadata": {},
   "outputs": [
    {
     "data": {
      "text/html": [
       "<div>\n",
       "<style scoped>\n",
       "    .dataframe tbody tr th:only-of-type {\n",
       "        vertical-align: middle;\n",
       "    }\n",
       "\n",
       "    .dataframe tbody tr th {\n",
       "        vertical-align: top;\n",
       "    }\n",
       "\n",
       "    .dataframe thead th {\n",
       "        text-align: right;\n",
       "    }\n",
       "</style>\n",
       "<table border=\"1\" class=\"dataframe\">\n",
       "  <thead>\n",
       "    <tr style=\"text-align: right;\">\n",
       "      <th></th>\n",
       "      <th>age_at_marriage</th>\n",
       "    </tr>\n",
       "    <tr>\n",
       "      <th>divorce_status</th>\n",
       "      <th></th>\n",
       "    </tr>\n",
       "  </thead>\n",
       "  <tbody>\n",
       "    <tr>\n",
       "      <th>No</th>\n",
       "      <td>25.94</td>\n",
       "    </tr>\n",
       "    <tr>\n",
       "      <th>Yes</th>\n",
       "      <td>26.32</td>\n",
       "    </tr>\n",
       "  </tbody>\n",
       "</table>\n",
       "</div>"
      ],
      "text/plain": [
       "                age_at_marriage\n",
       "divorce_status                 \n",
       "No                        25.94\n",
       "Yes                       26.32"
      ]
     },
     "execution_count": 585,
     "metadata": {},
     "output_type": "execute_result"
    }
   ],
   "source": [
    "df1=df.groupby('divorce_status')['age_at_marriage'].mean().to_frame()\n",
    "df1"
   ]
  },
  {
   "cell_type": "code",
   "execution_count": 586,
   "metadata": {},
   "outputs": [
    {
     "data": {
      "image/png": "[encoded data removed]",
      "text/plain": [
       "<Figure size 640x480 with 1 Axes>"
      ]
     },
     "metadata": {},
     "output_type": "display_data"
    }
   ],
   "source": [
    "df1.plot(kind='bar', color='red', edgecolor='black')\n",
    "plt.title('The relationship between the average age at marriage and divorce rates')\n",
    "plt.xlabel('Divorce status')\n",
    "plt.ylabel('Average age at marriage')\n",
    "plt.grid(axis='y' , linestyle='--' , alpha=0.7)\n",
    "plt.xticks(rotation=0)\n",
    "plt.tight_layout()\n",
    "plt.show()"
   ]
  },
  {
   "cell_type": "markdown",
   "metadata": {},
   "source": [
    "<span style=\"color: skyblue; font-size: 20px;\">\"From this relationship, we observed that there is no clear effect between the age at marriage and divorce status. Let us now study another relationship.\"</span>\n",
    "<div style=\"background: linear-gradient(to right,rgb(3, 12, 14),rgb(227, 55, 106)); height: 5px; border: none;\"></div>"
   ]
  },
  {
   "cell_type": "markdown",
   "metadata": {},
   "source": [
    "# <span style=\"color: orange; font-size: 30px;\">The relationship between marriage type and divorce ✅</span>\n"
   ]
  },
  {
   "cell_type": "code",
   "execution_count": 587,
   "metadata": {},
   "outputs": [
    {
     "data": {
      "text/html": [
       "<div>\n",
       "<style scoped>\n",
       "    .dataframe tbody tr th:only-of-type {\n",
       "        vertical-align: middle;\n",
       "    }\n",
       "\n",
       "    .dataframe tbody tr th {\n",
       "        vertical-align: top;\n",
       "    }\n",
       "\n",
       "    .dataframe thead th {\n",
       "        text-align: right;\n",
       "    }\n",
       "</style>\n",
       "<table border=\"1\" class=\"dataframe\">\n",
       "  <thead>\n",
       "    <tr style=\"text-align: right;\">\n",
       "      <th></th>\n",
       "      <th>unique_id</th>\n",
       "      <th>marriage_duration_(years)</th>\n",
       "      <th>age_at_marriage</th>\n",
       "      <th>marriage_type</th>\n",
       "      <th>education_level</th>\n",
       "      <th>income_level_(inr_per_month)</th>\n",
       "      <th>caste/religion</th>\n",
       "      <th>urban/rural</th>\n",
       "      <th>family_involvement</th>\n",
       "      <th>children</th>\n",
       "      <th>divorce_status</th>\n",
       "    </tr>\n",
       "  </thead>\n",
       "  <tbody>\n",
       "    <tr>\n",
       "      <th>0</th>\n",
       "      <td>MD1</td>\n",
       "      <td>39</td>\n",
       "      <td>29</td>\n",
       "      <td>Love</td>\n",
       "      <td>Secondary</td>\n",
       "      <td>113464</td>\n",
       "      <td>Hindu</td>\n",
       "      <td>Rural</td>\n",
       "      <td>Moderate</td>\n",
       "      <td>2</td>\n",
       "      <td>No</td>\n",
       "    </tr>\n",
       "    <tr>\n",
       "      <th>1</th>\n",
       "      <td>MD2</td>\n",
       "      <td>29</td>\n",
       "      <td>34</td>\n",
       "      <td>Arranged</td>\n",
       "      <td>No Education</td>\n",
       "      <td>18682</td>\n",
       "      <td>Jain</td>\n",
       "      <td>Rural</td>\n",
       "      <td>Moderate</td>\n",
       "      <td>0</td>\n",
       "      <td>Yes</td>\n",
       "    </tr>\n",
       "    <tr>\n",
       "      <th>2</th>\n",
       "      <td>MD3</td>\n",
       "      <td>15</td>\n",
       "      <td>34</td>\n",
       "      <td>Love</td>\n",
       "      <td>No Education</td>\n",
       "      <td>159455</td>\n",
       "      <td>Muslim</td>\n",
       "      <td>Urban</td>\n",
       "      <td>Moderate</td>\n",
       "      <td>4</td>\n",
       "      <td>Yes</td>\n",
       "    </tr>\n",
       "    <tr>\n",
       "      <th>3</th>\n",
       "      <td>MD4</td>\n",
       "      <td>8</td>\n",
       "      <td>27</td>\n",
       "      <td>Arranged</td>\n",
       "      <td>Postgraduate</td>\n",
       "      <td>63160</td>\n",
       "      <td>Jain</td>\n",
       "      <td>Urban</td>\n",
       "      <td>High</td>\n",
       "      <td>1</td>\n",
       "      <td>Yes</td>\n",
       "    </tr>\n",
       "    <tr>\n",
       "      <th>4</th>\n",
       "      <td>MD5</td>\n",
       "      <td>21</td>\n",
       "      <td>34</td>\n",
       "      <td>Love</td>\n",
       "      <td>Secondary</td>\n",
       "      <td>28666</td>\n",
       "      <td>Jain</td>\n",
       "      <td>Urban</td>\n",
       "      <td>High</td>\n",
       "      <td>1</td>\n",
       "      <td>Yes</td>\n",
       "    </tr>\n",
       "  </tbody>\n",
       "</table>\n",
       "</div>"
      ],
      "text/plain": [
       "  unique_id  marriage_duration_(years)  age_at_marriage marriage_type  \\\n",
       "0       MD1                         39               29          Love   \n",
       "1       MD2                         29               34      Arranged   \n",
       "2       MD3                         15               34          Love   \n",
       "3       MD4                          8               27      Arranged   \n",
       "4       MD5                         21               34          Love   \n",
       "\n",
       "  education_level  income_level_(inr_per_month) caste/religion urban/rural  \\\n",
       "0       Secondary                        113464          Hindu       Rural   \n",
       "1    No Education                         18682           Jain       Rural   \n",
       "2    No Education                        159455         Muslim       Urban   \n",
       "3    Postgraduate                         63160           Jain       Urban   \n",
       "4       Secondary                         28666           Jain       Urban   \n",
       "\n",
       "  family_involvement  children divorce_status  \n",
       "0           Moderate         2             No  \n",
       "1           Moderate         0            Yes  \n",
       "2           Moderate         4            Yes  \n",
       "3               High         1            Yes  \n",
       "4               High         1            Yes  "
      ]
     },
     "execution_count": 587,
     "metadata": {},
     "output_type": "execute_result"
    }
   ],
   "source": [
    "df.head()"
   ]
  },
  {
   "cell_type": "code",
   "execution_count": 588,
   "metadata": {},
   "outputs": [
    {
     "data": {
      "text/html": [
       "<div>\n",
       "<style scoped>\n",
       "    .dataframe tbody tr th:only-of-type {\n",
       "        vertical-align: middle;\n",
       "    }\n",
       "\n",
       "    .dataframe tbody tr th {\n",
       "        vertical-align: top;\n",
       "    }\n",
       "\n",
       "    .dataframe thead th {\n",
       "        text-align: right;\n",
       "    }\n",
       "</style>\n",
       "<table border=\"1\" class=\"dataframe\">\n",
       "  <thead>\n",
       "    <tr style=\"text-align: right;\">\n",
       "      <th></th>\n",
       "      <th>unique_id</th>\n",
       "      <th>marriage_duration_(years)</th>\n",
       "      <th>age_at_marriage</th>\n",
       "      <th>marriage_type</th>\n",
       "      <th>education_level</th>\n",
       "      <th>income_level_(inr_per_month)</th>\n",
       "      <th>caste/religion</th>\n",
       "      <th>urban/rural</th>\n",
       "      <th>family_involvement</th>\n",
       "      <th>children</th>\n",
       "      <th>divorce_status</th>\n",
       "      <th>divorced</th>\n",
       "      <th>not_divorced</th>\n",
       "    </tr>\n",
       "  </thead>\n",
       "  <tbody>\n",
       "    <tr>\n",
       "      <th>0</th>\n",
       "      <td>MD1</td>\n",
       "      <td>39</td>\n",
       "      <td>29</td>\n",
       "      <td>Love</td>\n",
       "      <td>Secondary</td>\n",
       "      <td>113464</td>\n",
       "      <td>Hindu</td>\n",
       "      <td>Rural</td>\n",
       "      <td>Moderate</td>\n",
       "      <td>2</td>\n",
       "      <td>No</td>\n",
       "      <td>NaN</td>\n",
       "      <td>No</td>\n",
       "    </tr>\n",
       "    <tr>\n",
       "      <th>1</th>\n",
       "      <td>MD2</td>\n",
       "      <td>29</td>\n",
       "      <td>34</td>\n",
       "      <td>Arranged</td>\n",
       "      <td>No Education</td>\n",
       "      <td>18682</td>\n",
       "      <td>Jain</td>\n",
       "      <td>Rural</td>\n",
       "      <td>Moderate</td>\n",
       "      <td>0</td>\n",
       "      <td>Yes</td>\n",
       "      <td>Yes</td>\n",
       "      <td>NaN</td>\n",
       "    </tr>\n",
       "    <tr>\n",
       "      <th>2</th>\n",
       "      <td>MD3</td>\n",
       "      <td>15</td>\n",
       "      <td>34</td>\n",
       "      <td>Love</td>\n",
       "      <td>No Education</td>\n",
       "      <td>159455</td>\n",
       "      <td>Muslim</td>\n",
       "      <td>Urban</td>\n",
       "      <td>Moderate</td>\n",
       "      <td>4</td>\n",
       "      <td>Yes</td>\n",
       "      <td>Yes</td>\n",
       "      <td>NaN</td>\n",
       "    </tr>\n",
       "    <tr>\n",
       "      <th>3</th>\n",
       "      <td>MD4</td>\n",
       "      <td>8</td>\n",
       "      <td>27</td>\n",
       "      <td>Arranged</td>\n",
       "      <td>Postgraduate</td>\n",
       "      <td>63160</td>\n",
       "      <td>Jain</td>\n",
       "      <td>Urban</td>\n",
       "      <td>High</td>\n",
       "      <td>1</td>\n",
       "      <td>Yes</td>\n",
       "      <td>Yes</td>\n",
       "      <td>NaN</td>\n",
       "    </tr>\n",
       "    <tr>\n",
       "      <th>4</th>\n",
       "      <td>MD5</td>\n",
       "      <td>21</td>\n",
       "      <td>34</td>\n",
       "      <td>Love</td>\n",
       "      <td>Secondary</td>\n",
       "      <td>28666</td>\n",
       "      <td>Jain</td>\n",
       "      <td>Urban</td>\n",
       "      <td>High</td>\n",
       "      <td>1</td>\n",
       "      <td>Yes</td>\n",
       "      <td>Yes</td>\n",
       "      <td>NaN</td>\n",
       "    </tr>\n",
       "  </tbody>\n",
       "</table>\n",
       "</div>"
      ],
      "text/plain": [
       "  unique_id  marriage_duration_(years)  age_at_marriage marriage_type  \\\n",
       "0       MD1                         39               29          Love   \n",
       "1       MD2                         29               34      Arranged   \n",
       "2       MD3                         15               34          Love   \n",
       "3       MD4                          8               27      Arranged   \n",
       "4       MD5                         21               34          Love   \n",
       "\n",
       "  education_level  income_level_(inr_per_month) caste/religion urban/rural  \\\n",
       "0       Secondary                        113464          Hindu       Rural   \n",
       "1    No Education                         18682           Jain       Rural   \n",
       "2    No Education                        159455         Muslim       Urban   \n",
       "3    Postgraduate                         63160           Jain       Urban   \n",
       "4       Secondary                         28666           Jain       Urban   \n",
       "\n",
       "  family_involvement  children divorce_status divorced not_divorced  \n",
       "0           Moderate         2             No      NaN           No  \n",
       "1           Moderate         0            Yes      Yes          NaN  \n",
       "2           Moderate         4            Yes      Yes          NaN  \n",
       "3               High         1            Yes      Yes          NaN  \n",
       "4               High         1            Yes      Yes          NaN  "
      ]
     },
     "execution_count": 588,
     "metadata": {},
     "output_type": "execute_result"
    }
   ],
   "source": [
    "\n",
    "df['divorced']=df['divorce_status'][df['divorce_status']== 'Yes']\n",
    "df['not_divorced']=df['divorce_status'][df['divorce_status']== 'No']\n",
    "\n",
    "df.head()"
   ]
  },
  {
   "cell_type": "code",
   "execution_count": 589,
   "metadata": {},
   "outputs": [
    {
     "data": {
      "text/html": [
       "<div>\n",
       "<style scoped>\n",
       "    .dataframe tbody tr th:only-of-type {\n",
       "        vertical-align: middle;\n",
       "    }\n",
       "\n",
       "    .dataframe tbody tr th {\n",
       "        vertical-align: top;\n",
       "    }\n",
       "\n",
       "    .dataframe thead th {\n",
       "        text-align: right;\n",
       "    }\n",
       "</style>\n",
       "<table border=\"1\" class=\"dataframe\">\n",
       "  <thead>\n",
       "    <tr style=\"text-align: right;\">\n",
       "      <th></th>\n",
       "      <th>divorced</th>\n",
       "    </tr>\n",
       "    <tr>\n",
       "      <th>marriage_type</th>\n",
       "      <th></th>\n",
       "    </tr>\n",
       "  </thead>\n",
       "  <tbody>\n",
       "    <tr>\n",
       "      <th>Arranged</th>\n",
       "      <td>199</td>\n",
       "    </tr>\n",
       "    <tr>\n",
       "      <th>Love</th>\n",
       "      <td>175</td>\n",
       "    </tr>\n",
       "  </tbody>\n",
       "</table>\n",
       "</div>"
      ],
      "text/plain": [
       "               divorced\n",
       "marriage_type          \n",
       "Arranged            199\n",
       "Love                175"
      ]
     },
     "execution_count": 589,
     "metadata": {},
     "output_type": "execute_result"
    }
   ],
   "source": [
    "df2=df.groupby('marriage_type')['divorced'].count().to_frame()\n",
    "df2\n"
   ]
  },
  {
   "cell_type": "code",
   "execution_count": 590,
   "metadata": {},
   "outputs": [
    {
     "data": {
      "image/png": "[encoded data removed]",
      "text/plain": [
       "<Figure size 640x480 with 1 Axes>"
      ]
     },
     "metadata": {},
     "output_type": "display_data"
    }
   ],
   "source": [
    "df2.plot(kind='bar', color='red', edgecolor='black')\n",
    "plt.title('Divorce status based on the type of marriage')\n",
    "plt.xlabel('Marriage Type')\n",
    "plt.ylabel('Number of Divorced')\n",
    "plt.grid(axis='y' , linestyle='--' , alpha=0.7)\n",
    "plt.xticks(rotation=0)\n",
    "plt.tight_layout()\n",
    "plt.show()"
   ]
  },
  {
   "cell_type": "code",
   "execution_count": 591,
   "metadata": {},
   "outputs": [
    {
     "data": {
      "text/html": [
       "<div>\n",
       "<style scoped>\n",
       "    .dataframe tbody tr th:only-of-type {\n",
       "        vertical-align: middle;\n",
       "    }\n",
       "\n",
       "    .dataframe tbody tr th {\n",
       "        vertical-align: top;\n",
       "    }\n",
       "\n",
       "    .dataframe thead th {\n",
       "        text-align: right;\n",
       "    }\n",
       "</style>\n",
       "<table border=\"1\" class=\"dataframe\">\n",
       "  <thead>\n",
       "    <tr style=\"text-align: right;\">\n",
       "      <th></th>\n",
       "      <th>not_divorced</th>\n",
       "    </tr>\n",
       "    <tr>\n",
       "      <th>marriage_type</th>\n",
       "      <th></th>\n",
       "    </tr>\n",
       "  </thead>\n",
       "  <tbody>\n",
       "    <tr>\n",
       "      <th>Arranged</th>\n",
       "      <td>427</td>\n",
       "    </tr>\n",
       "    <tr>\n",
       "      <th>Love</th>\n",
       "      <td>399</td>\n",
       "    </tr>\n",
       "  </tbody>\n",
       "</table>\n",
       "</div>"
      ],
      "text/plain": [
       "               not_divorced\n",
       "marriage_type              \n",
       "Arranged                427\n",
       "Love                    399"
      ]
     },
     "execution_count": 591,
     "metadata": {},
     "output_type": "execute_result"
    }
   ],
   "source": [
    "df3=df.groupby('marriage_type')['not_divorced'].count().to_frame()\n",
    "df3"
   ]
  },
  {
   "cell_type": "code",
   "execution_count": 592,
   "metadata": {},
   "outputs": [
    {
     "data": {
      "image/png": "[encoded data removed]",
      "text/plain": [
       "<Figure size 640x480 with 1 Axes>"
      ]
     },
     "metadata": {},
     "output_type": "display_data"
    }
   ],
   "source": [
    "df3.plot(kind='bar', color='skyblue', edgecolor='black')\n",
    "plt.title('Continuing Marriages status based on the type of marriage')\n",
    "plt.xlabel('Marriage Type')\n",
    "plt.ylabel('Number of Continuing Marriages')\n",
    "plt.grid(axis='y' , linestyle='--' , alpha=0.7)\n",
    "plt.xticks(rotation=0)\n",
    "plt.tight_layout()\n",
    "plt.show()"
   ]
  },
  {
   "cell_type": "markdown",
   "metadata": {},
   "source": [
    "<span style=\"color: skyblue; font-size: 20px;\">\"After studying these results, we can clearly see that there is no significant effect between the type of marriage and whether it leads to divorce or continues without divorce. Let us proceed to analyze another factor, as divorce in India seems to be complex based on these relationships. Let us continue with the analysis.\"</span>\n",
    "<div style=\"background: linear-gradient(to right,rgb(3, 12, 14),rgb(227, 55, 106)); height: 5px; border: none;\"></div>"
   ]
  },
  {
   "cell_type": "markdown",
   "metadata": {},
   "source": [
    "# <span style=\"color: orange; font-size: 30px;\">The relationship between education level and divorce ✅</span>\n"
   ]
  },
  {
   "cell_type": "code",
   "execution_count": 593,
   "metadata": {},
   "outputs": [
    {
     "data": {
      "text/html": [
       "<div>\n",
       "<style scoped>\n",
       "    .dataframe tbody tr th:only-of-type {\n",
       "        vertical-align: middle;\n",
       "    }\n",
       "\n",
       "    .dataframe tbody tr th {\n",
       "        vertical-align: top;\n",
       "    }\n",
       "\n",
       "    .dataframe thead th {\n",
       "        text-align: right;\n",
       "    }\n",
       "</style>\n",
       "<table border=\"1\" class=\"dataframe\">\n",
       "  <thead>\n",
       "    <tr style=\"text-align: right;\">\n",
       "      <th></th>\n",
       "      <th>unique_id</th>\n",
       "      <th>marriage_duration_(years)</th>\n",
       "      <th>age_at_marriage</th>\n",
       "      <th>marriage_type</th>\n",
       "      <th>education_level</th>\n",
       "      <th>income_level_(inr_per_month)</th>\n",
       "      <th>caste/religion</th>\n",
       "      <th>urban/rural</th>\n",
       "      <th>family_involvement</th>\n",
       "      <th>children</th>\n",
       "      <th>divorce_status</th>\n",
       "      <th>divorced</th>\n",
       "      <th>not_divorced</th>\n",
       "    </tr>\n",
       "  </thead>\n",
       "  <tbody>\n",
       "    <tr>\n",
       "      <th>0</th>\n",
       "      <td>MD1</td>\n",
       "      <td>39</td>\n",
       "      <td>29</td>\n",
       "      <td>Love</td>\n",
       "      <td>Secondary</td>\n",
       "      <td>113464</td>\n",
       "      <td>Hindu</td>\n",
       "      <td>Rural</td>\n",
       "      <td>Moderate</td>\n",
       "      <td>2</td>\n",
       "      <td>No</td>\n",
       "      <td>NaN</td>\n",
       "      <td>No</td>\n",
       "    </tr>\n",
       "    <tr>\n",
       "      <th>1</th>\n",
       "      <td>MD2</td>\n",
       "      <td>29</td>\n",
       "      <td>34</td>\n",
       "      <td>Arranged</td>\n",
       "      <td>No Education</td>\n",
       "      <td>18682</td>\n",
       "      <td>Jain</td>\n",
       "      <td>Rural</td>\n",
       "      <td>Moderate</td>\n",
       "      <td>0</td>\n",
       "      <td>Yes</td>\n",
       "      <td>Yes</td>\n",
       "      <td>NaN</td>\n",
       "    </tr>\n",
       "    <tr>\n",
       "      <th>2</th>\n",
       "      <td>MD3</td>\n",
       "      <td>15</td>\n",
       "      <td>34</td>\n",
       "      <td>Love</td>\n",
       "      <td>No Education</td>\n",
       "      <td>159455</td>\n",
       "      <td>Muslim</td>\n",
       "      <td>Urban</td>\n",
       "      <td>Moderate</td>\n",
       "      <td>4</td>\n",
       "      <td>Yes</td>\n",
       "      <td>Yes</td>\n",
       "      <td>NaN</td>\n",
       "    </tr>\n",
       "    <tr>\n",
       "      <th>3</th>\n",
       "      <td>MD4</td>\n",
       "      <td>8</td>\n",
       "      <td>27</td>\n",
       "      <td>Arranged</td>\n",
       "      <td>Postgraduate</td>\n",
       "      <td>63160</td>\n",
       "      <td>Jain</td>\n",
       "      <td>Urban</td>\n",
       "      <td>High</td>\n",
       "      <td>1</td>\n",
       "      <td>Yes</td>\n",
       "      <td>Yes</td>\n",
       "      <td>NaN</td>\n",
       "    </tr>\n",
       "    <tr>\n",
       "      <th>4</th>\n",
       "      <td>MD5</td>\n",
       "      <td>21</td>\n",
       "      <td>34</td>\n",
       "      <td>Love</td>\n",
       "      <td>Secondary</td>\n",
       "      <td>28666</td>\n",
       "      <td>Jain</td>\n",
       "      <td>Urban</td>\n",
       "      <td>High</td>\n",
       "      <td>1</td>\n",
       "      <td>Yes</td>\n",
       "      <td>Yes</td>\n",
       "      <td>NaN</td>\n",
       "    </tr>\n",
       "  </tbody>\n",
       "</table>\n",
       "</div>"
      ],
      "text/plain": [
       "  unique_id  marriage_duration_(years)  age_at_marriage marriage_type  \\\n",
       "0       MD1                         39               29          Love   \n",
       "1       MD2                         29               34      Arranged   \n",
       "2       MD3                         15               34          Love   \n",
       "3       MD4                          8               27      Arranged   \n",
       "4       MD5                         21               34          Love   \n",
       "\n",
       "  education_level  income_level_(inr_per_month) caste/religion urban/rural  \\\n",
       "0       Secondary                        113464          Hindu       Rural   \n",
       "1    No Education                         18682           Jain       Rural   \n",
       "2    No Education                        159455         Muslim       Urban   \n",
       "3    Postgraduate                         63160           Jain       Urban   \n",
       "4       Secondary                         28666           Jain       Urban   \n",
       "\n",
       "  family_involvement  children divorce_status divorced not_divorced  \n",
       "0           Moderate         2             No      NaN           No  \n",
       "1           Moderate         0            Yes      Yes          NaN  \n",
       "2           Moderate         4            Yes      Yes          NaN  \n",
       "3               High         1            Yes      Yes          NaN  \n",
       "4               High         1            Yes      Yes          NaN  "
      ]
     },
     "execution_count": 593,
     "metadata": {},
     "output_type": "execute_result"
    }
   ],
   "source": [
    "df.head()"
   ]
  },
  {
   "cell_type": "code",
   "execution_count": 594,
   "metadata": {},
   "outputs": [
    {
     "data": {
      "text/plain": [
       "array(['Secondary', 'No Education', 'Postgraduate', 'Graduate', 'Primary'],\n",
       "      dtype=object)"
      ]
     },
     "execution_count": 594,
     "metadata": {},
     "output_type": "execute_result"
    }
   ],
   "source": [
    "df['education_level'].unique()"
   ]
  },
  {
   "cell_type": "code",
   "execution_count": 595,
   "metadata": {},
   "outputs": [
    {
     "data": {
      "text/html": [
       "<div>\n",
       "<style scoped>\n",
       "    .dataframe tbody tr th:only-of-type {\n",
       "        vertical-align: middle;\n",
       "    }\n",
       "\n",
       "    .dataframe tbody tr th {\n",
       "        vertical-align: top;\n",
       "    }\n",
       "\n",
       "    .dataframe thead th {\n",
       "        text-align: right;\n",
       "    }\n",
       "</style>\n",
       "<table border=\"1\" class=\"dataframe\">\n",
       "  <thead>\n",
       "    <tr style=\"text-align: right;\">\n",
       "      <th></th>\n",
       "      <th>divorced</th>\n",
       "    </tr>\n",
       "    <tr>\n",
       "      <th>education_level</th>\n",
       "      <th></th>\n",
       "    </tr>\n",
       "  </thead>\n",
       "  <tbody>\n",
       "    <tr>\n",
       "      <th>Primary</th>\n",
       "      <td>79</td>\n",
       "    </tr>\n",
       "    <tr>\n",
       "      <th>Postgraduate</th>\n",
       "      <td>75</td>\n",
       "    </tr>\n",
       "    <tr>\n",
       "      <th>No Education</th>\n",
       "      <td>75</td>\n",
       "    </tr>\n",
       "    <tr>\n",
       "      <th>Secondary</th>\n",
       "      <td>73</td>\n",
       "    </tr>\n",
       "    <tr>\n",
       "      <th>Graduate</th>\n",
       "      <td>72</td>\n",
       "    </tr>\n",
       "  </tbody>\n",
       "</table>\n",
       "</div>"
      ],
      "text/plain": [
       "                 divorced\n",
       "education_level          \n",
       "Primary                79\n",
       "Postgraduate           75\n",
       "No Education           75\n",
       "Secondary              73\n",
       "Graduate               72"
      ]
     },
     "execution_count": 595,
     "metadata": {},
     "output_type": "execute_result"
    }
   ],
   "source": [
    "df4=df.groupby('education_level')['divorced'].count().to_frame().sort_values('divorced',ascending=False)\n",
    "df4"
   ]
  },
  {
   "cell_type": "code",
   "execution_count": 596,
   "metadata": {},
   "outputs": [
    {
     "data": {
      "image/png": "[encoded data removed]",
      "text/plain": [
       "<Figure size 640x480 with 1 Axes>"
      ]
     },
     "metadata": {},
     "output_type": "display_data"
    }
   ],
   "source": [
    "df4.plot(kind='bar', color='red', edgecolor='black')\n",
    "plt.title('Divorce status based on the education level')\n",
    "plt.xlabel('Education level')\n",
    "plt.ylabel('Number of Divorced')\n",
    "plt.grid(axis='y' , linestyle='--' , alpha=0.7)\n",
    "plt.xticks(rotation=0)\n",
    "plt.tight_layout()\n",
    "plt.show()"
   ]
  },
  {
   "cell_type": "code",
   "execution_count": 597,
   "metadata": {},
   "outputs": [
    {
     "data": {
      "text/html": [
       "<div>\n",
       "<style scoped>\n",
       "    .dataframe tbody tr th:only-of-type {\n",
       "        vertical-align: middle;\n",
       "    }\n",
       "\n",
       "    .dataframe tbody tr th {\n",
       "        vertical-align: top;\n",
       "    }\n",
       "\n",
       "    .dataframe thead th {\n",
       "        text-align: right;\n",
       "    }\n",
       "</style>\n",
       "<table border=\"1\" class=\"dataframe\">\n",
       "  <thead>\n",
       "    <tr style=\"text-align: right;\">\n",
       "      <th></th>\n",
       "      <th>not_divorced</th>\n",
       "    </tr>\n",
       "    <tr>\n",
       "      <th>education_level</th>\n",
       "      <th></th>\n",
       "    </tr>\n",
       "  </thead>\n",
       "  <tbody>\n",
       "    <tr>\n",
       "      <th>Secondary</th>\n",
       "      <td>180</td>\n",
       "    </tr>\n",
       "    <tr>\n",
       "      <th>Postgraduate</th>\n",
       "      <td>173</td>\n",
       "    </tr>\n",
       "    <tr>\n",
       "      <th>No Education</th>\n",
       "      <td>172</td>\n",
       "    </tr>\n",
       "    <tr>\n",
       "      <th>Graduate</th>\n",
       "      <td>152</td>\n",
       "    </tr>\n",
       "    <tr>\n",
       "      <th>Primary</th>\n",
       "      <td>149</td>\n",
       "    </tr>\n",
       "  </tbody>\n",
       "</table>\n",
       "</div>"
      ],
      "text/plain": [
       "                 not_divorced\n",
       "education_level              \n",
       "Secondary                 180\n",
       "Postgraduate              173\n",
       "No Education              172\n",
       "Graduate                  152\n",
       "Primary                   149"
      ]
     },
     "execution_count": 597,
     "metadata": {},
     "output_type": "execute_result"
    }
   ],
   "source": [
    "df5=df.groupby('education_level')['not_divorced'].count().to_frame().sort_values('not_divorced',ascending=False)\n",
    "df5"
   ]
  },
  {
   "cell_type": "code",
   "execution_count": 598,
   "metadata": {},
   "outputs": [
    {
     "data": {
      "image/png": "[encoded data removed]",
      "text/plain": [
       "<Figure size 640x480 with 1 Axes>"
      ]
     },
     "metadata": {},
     "output_type": "display_data"
    }
   ],
   "source": [
    "df5.plot(kind='bar', color='skyblue', edgecolor='black')\n",
    "plt.title('Continuing Marriages status based on the education level')\n",
    "plt.xlabel('education level')\n",
    "plt.ylabel('Number of Continuing Marriages')\n",
    "plt.grid(axis='y' , linestyle='--' , alpha=0.7)\n",
    "plt.xticks(rotation=0)\n",
    "plt.tight_layout()\n",
    "plt.show()"
   ]
  },
  {
   "cell_type": "markdown",
   "metadata": {},
   "source": [
    "<span style=\"color: skyblue; font-size: 20px;\">the values are relatively close. However, one key observation stands out: the majority of divorces occur among individuals with a primary education level.</span>\n",
    "<div style=\"background: linear-gradient(to right,rgb(3, 12, 14),rgb(227, 55, 106)); height: 5px; border: none;\"></div>"
   ]
  },
  {
   "cell_type": "markdown",
   "metadata": {},
   "source": [
    "# <span style=\"color: orange; font-size: 30px;\">The relationship between income level and divorce ✅</span>\n"
   ]
  },
  {
   "cell_type": "code",
   "execution_count": 599,
   "metadata": {},
   "outputs": [
    {
     "data": {
      "text/html": [
       "<div>\n",
       "<style scoped>\n",
       "    .dataframe tbody tr th:only-of-type {\n",
       "        vertical-align: middle;\n",
       "    }\n",
       "\n",
       "    .dataframe tbody tr th {\n",
       "        vertical-align: top;\n",
       "    }\n",
       "\n",
       "    .dataframe thead th {\n",
       "        text-align: right;\n",
       "    }\n",
       "</style>\n",
       "<table border=\"1\" class=\"dataframe\">\n",
       "  <thead>\n",
       "    <tr style=\"text-align: right;\">\n",
       "      <th></th>\n",
       "      <th>unique_id</th>\n",
       "      <th>marriage_duration_(years)</th>\n",
       "      <th>age_at_marriage</th>\n",
       "      <th>marriage_type</th>\n",
       "      <th>education_level</th>\n",
       "      <th>income_level_(inr_per_month)</th>\n",
       "      <th>caste/religion</th>\n",
       "      <th>urban/rural</th>\n",
       "      <th>family_involvement</th>\n",
       "      <th>children</th>\n",
       "      <th>divorce_status</th>\n",
       "      <th>divorced</th>\n",
       "      <th>not_divorced</th>\n",
       "    </tr>\n",
       "  </thead>\n",
       "  <tbody>\n",
       "    <tr>\n",
       "      <th>0</th>\n",
       "      <td>MD1</td>\n",
       "      <td>39</td>\n",
       "      <td>29</td>\n",
       "      <td>Love</td>\n",
       "      <td>Secondary</td>\n",
       "      <td>113464</td>\n",
       "      <td>Hindu</td>\n",
       "      <td>Rural</td>\n",
       "      <td>Moderate</td>\n",
       "      <td>2</td>\n",
       "      <td>No</td>\n",
       "      <td>NaN</td>\n",
       "      <td>No</td>\n",
       "    </tr>\n",
       "    <tr>\n",
       "      <th>1</th>\n",
       "      <td>MD2</td>\n",
       "      <td>29</td>\n",
       "      <td>34</td>\n",
       "      <td>Arranged</td>\n",
       "      <td>No Education</td>\n",
       "      <td>18682</td>\n",
       "      <td>Jain</td>\n",
       "      <td>Rural</td>\n",
       "      <td>Moderate</td>\n",
       "      <td>0</td>\n",
       "      <td>Yes</td>\n",
       "      <td>Yes</td>\n",
       "      <td>NaN</td>\n",
       "    </tr>\n",
       "    <tr>\n",
       "      <th>2</th>\n",
       "      <td>MD3</td>\n",
       "      <td>15</td>\n",
       "      <td>34</td>\n",
       "      <td>Love</td>\n",
       "      <td>No Education</td>\n",
       "      <td>159455</td>\n",
       "      <td>Muslim</td>\n",
       "      <td>Urban</td>\n",
       "      <td>Moderate</td>\n",
       "      <td>4</td>\n",
       "      <td>Yes</td>\n",
       "      <td>Yes</td>\n",
       "      <td>NaN</td>\n",
       "    </tr>\n",
       "    <tr>\n",
       "      <th>3</th>\n",
       "      <td>MD4</td>\n",
       "      <td>8</td>\n",
       "      <td>27</td>\n",
       "      <td>Arranged</td>\n",
       "      <td>Postgraduate</td>\n",
       "      <td>63160</td>\n",
       "      <td>Jain</td>\n",
       "      <td>Urban</td>\n",
       "      <td>High</td>\n",
       "      <td>1</td>\n",
       "      <td>Yes</td>\n",
       "      <td>Yes</td>\n",
       "      <td>NaN</td>\n",
       "    </tr>\n",
       "    <tr>\n",
       "      <th>4</th>\n",
       "      <td>MD5</td>\n",
       "      <td>21</td>\n",
       "      <td>34</td>\n",
       "      <td>Love</td>\n",
       "      <td>Secondary</td>\n",
       "      <td>28666</td>\n",
       "      <td>Jain</td>\n",
       "      <td>Urban</td>\n",
       "      <td>High</td>\n",
       "      <td>1</td>\n",
       "      <td>Yes</td>\n",
       "      <td>Yes</td>\n",
       "      <td>NaN</td>\n",
       "    </tr>\n",
       "  </tbody>\n",
       "</table>\n",
       "</div>"
      ],
      "text/plain": [
       "  unique_id  marriage_duration_(years)  age_at_marriage marriage_type  \\\n",
       "0       MD1                         39               29          Love   \n",
       "1       MD2                         29               34      Arranged   \n",
       "2       MD3                         15               34          Love   \n",
       "3       MD4                          8               27      Arranged   \n",
       "4       MD5                         21               34          Love   \n",
       "\n",
       "  education_level  income_level_(inr_per_month) caste/religion urban/rural  \\\n",
       "0       Secondary                        113464          Hindu       Rural   \n",
       "1    No Education                         18682           Jain       Rural   \n",
       "2    No Education                        159455         Muslim       Urban   \n",
       "3    Postgraduate                         63160           Jain       Urban   \n",
       "4       Secondary                         28666           Jain       Urban   \n",
       "\n",
       "  family_involvement  children divorce_status divorced not_divorced  \n",
       "0           Moderate         2             No      NaN           No  \n",
       "1           Moderate         0            Yes      Yes          NaN  \n",
       "2           Moderate         4            Yes      Yes          NaN  \n",
       "3               High         1            Yes      Yes          NaN  \n",
       "4               High         1            Yes      Yes          NaN  "
      ]
     },
     "execution_count": 599,
     "metadata": {},
     "output_type": "execute_result"
    }
   ],
   "source": [
    "df.head()"
   ]
  },
  {
   "cell_type": "code",
   "execution_count": 600,
   "metadata": {},
   "outputs": [
    {
     "data": {
      "text/html": [
       "<div>\n",
       "<style scoped>\n",
       "    .dataframe tbody tr th:only-of-type {\n",
       "        vertical-align: middle;\n",
       "    }\n",
       "\n",
       "    .dataframe tbody tr th {\n",
       "        vertical-align: top;\n",
       "    }\n",
       "\n",
       "    .dataframe thead th {\n",
       "        text-align: right;\n",
       "    }\n",
       "</style>\n",
       "<table border=\"1\" class=\"dataframe\">\n",
       "  <thead>\n",
       "    <tr style=\"text-align: right;\">\n",
       "      <th></th>\n",
       "      <th>income_level_(inr_per_month)</th>\n",
       "    </tr>\n",
       "    <tr>\n",
       "      <th>divorce_status</th>\n",
       "      <th></th>\n",
       "    </tr>\n",
       "  </thead>\n",
       "  <tbody>\n",
       "    <tr>\n",
       "      <th>No</th>\n",
       "      <td>101297.70</td>\n",
       "    </tr>\n",
       "    <tr>\n",
       "      <th>Yes</th>\n",
       "      <td>104684.37</td>\n",
       "    </tr>\n",
       "  </tbody>\n",
       "</table>\n",
       "</div>"
      ],
      "text/plain": [
       "                income_level_(inr_per_month)\n",
       "divorce_status                              \n",
       "No                                 101297.70\n",
       "Yes                                104684.37"
      ]
     },
     "execution_count": 600,
     "metadata": {},
     "output_type": "execute_result"
    }
   ],
   "source": [
    "df6 = df.groupby('divorce_status')['income_level_(inr_per_month)'].mean().to_frame()\n",
    "df6"
   ]
  },
  {
   "cell_type": "code",
   "execution_count": 601,
   "metadata": {},
   "outputs": [
    {
     "data": {
      "image/png": "[encoded data removed]",
      "text/plain": [
       "<Figure size 800x500 with 1 Axes>"
      ]
     },
     "metadata": {},
     "output_type": "display_data"
    }
   ],
   "source": [
    "\n",
    "df6.plot(kind='bar', figsize=(8, 5), color='skyblue', edgecolor='black', legend=False)\n",
    "plt.title('Average Income Level by Divorce Status', fontsize=16)\n",
    "plt.xlabel('Divorce Status', fontsize=14)\n",
    "plt.ylabel('Average Income Level (INR per Month)', fontsize=14)\n",
    "plt.xticks(rotation=0) \n",
    "plt.grid(axis='y', linestyle='--', alpha=0.9)\n",
    "plt.show()\n"
   ]
  },
  {
   "cell_type": "markdown",
   "metadata": {},
   "source": [
    "<span style=\"color: skyblue; font-size: 20px;\">\"We observed that the average income of divorced individuals and those who remain married is quite close. However, the average income for divorced individuals is slightly higher. This complicates the analysis, as there doesn’t seem to be a clear relationship between income level and the likelihood of divorce.</span>\n",
    "<div style=\"background: linear-gradient(to right,rgb(3, 12, 14),rgb(227, 55, 106)); height: 5px; border: none;\"></div>"
   ]
  },
  {
   "cell_type": "markdown",
   "metadata": {},
   "source": [
    "# <span style=\"color: orange; font-size: 30px;\">The relationship between religion and divorce ✅</span>\n"
   ]
  },
  {
   "cell_type": "code",
   "execution_count": 602,
   "metadata": {},
   "outputs": [
    {
     "data": {
      "text/html": [
       "<div>\n",
       "<style scoped>\n",
       "    .dataframe tbody tr th:only-of-type {\n",
       "        vertical-align: middle;\n",
       "    }\n",
       "\n",
       "    .dataframe tbody tr th {\n",
       "        vertical-align: top;\n",
       "    }\n",
       "\n",
       "    .dataframe thead th {\n",
       "        text-align: right;\n",
       "    }\n",
       "</style>\n",
       "<table border=\"1\" class=\"dataframe\">\n",
       "  <thead>\n",
       "    <tr style=\"text-align: right;\">\n",
       "      <th></th>\n",
       "      <th>unique_id</th>\n",
       "      <th>marriage_duration_(years)</th>\n",
       "      <th>age_at_marriage</th>\n",
       "      <th>marriage_type</th>\n",
       "      <th>education_level</th>\n",
       "      <th>income_level_(inr_per_month)</th>\n",
       "      <th>caste/religion</th>\n",
       "      <th>urban/rural</th>\n",
       "      <th>family_involvement</th>\n",
       "      <th>children</th>\n",
       "      <th>divorce_status</th>\n",
       "      <th>divorced</th>\n",
       "      <th>not_divorced</th>\n",
       "    </tr>\n",
       "  </thead>\n",
       "  <tbody>\n",
       "    <tr>\n",
       "      <th>0</th>\n",
       "      <td>MD1</td>\n",
       "      <td>39</td>\n",
       "      <td>29</td>\n",
       "      <td>Love</td>\n",
       "      <td>Secondary</td>\n",
       "      <td>113464</td>\n",
       "      <td>Hindu</td>\n",
       "      <td>Rural</td>\n",
       "      <td>Moderate</td>\n",
       "      <td>2</td>\n",
       "      <td>No</td>\n",
       "      <td>NaN</td>\n",
       "      <td>No</td>\n",
       "    </tr>\n",
       "    <tr>\n",
       "      <th>1</th>\n",
       "      <td>MD2</td>\n",
       "      <td>29</td>\n",
       "      <td>34</td>\n",
       "      <td>Arranged</td>\n",
       "      <td>No Education</td>\n",
       "      <td>18682</td>\n",
       "      <td>Jain</td>\n",
       "      <td>Rural</td>\n",
       "      <td>Moderate</td>\n",
       "      <td>0</td>\n",
       "      <td>Yes</td>\n",
       "      <td>Yes</td>\n",
       "      <td>NaN</td>\n",
       "    </tr>\n",
       "    <tr>\n",
       "      <th>2</th>\n",
       "      <td>MD3</td>\n",
       "      <td>15</td>\n",
       "      <td>34</td>\n",
       "      <td>Love</td>\n",
       "      <td>No Education</td>\n",
       "      <td>159455</td>\n",
       "      <td>Muslim</td>\n",
       "      <td>Urban</td>\n",
       "      <td>Moderate</td>\n",
       "      <td>4</td>\n",
       "      <td>Yes</td>\n",
       "      <td>Yes</td>\n",
       "      <td>NaN</td>\n",
       "    </tr>\n",
       "    <tr>\n",
       "      <th>3</th>\n",
       "      <td>MD4</td>\n",
       "      <td>8</td>\n",
       "      <td>27</td>\n",
       "      <td>Arranged</td>\n",
       "      <td>Postgraduate</td>\n",
       "      <td>63160</td>\n",
       "      <td>Jain</td>\n",
       "      <td>Urban</td>\n",
       "      <td>High</td>\n",
       "      <td>1</td>\n",
       "      <td>Yes</td>\n",
       "      <td>Yes</td>\n",
       "      <td>NaN</td>\n",
       "    </tr>\n",
       "    <tr>\n",
       "      <th>4</th>\n",
       "      <td>MD5</td>\n",
       "      <td>21</td>\n",
       "      <td>34</td>\n",
       "      <td>Love</td>\n",
       "      <td>Secondary</td>\n",
       "      <td>28666</td>\n",
       "      <td>Jain</td>\n",
       "      <td>Urban</td>\n",
       "      <td>High</td>\n",
       "      <td>1</td>\n",
       "      <td>Yes</td>\n",
       "      <td>Yes</td>\n",
       "      <td>NaN</td>\n",
       "    </tr>\n",
       "  </tbody>\n",
       "</table>\n",
       "</div>"
      ],
      "text/plain": [
       "  unique_id  marriage_duration_(years)  age_at_marriage marriage_type  \\\n",
       "0       MD1                         39               29          Love   \n",
       "1       MD2                         29               34      Arranged   \n",
       "2       MD3                         15               34          Love   \n",
       "3       MD4                          8               27      Arranged   \n",
       "4       MD5                         21               34          Love   \n",
       "\n",
       "  education_level  income_level_(inr_per_month) caste/religion urban/rural  \\\n",
       "0       Secondary                        113464          Hindu       Rural   \n",
       "1    No Education                         18682           Jain       Rural   \n",
       "2    No Education                        159455         Muslim       Urban   \n",
       "3    Postgraduate                         63160           Jain       Urban   \n",
       "4       Secondary                         28666           Jain       Urban   \n",
       "\n",
       "  family_involvement  children divorce_status divorced not_divorced  \n",
       "0           Moderate         2             No      NaN           No  \n",
       "1           Moderate         0            Yes      Yes          NaN  \n",
       "2           Moderate         4            Yes      Yes          NaN  \n",
       "3               High         1            Yes      Yes          NaN  \n",
       "4               High         1            Yes      Yes          NaN  "
      ]
     },
     "execution_count": 602,
     "metadata": {},
     "output_type": "execute_result"
    }
   ],
   "source": [
    "df.head()"
   ]
  },
  {
   "cell_type": "code",
   "execution_count": 603,
   "metadata": {},
   "outputs": [
    {
     "data": {
      "text/plain": [
       "array(['Hindu', 'Jain', 'Muslim', 'Christian', 'Other', 'Sikh'],\n",
       "      dtype=object)"
      ]
     },
     "execution_count": 603,
     "metadata": {},
     "output_type": "execute_result"
    }
   ],
   "source": [
    "df['caste/religion'].unique()"
   ]
  },
  {
   "cell_type": "code",
   "execution_count": 604,
   "metadata": {},
   "outputs": [
    {
     "data": {
      "text/html": [
       "<div>\n",
       "<style scoped>\n",
       "    .dataframe tbody tr th:only-of-type {\n",
       "        vertical-align: middle;\n",
       "    }\n",
       "\n",
       "    .dataframe tbody tr th {\n",
       "        vertical-align: top;\n",
       "    }\n",
       "\n",
       "    .dataframe thead th {\n",
       "        text-align: right;\n",
       "    }\n",
       "</style>\n",
       "<table border=\"1\" class=\"dataframe\">\n",
       "  <thead>\n",
       "    <tr style=\"text-align: right;\">\n",
       "      <th></th>\n",
       "      <th>divorced</th>\n",
       "    </tr>\n",
       "    <tr>\n",
       "      <th>caste/religion</th>\n",
       "      <th></th>\n",
       "    </tr>\n",
       "  </thead>\n",
       "  <tbody>\n",
       "    <tr>\n",
       "      <th>Muslim</th>\n",
       "      <td>70</td>\n",
       "    </tr>\n",
       "    <tr>\n",
       "      <th>Jain</th>\n",
       "      <td>67</td>\n",
       "    </tr>\n",
       "    <tr>\n",
       "      <th>Sikh</th>\n",
       "      <td>65</td>\n",
       "    </tr>\n",
       "    <tr>\n",
       "      <th>Hindu</th>\n",
       "      <td>65</td>\n",
       "    </tr>\n",
       "    <tr>\n",
       "      <th>Christian</th>\n",
       "      <td>55</td>\n",
       "    </tr>\n",
       "    <tr>\n",
       "      <th>Other</th>\n",
       "      <td>52</td>\n",
       "    </tr>\n",
       "  </tbody>\n",
       "</table>\n",
       "</div>"
      ],
      "text/plain": [
       "                divorced\n",
       "caste/religion          \n",
       "Muslim                70\n",
       "Jain                  67\n",
       "Sikh                  65\n",
       "Hindu                 65\n",
       "Christian             55\n",
       "Other                 52"
      ]
     },
     "execution_count": 604,
     "metadata": {},
     "output_type": "execute_result"
    }
   ],
   "source": [
    "df7=df.groupby('caste/religion')['divorced'].count().to_frame().sort_values('divorced' , ascending=False)\n",
    "df7"
   ]
  },
  {
   "cell_type": "code",
   "execution_count": 605,
   "metadata": {},
   "outputs": [
    {
     "data": {
      "image/png": "[encoded data removed]",
      "text/plain": [
       "<Figure size 640x480 with 1 Axes>"
      ]
     },
     "metadata": {},
     "output_type": "display_data"
    }
   ],
   "source": [
    "df7.plot(kind='bar' , color='red' , edgecolor='black')\n",
    "plt.title('Divorce status based on the religion')\n",
    "plt.xlabel('Religion')\n",
    "plt.ylabel('Number of Divorced')\n",
    "plt.grid(axis='y' ,linestyle='--' ,alpha=0.7)\n",
    "plt.xticks(rotation=0)\n",
    "plt.tight_layout()\n",
    "plt.show()"
   ]
  },
  {
   "cell_type": "code",
   "execution_count": 606,
   "metadata": {},
   "outputs": [
    {
     "data": {
      "text/plain": [
       "np.float64(29.535864978902953)"
      ]
     },
     "execution_count": 606,
     "metadata": {},
     "output_type": "execute_result"
    }
   ],
   "source": [
    "average_divorce_for_muslim=(70 /df['caste/religion'][df['caste/religion'] == 'Muslim'].count()) * 100 \n",
    "average_divorce_for_muslim\n"
   ]
  },
  {
   "cell_type": "code",
   "execution_count": 607,
   "metadata": {},
   "outputs": [
    {
     "data": {
      "text/plain": [
       "np.float64(32.057416267942585)"
      ]
     },
     "execution_count": 607,
     "metadata": {},
     "output_type": "execute_result"
    }
   ],
   "source": [
    "average_divorce_for_jain=(67 / df['caste/religion'][df['caste/religion'] == 'Jain'].count()) * 100\n",
    "average_divorce_for_jain"
   ]
  },
  {
   "cell_type": "code",
   "execution_count": 608,
   "metadata": {},
   "outputs": [
    {
     "data": {
      "text/plain": [
       "np.float64(38.69047619047619)"
      ]
     },
     "execution_count": 608,
     "metadata": {},
     "output_type": "execute_result"
    }
   ],
   "source": [
    "average_divorce_for_sikh=(65 / df['caste/religion'][df['caste/religion'] == 'Sikh'].count()) * 100\n",
    "average_divorce_for_sikh"
   ]
  },
  {
   "cell_type": "code",
   "execution_count": 609,
   "metadata": {},
   "outputs": [
    {
     "data": {
      "text/plain": [
       "np.float64(32.17821782178218)"
      ]
     },
     "execution_count": 609,
     "metadata": {},
     "output_type": "execute_result"
    }
   ],
   "source": [
    "average_divorce_for_hindu=(65 / df['caste/religion'][df['caste/religion'] == 'Hindu'].count()) * 100\n",
    "average_divorce_for_hindu"
   ]
  },
  {
   "cell_type": "code",
   "execution_count": 610,
   "metadata": {},
   "outputs": [
    {
     "data": {
      "text/plain": [
       "np.float64(28.947368421052634)"
      ]
     },
     "execution_count": 610,
     "metadata": {},
     "output_type": "execute_result"
    }
   ],
   "source": [
    "average_divorce_for_christian=(55 / df['caste/religion'][df['caste/religion'] == 'Christian'].count()) * 100\n",
    "average_divorce_for_christian"
   ]
  },
  {
   "cell_type": "code",
   "execution_count": 611,
   "metadata": {},
   "outputs": [
    {
     "data": {
      "text/plain": [
       "np.float64(26.804123711340207)"
      ]
     },
     "execution_count": 611,
     "metadata": {},
     "output_type": "execute_result"
    }
   ],
   "source": [
    "average_divorce_for_other=(52 / df['caste/religion'][df['caste/religion'] == 'Other'].count()) * 100\n",
    "average_divorce_for_other"
   ]
  },
  {
   "cell_type": "markdown",
   "metadata": {},
   "source": [
    "<span style=\"color: skyblue; font-size: 20px;\">In our sample data, we observed that there are 70 cases of divorce among Muslim individuals. However, this does not mean that Muslims have the highest divorce rate in India.\n",
    "When we calculate the divorce rate within each religion separately, we find that Sikhs have the highest percentage of divorce at 39%, while the divorce rate among Muslims is 30%. This highlights that while the total number of divorces may be higher for certain groups, the percentage relative to the population within each religion tells a different story.</span>\n",
    "<div style=\"background: linear-gradient(to right,rgb(3, 12, 14),rgb(227, 55, 106)); height: 5px; border: none;\"></div>"
   ]
  },
  {
   "cell_type": "markdown",
   "metadata": {},
   "source": [
    "# <span style=\"color: orange; font-size: 30px;\">The Relationship Between Urban/Rural Living and Divorce ✅</span>\n"
   ]
  },
  {
   "cell_type": "code",
   "execution_count": 612,
   "metadata": {},
   "outputs": [
    {
     "data": {
      "text/html": [
       "<div>\n",
       "<style scoped>\n",
       "    .dataframe tbody tr th:only-of-type {\n",
       "        vertical-align: middle;\n",
       "    }\n",
       "\n",
       "    .dataframe tbody tr th {\n",
       "        vertical-align: top;\n",
       "    }\n",
       "\n",
       "    .dataframe thead th {\n",
       "        text-align: right;\n",
       "    }\n",
       "</style>\n",
       "<table border=\"1\" class=\"dataframe\">\n",
       "  <thead>\n",
       "    <tr style=\"text-align: right;\">\n",
       "      <th></th>\n",
       "      <th>unique_id</th>\n",
       "      <th>marriage_duration_(years)</th>\n",
       "      <th>age_at_marriage</th>\n",
       "      <th>marriage_type</th>\n",
       "      <th>education_level</th>\n",
       "      <th>income_level_(inr_per_month)</th>\n",
       "      <th>caste/religion</th>\n",
       "      <th>urban/rural</th>\n",
       "      <th>family_involvement</th>\n",
       "      <th>children</th>\n",
       "      <th>divorce_status</th>\n",
       "      <th>divorced</th>\n",
       "      <th>not_divorced</th>\n",
       "    </tr>\n",
       "  </thead>\n",
       "  <tbody>\n",
       "    <tr>\n",
       "      <th>0</th>\n",
       "      <td>MD1</td>\n",
       "      <td>39</td>\n",
       "      <td>29</td>\n",
       "      <td>Love</td>\n",
       "      <td>Secondary</td>\n",
       "      <td>113464</td>\n",
       "      <td>Hindu</td>\n",
       "      <td>Rural</td>\n",
       "      <td>Moderate</td>\n",
       "      <td>2</td>\n",
       "      <td>No</td>\n",
       "      <td>NaN</td>\n",
       "      <td>No</td>\n",
       "    </tr>\n",
       "    <tr>\n",
       "      <th>1</th>\n",
       "      <td>MD2</td>\n",
       "      <td>29</td>\n",
       "      <td>34</td>\n",
       "      <td>Arranged</td>\n",
       "      <td>No Education</td>\n",
       "      <td>18682</td>\n",
       "      <td>Jain</td>\n",
       "      <td>Rural</td>\n",
       "      <td>Moderate</td>\n",
       "      <td>0</td>\n",
       "      <td>Yes</td>\n",
       "      <td>Yes</td>\n",
       "      <td>NaN</td>\n",
       "    </tr>\n",
       "    <tr>\n",
       "      <th>2</th>\n",
       "      <td>MD3</td>\n",
       "      <td>15</td>\n",
       "      <td>34</td>\n",
       "      <td>Love</td>\n",
       "      <td>No Education</td>\n",
       "      <td>159455</td>\n",
       "      <td>Muslim</td>\n",
       "      <td>Urban</td>\n",
       "      <td>Moderate</td>\n",
       "      <td>4</td>\n",
       "      <td>Yes</td>\n",
       "      <td>Yes</td>\n",
       "      <td>NaN</td>\n",
       "    </tr>\n",
       "    <tr>\n",
       "      <th>3</th>\n",
       "      <td>MD4</td>\n",
       "      <td>8</td>\n",
       "      <td>27</td>\n",
       "      <td>Arranged</td>\n",
       "      <td>Postgraduate</td>\n",
       "      <td>63160</td>\n",
       "      <td>Jain</td>\n",
       "      <td>Urban</td>\n",
       "      <td>High</td>\n",
       "      <td>1</td>\n",
       "      <td>Yes</td>\n",
       "      <td>Yes</td>\n",
       "      <td>NaN</td>\n",
       "    </tr>\n",
       "    <tr>\n",
       "      <th>4</th>\n",
       "      <td>MD5</td>\n",
       "      <td>21</td>\n",
       "      <td>34</td>\n",
       "      <td>Love</td>\n",
       "      <td>Secondary</td>\n",
       "      <td>28666</td>\n",
       "      <td>Jain</td>\n",
       "      <td>Urban</td>\n",
       "      <td>High</td>\n",
       "      <td>1</td>\n",
       "      <td>Yes</td>\n",
       "      <td>Yes</td>\n",
       "      <td>NaN</td>\n",
       "    </tr>\n",
       "  </tbody>\n",
       "</table>\n",
       "</div>"
      ],
      "text/plain": [
       "  unique_id  marriage_duration_(years)  age_at_marriage marriage_type  \\\n",
       "0       MD1                         39               29          Love   \n",
       "1       MD2                         29               34      Arranged   \n",
       "2       MD3                         15               34          Love   \n",
       "3       MD4                          8               27      Arranged   \n",
       "4       MD5                         21               34          Love   \n",
       "\n",
       "  education_level  income_level_(inr_per_month) caste/religion urban/rural  \\\n",
       "0       Secondary                        113464          Hindu       Rural   \n",
       "1    No Education                         18682           Jain       Rural   \n",
       "2    No Education                        159455         Muslim       Urban   \n",
       "3    Postgraduate                         63160           Jain       Urban   \n",
       "4       Secondary                         28666           Jain       Urban   \n",
       "\n",
       "  family_involvement  children divorce_status divorced not_divorced  \n",
       "0           Moderate         2             No      NaN           No  \n",
       "1           Moderate         0            Yes      Yes          NaN  \n",
       "2           Moderate         4            Yes      Yes          NaN  \n",
       "3               High         1            Yes      Yes          NaN  \n",
       "4               High         1            Yes      Yes          NaN  "
      ]
     },
     "execution_count": 612,
     "metadata": {},
     "output_type": "execute_result"
    }
   ],
   "source": [
    "df.head()"
   ]
  },
  {
   "cell_type": "code",
   "execution_count": 613,
   "metadata": {},
   "outputs": [
    {
     "data": {
      "text/plain": [
       "array(['Rural', 'Urban'], dtype=object)"
      ]
     },
     "execution_count": 613,
     "metadata": {},
     "output_type": "execute_result"
    }
   ],
   "source": [
    "df['urban/rural'].unique()"
   ]
  },
  {
   "cell_type": "code",
   "execution_count": 614,
   "metadata": {},
   "outputs": [
    {
     "data": {
      "text/plain": [
       "np.int64(602)"
      ]
     },
     "execution_count": 614,
     "metadata": {},
     "output_type": "execute_result"
    }
   ],
   "source": [
    "df['urban/rural'][df['urban/rural']== 'Urban'].count()"
   ]
  },
  {
   "cell_type": "code",
   "execution_count": 615,
   "metadata": {},
   "outputs": [
    {
     "data": {
      "text/plain": [
       "np.int64(598)"
      ]
     },
     "execution_count": 615,
     "metadata": {},
     "output_type": "execute_result"
    }
   ],
   "source": [
    "df['urban/rural'][df['urban/rural']== 'Rural'].count()"
   ]
  },
  {
   "cell_type": "code",
   "execution_count": 616,
   "metadata": {},
   "outputs": [
    {
     "data": {
      "text/html": [
       "<div>\n",
       "<style scoped>\n",
       "    .dataframe tbody tr th:only-of-type {\n",
       "        vertical-align: middle;\n",
       "    }\n",
       "\n",
       "    .dataframe tbody tr th {\n",
       "        vertical-align: top;\n",
       "    }\n",
       "\n",
       "    .dataframe thead th {\n",
       "        text-align: right;\n",
       "    }\n",
       "</style>\n",
       "<table border=\"1\" class=\"dataframe\">\n",
       "  <thead>\n",
       "    <tr style=\"text-align: right;\">\n",
       "      <th></th>\n",
       "      <th>divorced</th>\n",
       "    </tr>\n",
       "    <tr>\n",
       "      <th>urban/rural</th>\n",
       "      <th></th>\n",
       "    </tr>\n",
       "  </thead>\n",
       "  <tbody>\n",
       "    <tr>\n",
       "      <th>Urban</th>\n",
       "      <td>194</td>\n",
       "    </tr>\n",
       "    <tr>\n",
       "      <th>Rural</th>\n",
       "      <td>180</td>\n",
       "    </tr>\n",
       "  </tbody>\n",
       "</table>\n",
       "</div>"
      ],
      "text/plain": [
       "             divorced\n",
       "urban/rural          \n",
       "Urban             194\n",
       "Rural             180"
      ]
     },
     "execution_count": 616,
     "metadata": {},
     "output_type": "execute_result"
    }
   ],
   "source": [
    "df8=df.groupby('urban/rural')['divorced'].count().to_frame().sort_values('divorced' , ascending=False)\n",
    "df8"
   ]
  },
  {
   "cell_type": "code",
   "execution_count": 617,
   "metadata": {},
   "outputs": [
    {
     "data": {
      "image/png": "[encoded data removed]",
      "text/plain": [
       "<Figure size 640x480 with 1 Axes>"
      ]
     },
     "metadata": {},
     "output_type": "display_data"
    }
   ],
   "source": [
    "df8.plot(kind='bar' , color='red' , edgecolor='black')\n",
    "plt.title('Divorce status based on the urban or rural living')\n",
    "plt.xlabel('Urban Or Rural')\n",
    "plt.ylabel('Number of Divorced')\n",
    "plt.grid(axis='y' ,linestyle='--' ,alpha=0.7)\n",
    "plt.xticks(rotation=0)\n",
    "plt.tight_layout()\n",
    "plt.show()"
   ]
  },
  {
   "cell_type": "markdown",
   "metadata": {},
   "source": [
    "<span style=\"color: skyblue; font-size: 20px;\">The average divorce rate among people living in urban areas is higher than that of those in rural areas , This result raises many questions about the differences in mindset, lifestyles, and cultural norms and traditions between urban and rural communities.</span>\n",
    "<div style=\"background: linear-gradient(to right,rgb(3, 12, 14),rgb(227, 55, 106)); height: 100px; border: none;\"></div>"
   ]
  }
 ],
 "metadata": {
  "kernelspec": {
   "display_name": "Python 3",
   "language": "python",
   "name": "python3"
  },
  "language_info": {
   "codemirror_mode": {
    "name": "ipython",
    "version": 3
   },
   "file_extension": ".py",
   "mimetype": "text/x-python",
   "name": "python",
   "nbconvert_exporter": "python",
   "pygments_lexer": "ipython3",
   "version": "3.13.0"
  }
 },
 "nbformat": 4,
 "nbformat_minor": 2
}
